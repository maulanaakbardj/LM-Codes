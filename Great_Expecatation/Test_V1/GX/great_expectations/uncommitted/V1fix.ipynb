{
 "cells": [
  {
   "attachments": {},
   "cell_type": "markdown",
   "id": "0ac6d378",
   "metadata": {},
   "source": [
    "# Initialize a new Expectation Suite by profiling a batch of your data.\n",
    "This process helps you avoid writing lots of boilerplate when authoring suites by allowing you to select columns and other factors that you care about and letting a profiler write some candidate expectations for you to adjust.\n",
    "\n",
    "**Expectation Suite Name**: `airbnb.boston.listings.csv`\n"
   ]
  },
  {
   "cell_type": "code",
   "execution_count": 1,
   "id": "0659ac79",
   "metadata": {},
   "outputs": [
    {
     "name": "stderr",
     "output_type": "stream",
     "text": [
      "d:\\Data\\Riset\\LM\\LM-Codes\\Great_Expecatation\\Test_V1\\GX\\my_venv\\lib\\site-packages\\great_expectations\\compatibility\\sqlalchemy.py:20: UserWarning: SQLAlchemy v2.0.0 or later is not yet supported by Great Expectations.\n",
      "  warnings.warn(\n"
     ]
    },
    {
     "name": "stdout",
     "output_type": "stream",
     "text": [
      "2023-05-10T01:06:50+0700 - INFO - Great Expectations logging enabled at 20 level by JupyterUX module.\n",
      "2023-05-10T01:06:50+0700 - INFO - FileDataContext loading fluent config\n",
      "2023-05-10T01:06:50+0700 - INFO - Loading 'datasources' ->\n",
      "[]\n",
      "2023-05-10T01:06:50+0700 - INFO - Loaded 'datasources' ->\n",
      "[]\n"
     ]
    },
    {
     "data": {
      "application/vnd.jupyter.widget-view+json": {
       "model_id": "0863983ff8bc4a87ad17759e69d7cef1",
       "version_major": 2,
       "version_minor": 0
      },
      "text/plain": [
       "Calculating Metrics:   0%|          | 0/2 [00:00<?, ?it/s]"
      ]
     },
     "metadata": {},
     "output_type": "display_data"
    },
    {
     "name": "stdout",
     "output_type": "stream",
     "text": [
      "Columns: \"id\", \"listing_url\", \"scrape_id\", \"last_scraped\", \"name\", \"summary\", \"space\", \"description\", \"experiences_offered\", \"neighborhood_overview\", \"notes\", \"transit\", \"access\", \"interaction\", \"house_rules\", \"thumbnail_url\", \"medium_url\", \"picture_url\", \"xl_picture_url\", \"host_id\", \"host_url\", \"host_name\", \"host_since\", \"host_location\", \"host_about\", \"host_response_time\", \"host_response_rate\", \"host_acceptance_rate\", \"host_is_superhost\", \"host_thumbnail_url\", \"host_picture_url\", \"host_neighbourhood\", \"host_listings_count\", \"host_total_listings_count\", \"host_verifications\", \"host_has_profile_pic\", \"host_identity_verified\", \"street\", \"neighbourhood\", \"neighbourhood_cleansed\", \"neighbourhood_group_cleansed\", \"city\", \"state\", \"zipcode\", \"market\", \"smart_location\", \"country_code\", \"country\", \"latitude\", \"longitude\", \"is_location_exact\", \"property_type\", \"room_type\", \"accommodates\", \"bathrooms\", \"bedrooms\", \"beds\", \"bed_type\", \"amenities\", \"square_feet\", \"price\", \"weekly_price\", \"monthly_price\", \"security_deposit\", \"cleaning_fee\", \"guests_included\", \"extra_people\", \"minimum_nights\", \"maximum_nights\", \"calendar_updated\", \"has_availability\", \"availability_30\", \"availability_60\", \"availability_90\", \"availability_365\", \"calendar_last_scraped\", \"number_of_reviews\", \"first_review\", \"last_review\", \"review_scores_rating\", \"review_scores_accuracy\", \"review_scores_cleanliness\", \"review_scores_checkin\", \"review_scores_communication\", \"review_scores_location\", \"review_scores_value\", \"requires_license\", \"license\", \"jurisdiction_names\", \"instant_bookable\", \"cancellation_policy\", \"require_guest_profile_picture\", \"require_guest_phone_verification\", \"calculated_host_listings_count\", \"reviews_per_month\".\n"
     ]
    },
    {
     "data": {
      "application/vnd.jupyter.widget-view+json": {
       "model_id": "a6b3257afa964a04bda6e1bdfb512006",
       "version_major": 2,
       "version_minor": 0
      },
      "text/plain": [
       "Calculating Metrics:   0%|          | 0/1 [00:00<?, ?it/s]"
      ]
     },
     "metadata": {},
     "output_type": "display_data"
    },
    {
     "data": {
      "text/html": [
       "<div>\n",
       "<style scoped>\n",
       "    .dataframe tbody tr th:only-of-type {\n",
       "        vertical-align: middle;\n",
       "    }\n",
       "\n",
       "    .dataframe tbody tr th {\n",
       "        vertical-align: top;\n",
       "    }\n",
       "\n",
       "    .dataframe thead th {\n",
       "        text-align: right;\n",
       "    }\n",
       "</style>\n",
       "<table border=\"1\" class=\"dataframe\">\n",
       "  <thead>\n",
       "    <tr style=\"text-align: right;\">\n",
       "      <th></th>\n",
       "      <th>id</th>\n",
       "      <th>listing_url</th>\n",
       "      <th>scrape_id</th>\n",
       "      <th>last_scraped</th>\n",
       "      <th>name</th>\n",
       "      <th>summary</th>\n",
       "      <th>space</th>\n",
       "      <th>description</th>\n",
       "      <th>experiences_offered</th>\n",
       "      <th>neighborhood_overview</th>\n",
       "      <th>notes</th>\n",
       "      <th>transit</th>\n",
       "      <th>access</th>\n",
       "      <th>interaction</th>\n",
       "      <th>house_rules</th>\n",
       "      <th>thumbnail_url</th>\n",
       "      <th>medium_url</th>\n",
       "      <th>picture_url</th>\n",
       "      <th>xl_picture_url</th>\n",
       "      <th>host_id</th>\n",
       "      <th>host_url</th>\n",
       "      <th>host_name</th>\n",
       "      <th>host_since</th>\n",
       "      <th>host_location</th>\n",
       "      <th>host_about</th>\n",
       "      <th>host_response_time</th>\n",
       "      <th>host_response_rate</th>\n",
       "      <th>host_acceptance_rate</th>\n",
       "      <th>host_is_superhost</th>\n",
       "      <th>host_thumbnail_url</th>\n",
       "      <th>host_picture_url</th>\n",
       "      <th>host_neighbourhood</th>\n",
       "      <th>host_listings_count</th>\n",
       "      <th>host_total_listings_count</th>\n",
       "      <th>host_verifications</th>\n",
       "      <th>host_has_profile_pic</th>\n",
       "      <th>host_identity_verified</th>\n",
       "      <th>street</th>\n",
       "      <th>neighbourhood</th>\n",
       "      <th>neighbourhood_cleansed</th>\n",
       "      <th>neighbourhood_group_cleansed</th>\n",
       "      <th>city</th>\n",
       "      <th>state</th>\n",
       "      <th>zipcode</th>\n",
       "      <th>market</th>\n",
       "      <th>smart_location</th>\n",
       "      <th>country_code</th>\n",
       "      <th>country</th>\n",
       "      <th>latitude</th>\n",
       "      <th>longitude</th>\n",
       "      <th>is_location_exact</th>\n",
       "      <th>property_type</th>\n",
       "      <th>room_type</th>\n",
       "      <th>accommodates</th>\n",
       "      <th>bathrooms</th>\n",
       "      <th>bedrooms</th>\n",
       "      <th>beds</th>\n",
       "      <th>bed_type</th>\n",
       "      <th>amenities</th>\n",
       "      <th>square_feet</th>\n",
       "      <th>price</th>\n",
       "      <th>weekly_price</th>\n",
       "      <th>monthly_price</th>\n",
       "      <th>security_deposit</th>\n",
       "      <th>cleaning_fee</th>\n",
       "      <th>guests_included</th>\n",
       "      <th>extra_people</th>\n",
       "      <th>minimum_nights</th>\n",
       "      <th>maximum_nights</th>\n",
       "      <th>calendar_updated</th>\n",
       "      <th>has_availability</th>\n",
       "      <th>availability_30</th>\n",
       "      <th>availability_60</th>\n",
       "      <th>availability_90</th>\n",
       "      <th>availability_365</th>\n",
       "      <th>calendar_last_scraped</th>\n",
       "      <th>number_of_reviews</th>\n",
       "      <th>first_review</th>\n",
       "      <th>last_review</th>\n",
       "      <th>review_scores_rating</th>\n",
       "      <th>review_scores_accuracy</th>\n",
       "      <th>review_scores_cleanliness</th>\n",
       "      <th>review_scores_checkin</th>\n",
       "      <th>review_scores_communication</th>\n",
       "      <th>review_scores_location</th>\n",
       "      <th>review_scores_value</th>\n",
       "      <th>requires_license</th>\n",
       "      <th>license</th>\n",
       "      <th>jurisdiction_names</th>\n",
       "      <th>instant_bookable</th>\n",
       "      <th>cancellation_policy</th>\n",
       "      <th>require_guest_profile_picture</th>\n",
       "      <th>require_guest_phone_verification</th>\n",
       "      <th>calculated_host_listings_count</th>\n",
       "      <th>reviews_per_month</th>\n",
       "    </tr>\n",
       "  </thead>\n",
       "  <tbody>\n",
       "    <tr>\n",
       "      <th>0</th>\n",
       "      <td>12147973</td>\n",
       "      <td>https://www.airbnb.com/rooms/12147973</td>\n",
       "      <td>20160906204935</td>\n",
       "      <td>2016-09-07</td>\n",
       "      <td>Sunny Bungalow in the City</td>\n",
       "      <td>Cozy, sunny, family home.  Master bedroom high ceilings. Deck, garden with hens, beehives &amp; play structure.   Short walk to charming village with  attractive stores, groceries &amp; local restaurants. Friendly neighborhood. Access public transportation.</td>\n",
       "      <td>The house has an open and cozy feel at the same time.  The living room has a flat screen TV.  The kitchen has all you need for cooking.  We prefer you buy your food but can use the organic oils, herbs, etc.   The yard can be seen from sitting room and when the weather allows, the yard is a place children can lose themselves in a safe way.  We have 2 bee hives, 6 hens fenced in (sometimes they get out of their coop area &amp; into the yard), 2 rabbits in a hutch and play structure.</td>\n",
       "      <td>Cozy, sunny, family home.  Master bedroom high ceilings. Deck, garden with hens, beehives &amp; play structure.   Short walk to charming village with  attractive stores, groceries &amp; local restaurants. Friendly neighborhood. Access public transportation. The house has an open and cozy feel at the same time.  The living room has a flat screen TV.  The kitchen has all you need for cooking.  We prefer you buy your food but can use the organic oils, herbs, etc.   The yard can be seen from sitting room and when the weather allows, the yard is a place children can lose themselves in a safe way.  We have 2 bee hives, 6 hens fenced in (sometimes they get out of their coop area &amp; into the yard), 2 rabbits in a hutch and play structure. You will have access to 2 bedrooms, a living room, kitchen, bathrooms, and yard. Roslindale is quiet, convenient and friendly.  For Southern food try Redd's in Rozzie.  Italian Delfino's or Sophia's Grotto are great. Birch St Bistro has nice atmostphere--a little pric</td>\n",
       "      <td>none</td>\n",
       "      <td>Roslindale is quiet, convenient and friendly.  For Southern food try Redd's in Rozzie.  Italian Delfino's or Sophia's Grotto are great. Birch St Bistro has nice atmostphere--a little pricier.   If you are cooking the Fish Market has fresh fish daily; Tony's makes his own sausages and has Italian foods;  for  a wide variety of delicious cheeses and chocolates go to the Cheese Cellar on Birch St.</td>\n",
       "      <td>NaN</td>\n",
       "      <td>The bus stop is 2 blocks away, and frequent. Bus is about a 10 minute ride to the Orange line, forest hills. The commuter rail into down town is a 6 minute walk from our home.  Walking is pleasant and restaurants, shops and grocery store are all a 6 minute walk away.</td>\n",
       "      <td>You will have access to 2 bedrooms, a living room, kitchen, bathrooms, and yard.</td>\n",
       "      <td>NaN</td>\n",
       "      <td>Clean up and treat the home the way you'd like your home to be treated.  No smoking.</td>\n",
       "      <td>https://a2.muscache.com/im/pictures/c0842db1-ee98-4fe8-870b-d1e2af33855d.jpg?aki_policy=small</td>\n",
       "      <td>https://a2.muscache.com/im/pictures/c0842db1-ee98-4fe8-870b-d1e2af33855d.jpg?aki_policy=medium</td>\n",
       "      <td>https://a2.muscache.com/im/pictures/c0842db1-ee98-4fe8-870b-d1e2af33855d.jpg?aki_policy=large</td>\n",
       "      <td>https://a2.muscache.com/im/pictures/c0842db1-ee98-4fe8-870b-d1e2af33855d.jpg?aki_policy=x_large</td>\n",
       "      <td>31303940</td>\n",
       "      <td>https://www.airbnb.com/users/show/31303940</td>\n",
       "      <td>Virginia</td>\n",
       "      <td>2015-04-15</td>\n",
       "      <td>Boston, Massachusetts, United States</td>\n",
       "      <td>We are country and city connecting in our deck and garden. Enjoy our music room, books and flat screen TV with the pastoral backyard of hens, bees, rabbits and an organic garden.</td>\n",
       "      <td>NaN</td>\n",
       "      <td>NaN</td>\n",
       "      <td>NaN</td>\n",
       "      <td>f</td>\n",
       "      <td>https://a2.muscache.com/im/pictures/5936fef0-ba16-45bd-ac33-9226137d0763.jpg?aki_policy=profile_small</td>\n",
       "      <td>https://a2.muscache.com/im/pictures/5936fef0-ba16-45bd-ac33-9226137d0763.jpg?aki_policy=profile_x_medium</td>\n",
       "      <td>Roslindale</td>\n",
       "      <td>1</td>\n",
       "      <td>1</td>\n",
       "      <td>['email', 'phone', 'facebook', 'reviews']</td>\n",
       "      <td>t</td>\n",
       "      <td>f</td>\n",
       "      <td>Birch Street, Boston, MA 02131, United States</td>\n",
       "      <td>Roslindale</td>\n",
       "      <td>Roslindale</td>\n",
       "      <td>NaN</td>\n",
       "      <td>Boston</td>\n",
       "      <td>MA</td>\n",
       "      <td>02131</td>\n",
       "      <td>Boston</td>\n",
       "      <td>Boston, MA</td>\n",
       "      <td>US</td>\n",
       "      <td>United States</td>\n",
       "      <td>42.282619</td>\n",
       "      <td>-71.133068</td>\n",
       "      <td>t</td>\n",
       "      <td>House</td>\n",
       "      <td>Entire home/apt</td>\n",
       "      <td>4</td>\n",
       "      <td>1.5</td>\n",
       "      <td>2.0</td>\n",
       "      <td>3.0</td>\n",
       "      <td>Real Bed</td>\n",
       "      <td>{TV,\"Wireless Internet\",Kitchen,\"Free Parking on Premises\",\"Pets live on this property\",Dog(s),Heating,\"Family/Kid Friendly\",Washer,Dryer,\"Smoke Detector\",\"Fire Extinguisher\",Essentials,Shampoo,\"Laptop Friendly Workspace\"}</td>\n",
       "      <td>NaN</td>\n",
       "      <td>$250.00</td>\n",
       "      <td>NaN</td>\n",
       "      <td>NaN</td>\n",
       "      <td>NaN</td>\n",
       "      <td>$35.00</td>\n",
       "      <td>1</td>\n",
       "      <td>$0.00</td>\n",
       "      <td>2</td>\n",
       "      <td>1125</td>\n",
       "      <td>2 weeks ago</td>\n",
       "      <td>NaN</td>\n",
       "      <td>0</td>\n",
       "      <td>0</td>\n",
       "      <td>0</td>\n",
       "      <td>0</td>\n",
       "      <td>2016-09-06</td>\n",
       "      <td>0</td>\n",
       "      <td>NaN</td>\n",
       "      <td>NaN</td>\n",
       "      <td>NaN</td>\n",
       "      <td>NaN</td>\n",
       "      <td>NaN</td>\n",
       "      <td>NaN</td>\n",
       "      <td>NaN</td>\n",
       "      <td>NaN</td>\n",
       "      <td>NaN</td>\n",
       "      <td>f</td>\n",
       "      <td>NaN</td>\n",
       "      <td>NaN</td>\n",
       "      <td>f</td>\n",
       "      <td>moderate</td>\n",
       "      <td>f</td>\n",
       "      <td>f</td>\n",
       "      <td>1</td>\n",
       "      <td>NaN</td>\n",
       "    </tr>\n",
       "    <tr>\n",
       "      <th>1</th>\n",
       "      <td>3075044</td>\n",
       "      <td>https://www.airbnb.com/rooms/3075044</td>\n",
       "      <td>20160906204935</td>\n",
       "      <td>2016-09-07</td>\n",
       "      <td>Charming room in pet friendly apt</td>\n",
       "      <td>Charming and quiet room in a second floor 1910 condo building. The room has a full size bed, darkening curtains, window A/C unit. It's quiet because it's in the back of the house. Shared bathroom. Guests can use kitchen, living room. Pet friendly.</td>\n",
       "      <td>Small but cozy and quite room with a full size bed. Ample street parking.</td>\n",
       "      <td>Charming and quiet room in a second floor 1910 condo building. The room has a full size bed, darkening curtains, window A/C unit. It's quiet because it's in the back of the house. Shared bathroom. Guests can use kitchen, living room. Pet friendly. Small but cozy and quite room with a full size bed. Ample street parking. Apt has one more bedroom (which I use) and large living space and kitchen that you can use.  Possibility to do laundry. Two porches. If I am at home, I am likely working in my home office, which is a separate room. I can help you settle in and give you tips and directions on the neighborhood and Boston.  The room is in Roslindale, a diverse and primarily residential neighborhood of Boston. It's well connected via public transportation to other neighborhoods and easy to access by car. Roslindale Square is a nice business district with supermarkets. banks, a bakery, etc. (See my Guidebook for some recommendations). The Arnold Arboretum is just steps away. Plenty of safe s</td>\n",
       "      <td>none</td>\n",
       "      <td>The room is in Roslindale, a diverse and primarily residential neighborhood of Boston. It's well connected via public transportation to other neighborhoods and easy to access by car. Roslindale Square is a nice business district with supermarkets. banks, a bakery, etc. (See my Guidebook for some recommendations). The Arnold Arboretum is just steps away.</td>\n",
       "      <td>If you don't have a US cell phone, you can text me using (SENSITIVE CONTENTS HIDDEN).</td>\n",
       "      <td>Plenty of safe street parking. Bus stops a few hundred feet from home. Buses 35, 36, or 37 will take you to the Forest Hills subway station is approximately 10 minutes. The buses are frequent during the week, less frequent during the weekend. However, many more buses leave Roslindale Sq., which is just 5 minutes away. Commuter rail is also down the road: more expensive but will take you downtown (Copley and South Station) in less than 20 minutes. Does not run on Sundays. The station is Roslindale Village on the Needham Heights line.</td>\n",
       "      <td>Apt has one more bedroom (which I use) and large living space and kitchen that you can use.  Possibility to do laundry. Two porches.</td>\n",
       "      <td>If I am at home, I am likely working in my home office, which is a separate room. I can help you settle in and give you tips and directions on the neighborhood and Boston.</td>\n",
       "      <td>Pet friendly but please confirm with me if the pet you are planning on bringing with you is OK. I have a cute and quiet mixed chihuahua. I could accept more guests (for an extra fee) but this also needs to be confirmed beforehand. Also friends traveling together could sleep in separate beds for an extra fee (the second bed is either a sofa bed or inflatable bed). Smoking is only allowed on the porch.</td>\n",
       "      <td>https://a1.muscache.com/im/pictures/39327812/df0f1aab_original.jpg?aki_policy=small</td>\n",
       "      <td>https://a1.muscache.com/im/pictures/39327812/df0f1aab_original.jpg?aki_policy=medium</td>\n",
       "      <td>https://a1.muscache.com/im/pictures/39327812/df0f1aab_original.jpg?aki_policy=large</td>\n",
       "      <td>https://a1.muscache.com/im/pictures/39327812/df0f1aab_original.jpg?aki_policy=x_large</td>\n",
       "      <td>2572247</td>\n",
       "      <td>https://www.airbnb.com/users/show/2572247</td>\n",
       "      <td>Andrea</td>\n",
       "      <td>2012-06-07</td>\n",
       "      <td>Boston, Massachusetts, United States</td>\n",
       "      <td>I live in Boston and I like to travel and have travelers staying at my place.</td>\n",
       "      <td>within an hour</td>\n",
       "      <td>100%</td>\n",
       "      <td>100%</td>\n",
       "      <td>f</td>\n",
       "      <td>https://a2.muscache.com/im/users/2572247/profile_pic/1442235897/original.jpg?aki_policy=profile_small</td>\n",
       "      <td>https://a2.muscache.com/im/users/2572247/profile_pic/1442235897/original.jpg?aki_policy=profile_x_medium</td>\n",
       "      <td>Roslindale</td>\n",
       "      <td>1</td>\n",
       "      <td>1</td>\n",
       "      <td>['email', 'phone', 'facebook', 'linkedin', 'amex', 'reviews', 'jumio']</td>\n",
       "      <td>t</td>\n",
       "      <td>t</td>\n",
       "      <td>Pinehurst Street, Boston, MA 02131, United States</td>\n",
       "      <td>Roslindale</td>\n",
       "      <td>Roslindale</td>\n",
       "      <td>NaN</td>\n",
       "      <td>Boston</td>\n",
       "      <td>MA</td>\n",
       "      <td>02131</td>\n",
       "      <td>Boston</td>\n",
       "      <td>Boston, MA</td>\n",
       "      <td>US</td>\n",
       "      <td>United States</td>\n",
       "      <td>42.286241</td>\n",
       "      <td>-71.134374</td>\n",
       "      <td>t</td>\n",
       "      <td>Apartment</td>\n",
       "      <td>Private room</td>\n",
       "      <td>2</td>\n",
       "      <td>1.0</td>\n",
       "      <td>1.0</td>\n",
       "      <td>1.0</td>\n",
       "      <td>Real Bed</td>\n",
       "      <td>{TV,Internet,\"Wireless Internet\",\"Air Conditioning\",Kitchen,\"Pets Allowed\",\"Pets live on this property\",Dog(s),Heating,\"Family/Kid Friendly\",Washer,Dryer,\"Smoke Detector\",\"Carbon Monoxide Detector\",\"Fire Extinguisher\",Essentials,Shampoo,\"Lock on Bedroom Door\",Hangers,\"Hair Dryer\",Iron}</td>\n",
       "      <td>NaN</td>\n",
       "      <td>$65.00</td>\n",
       "      <td>$400.00</td>\n",
       "      <td>NaN</td>\n",
       "      <td>$95.00</td>\n",
       "      <td>$10.00</td>\n",
       "      <td>0</td>\n",
       "      <td>$0.00</td>\n",
       "      <td>2</td>\n",
       "      <td>15</td>\n",
       "      <td>a week ago</td>\n",
       "      <td>NaN</td>\n",
       "      <td>26</td>\n",
       "      <td>54</td>\n",
       "      <td>84</td>\n",
       "      <td>359</td>\n",
       "      <td>2016-09-06</td>\n",
       "      <td>36</td>\n",
       "      <td>2014-06-01</td>\n",
       "      <td>2016-08-13</td>\n",
       "      <td>94.0</td>\n",
       "      <td>10.0</td>\n",
       "      <td>9.0</td>\n",
       "      <td>10.0</td>\n",
       "      <td>10.0</td>\n",
       "      <td>9.0</td>\n",
       "      <td>9.0</td>\n",
       "      <td>f</td>\n",
       "      <td>NaN</td>\n",
       "      <td>NaN</td>\n",
       "      <td>t</td>\n",
       "      <td>moderate</td>\n",
       "      <td>f</td>\n",
       "      <td>f</td>\n",
       "      <td>1</td>\n",
       "      <td>1.30</td>\n",
       "    </tr>\n",
       "    <tr>\n",
       "      <th>2</th>\n",
       "      <td>6976</td>\n",
       "      <td>https://www.airbnb.com/rooms/6976</td>\n",
       "      <td>20160906204935</td>\n",
       "      <td>2016-09-07</td>\n",
       "      <td>Mexican Folk Art Haven in Boston</td>\n",
       "      <td>Come stay with a friendly, middle-aged guy in the safe and quiet Roslindale neighborhood of Boston. You will have you own clean, furnished room (with cable TV, Wi-Fi, and a desk to work at) in an apartment that is filled with Mexican folk art.</td>\n",
       "      <td>Come stay with a friendly, middle-aged guy in the safe and quiet Roslindale neighborhood of Boston. You will have you own clean, furnished room (with cable TV, Wi-Fi, and a desk to work at) in an apartment that is filled with Mexican folk art. This is a well-maintained two-family house built in the 1940s. My apartment is on the second floor. This is a pet and smoke-free apartment.   PRICE: Price includes ALL utilities (heat, electricity, Wi-Fi, cable TV, air conditioner), parking in street, and use of back yard. NO SMOKING indoors or outside. Note that the bed is a size \"Full\" mattress, not a Queen or a King. This is ideal for one guest, but if it is two people traveling together, you can fit two in the bed, or the second person can sleep in the living room, on the long couch. (Not a fold-out couch, but comfortable). Additional fee for the second person is $20. The price listed is for one person.  I offer discounted rates for stays of one week or longer.   Guests get free coffee and a</td>\n",
       "      <td>Come stay with a friendly, middle-aged guy in the safe and quiet Roslindale neighborhood of Boston. You will have you own clean, furnished room (with cable TV, Wi-Fi, and a desk to work at) in an apartment that is filled with Mexican folk art. This is a well-maintained two-family house built in the 1940s. My apartment is on the second floor. This is a pet and smoke-free apartment.   PRICE: Price includes ALL utilities (heat, electricity, Wi-Fi, cable TV, air conditioner), parking in street, and use of back yard. NO SMOKING indoors or outside. Note that the bed is a size \"Full\" mattress, not a Queen or a King. This is ideal for one guest, but if it is two people traveling together, you can fit two in the bed, or the second person can sleep in the living room, on the long couch. (Not a fold-out couch, but comfortable). Additional fee for the second person is $20. The price listed is for one person.  I offer discounted rates for stays of one week or longer.   Guests get free coffee and a</td>\n",
       "      <td>none</td>\n",
       "      <td>The LOCATION: Roslindale is a safe and diverse Boston neighborhood located between Jamaica Plain and West Roxbury. This apartment is on Ardale Street, a quiet side street off Centre Street.  This is about one-half mile from Faulkner Hospital, walking distance to the renowned Arnold Arboretum park (look for it on (SENSITIVE CONTENTS HIDDEN)), and about 20-minute drive to the Longwood Medical Center area. I have easy, restriction-free, on-street parking here, and a back yard. Just one block from the house, there is a 7-11 convenience store, a dry-cleaner, a Mexican restaurant, a pizza parlor, a popular sports bar and grill (similar to an Irish Pub), and another restaurant for breakfast and lunch.  The house is located 1/2 mile from Roslindale Square where you will find more restaurants, 4 bakeries, the public library and the post office. There is a superb farmers market here every Saturday. The fast-train to downtown Boston stops there, too.</td>\n",
       "      <td>I am in a scenic part of Boston with a couple big parks nearby, and Jamaica Pond, where you can rent a sail boat or jog the paved perimeter path, within a mile away. Here is a clue to my personality:  Favorite singers are Judy Collins, Ari Hest, Miguel Bose and the British rock band, James. My top favorite places to travel to are Oaxaca, Mexico and Budapest, Hungary. In years gone by, I have had repeated trips to Paris and to Tunisia, also. These days I am mostly home, spending a lot of time in front of my iMac, writing copy, filling orders or coding for websites.</td>\n",
       "      <td>PUBLIC TRANSPORTATION: From the house, quick public transportation to Forest Hills station (Orange Line and Commuter Rail) is via two nearby MBTA bus lines. The #38 bus stops one-half block away, and takes you past the Faulkner, then to Jamaica Plain and Forest Hills.  The #51 bus stops one block away, and goes a more direct route to Forest Hills. (The bus also goes to Cleveland Circle in Brookline.) Between the two bus lines, there is a bus that stops here every 15 minutes or so on weekdays; but no service on Sunday. ALSO, the apartment is just 1/2 mile walk to the Roslindale Village MBTA commuter rail stop, Needham Line. The train takes you to Ruggles Station at Northeastern Univ., to Back Bay station and to South Station in downtown Boston, in about 15 minutes time.  There are more city busses, running 7 days a week, from this MBTA rail station. You can also pick up ZIP Cars there.  GETTING HERE FROM LOGAN AIRPORT: By public transportation: You take the free shuttle bus at the airpo</td>\n",
       "      <td>I am living in the apartment during your stay, and I work from home, so I'm there most of the time.  Guests are welcome to use the kitchen and all cooking utensils, refrigerator, etc. I have a gas stove, toaster oven, microwave, convection oven and a pressure cooker! I have a backyard garden, so if you are here during August and September, be prepared for tomatoes and cucumbers! In addition to your personal room, you can also use the living room which includes a 32-inch HDTV with an Apple TV connection.  The bathroom, adjacent to your room, is shared.  The only room that is off limits is my bedroom on the opposite side of the apartment. I have a clothes washer and dryer in the basement for your use.</td>\n",
       "      <td>ABOUT ME: I'm a laid-back, friendly, unmarried guy. I work from home, spending a lot of time on the computer. I have an website that sells handmade things from Mexico. It is called \"Viva Oaxaca Folk Art.\" You will see lots of folk art in the apartment. I also run websites for other small companies. I don’t smoke, don’t have overnight guests. I keep regular hours, am friendly, considerate and quiet. I am one of the original Boston AIRBNB hosts, having signed-up with them in 2008.   I am a big traveler myself, and I love hearing stories of where guests have been or where they are heading to next.</td>\n",
       "      <td>I encourage you to use my kitchen, cooking and laundry facilities. There is no additional charge to use the washer/dryer in the basement.  No smoking, inside or outside. Come home as late as you want.  If you come home stumbling drunk, it's OK the first time. If you do it again, and you wake up me or the neighbors downstairs, we will be annoyed.  (Just so you know . . . )</td>\n",
       "      <td>https://a2.muscache.com/im/pictures/6ae8335d-91e6-4598-b380-3129db624df3.jpg?aki_policy=small</td>\n",
       "      <td>https://a2.muscache.com/im/pictures/6ae8335d-91e6-4598-b380-3129db624df3.jpg?aki_policy=medium</td>\n",
       "      <td>https://a2.muscache.com/im/pictures/6ae8335d-91e6-4598-b380-3129db624df3.jpg?aki_policy=large</td>\n",
       "      <td>https://a2.muscache.com/im/pictures/6ae8335d-91e6-4598-b380-3129db624df3.jpg?aki_policy=x_large</td>\n",
       "      <td>16701</td>\n",
       "      <td>https://www.airbnb.com/users/show/16701</td>\n",
       "      <td>Phil</td>\n",
       "      <td>2009-05-11</td>\n",
       "      <td>Boston, Massachusetts, United States</td>\n",
       "      <td>I am a middle-aged, single male with a wide range of interests and creative outlets.  I have traveled frequently, in much of the world, especially central Europe, including Hungary and Slovakia. In recent years I have had many trips to Mexico, where I buy folk art for my online business, called Viva Oaxaca Folk Art. I love meeting new people, especially travelers with stories to tell.  \\r\\n\\r\\nIn addition to the above, I run web sites for small companies, including a physical therapy practice, a cancer treatment center and a colonial era historic house and museum. \\r\\n\\r\\nIn the 1980s, I was a publicist and concert producer, and have presented many concerts with Judy Collins, as well as with Ella Fitzgerald, Laura Nyro, Tom Rush, Barbara Cook and Karen Akers. Now I run a channel on YouTube called \"beta.hifi.archive\" that is a collection of 50 years of video clips from the career of Judy Collins. \\r\\n\\r\\nSo come to Boston, and stay with me. Enjoy some tomatoes and cucumbers from my garden, explore my world of Mexican folk art, and let's talk about our travel adventures.\\r\\n</td>\n",
       "      <td>within a few hours</td>\n",
       "      <td>100%</td>\n",
       "      <td>88%</td>\n",
       "      <td>t</td>\n",
       "      <td>https://a2.muscache.com/im/users/16701/profile_pic/1393434148/original.jpg?aki_policy=profile_small</td>\n",
       "      <td>https://a2.muscache.com/im/users/16701/profile_pic/1393434148/original.jpg?aki_policy=profile_x_medium</td>\n",
       "      <td>Roslindale</td>\n",
       "      <td>1</td>\n",
       "      <td>1</td>\n",
       "      <td>['email', 'phone', 'reviews', 'jumio']</td>\n",
       "      <td>t</td>\n",
       "      <td>t</td>\n",
       "      <td>Ardale St., Boston, MA 02131, United States</td>\n",
       "      <td>Roslindale</td>\n",
       "      <td>Roslindale</td>\n",
       "      <td>NaN</td>\n",
       "      <td>Boston</td>\n",
       "      <td>MA</td>\n",
       "      <td>02131</td>\n",
       "      <td>Boston</td>\n",
       "      <td>Boston, MA</td>\n",
       "      <td>US</td>\n",
       "      <td>United States</td>\n",
       "      <td>42.292438</td>\n",
       "      <td>-71.135765</td>\n",
       "      <td>t</td>\n",
       "      <td>Apartment</td>\n",
       "      <td>Private room</td>\n",
       "      <td>2</td>\n",
       "      <td>1.0</td>\n",
       "      <td>1.0</td>\n",
       "      <td>1.0</td>\n",
       "      <td>Real Bed</td>\n",
       "      <td>{TV,\"Cable TV\",\"Wireless Internet\",\"Air Conditioning\",Kitchen,\"Free Parking on Premises\",Heating,Washer,Dryer,\"Smoke Detector\",\"Carbon Monoxide Detector\",\"First Aid Kit\",\"Safety Card\",Essentials,Shampoo,\"Lock on Bedroom Door\",\"translation missing: en.hosting_amenity_49\",\"translation missing: en.hosting_amenity_50\"}</td>\n",
       "      <td>NaN</td>\n",
       "      <td>$65.00</td>\n",
       "      <td>$395.00</td>\n",
       "      <td>$1,350.00</td>\n",
       "      <td>NaN</td>\n",
       "      <td>NaN</td>\n",
       "      <td>1</td>\n",
       "      <td>$20.00</td>\n",
       "      <td>3</td>\n",
       "      <td>45</td>\n",
       "      <td>5 days ago</td>\n",
       "      <td>NaN</td>\n",
       "      <td>19</td>\n",
       "      <td>46</td>\n",
       "      <td>61</td>\n",
       "      <td>319</td>\n",
       "      <td>2016-09-06</td>\n",
       "      <td>41</td>\n",
       "      <td>2009-07-19</td>\n",
       "      <td>2016-08-05</td>\n",
       "      <td>98.0</td>\n",
       "      <td>10.0</td>\n",
       "      <td>9.0</td>\n",
       "      <td>10.0</td>\n",
       "      <td>10.0</td>\n",
       "      <td>9.0</td>\n",
       "      <td>10.0</td>\n",
       "      <td>f</td>\n",
       "      <td>NaN</td>\n",
       "      <td>NaN</td>\n",
       "      <td>f</td>\n",
       "      <td>moderate</td>\n",
       "      <td>t</td>\n",
       "      <td>f</td>\n",
       "      <td>1</td>\n",
       "      <td>0.47</td>\n",
       "    </tr>\n",
       "    <tr>\n",
       "      <th>3</th>\n",
       "      <td>1436513</td>\n",
       "      <td>https://www.airbnb.com/rooms/1436513</td>\n",
       "      <td>20160906204935</td>\n",
       "      <td>2016-09-07</td>\n",
       "      <td>Spacious Sunny Bedroom Suite in Historic Home</td>\n",
       "      <td>Come experience the comforts of home away from home in our fabulous bedroom suite available in Roslindale, a neighborhood in Boston.  Enjoy sleeping on a large king sized bed with plush down bedding, access to a dishwasher, washer dryer and home gym. The house is incredibly accessible to public transportation and the center of Boston. Free street parking is available right in front of the house. Weekend farmers markets, restaurants and grocery stores are a 10 min walk away from the house.</td>\n",
       "      <td>Most places you find in Boston are small however our bedroom suite is large. The bedroom has plush down pillows and a down comforter. The mattress is fitted with a memory foam topper that gives each guest the best sleep. The leather couches are cozy.  The large leather couch can be converted to a bed. The television has been updated to a smart tv therefore you can access most tv programs through there including, HBO, Showtime and Cinemax. If you want to enjoy cable television, there is a tv in the kitchen. The kitchen has a gas burner, dishwasher, garbage disposal, music system, and a space in the fridge to keep your items.</td>\n",
       "      <td>Come experience the comforts of home away from home in our fabulous bedroom suite available in Roslindale, a neighborhood in Boston.  Enjoy sleeping on a large king sized bed with plush down bedding, access to a dishwasher, washer dryer and home gym. The house is incredibly accessible to public transportation and the center of Boston. Free street parking is available right in front of the house. Weekend farmers markets, restaurants and grocery stores are a 10 min walk away from the house. Most places you find in Boston are small however our bedroom suite is large. The bedroom has plush down pillows and a down comforter. The mattress is fitted with a memory foam topper that gives each guest the best sleep. The leather couches are cozy.  The large leather couch can be converted to a bed. The television has been updated to a smart tv therefore you can access most tv programs through there including, HBO, Showtime and Cinemax. If you want to enjoy cable television, there is a tv in the kit</td>\n",
       "      <td>none</td>\n",
       "      <td>Roslindale is a lovely little neighborhood located right in the city of Boston.  Though a part of the actual city, once you enter it, you feel as though you have escaped to a suburb with friendly neighbors.  The area is conveniently located with access to the city’s bus and subway system.  The Orange Line and Commuter Rail services connect the area to the heart of Boston and the neighboring towns.  It is situated close to shops, restaurants, grocery stores, parks and neighboring towns.  The farmer’s market held in the neighborhood’s center, Roslindale Village, and goes on all summer on Saturday morning.  Vendors of all different types of arts, crafts, and foods come to the neighborhood.  The Arnold Arboretum is a 265 acre park constructed as part of Frederick Law Olmsted’s Emerald Necklace project to provide Boston a connection through neighborhoods through it’s parks.  Jamaica Pond is also part of the emerald necklace which sits at the confluence of Jamaica Plain (a neighboring neighb</td>\n",
       "      <td>Please be mindful of the property as it is old and needs to be treated with the love and care you would give to your own home.  We really hope you enjoy your stay!</td>\n",
       "      <td>There are buses that stop right in front of the house and down the street. We are a convenient bus ride away from the forest hills MBTA stop which is the subway system in Boston. There's free street parking all around the house should you have a car.</td>\n",
       "      <td>The basement has a washer dryer and gym area. There is a smart TV you can use while in the gym.  Your iPhone can be hooked up to the speakers in the treadmill.  Also, there's a weight bench, weights, and a boxing bag.  On the ground floor, you will have access to the kitchen and sunroom.  There is a designated drawer with pots and pans, utensils and dishes you can use.  The formal living room and dining room are permissible for light usage only. Please do not take any food or drink into these areas other than water. On the 2nd floor, you will have access to your bedroom, attached living room and detached bathroom which is shared.  The trash is located in the kitchen and the recycling bins are located to the left of the dishwasher. Additional trash liners are provided under the sink should you need them. The trash barrels are located in front of the garage should the trash bins get full and you need to throw your garbage out. The blue bin is for recycling.</td>\n",
       "      <td>We do live in the house therefore might be some interaction.  The house is large so it allows the people within it to interact as little or as much as is preferred.  During the weekends, we are less likely to be at home especially during the day.  Some weekends, we may not even be there at all.  Upon your booking we will be able to tell you whether or not we will be there so that you will know what to expect.  We respect the privacy of our guests so we will interact as much or as little with you as you would like.  It is all based on your preference.</td>\n",
       "      <td>- The bathroom and house are shared so please respect the privacy of others living in the home.  The sunroom and the patio in the yard are available for you to use.  There is a Keurig in the Kitchen is free for you to use.  There is a washer and dryer in the basement which you can use.  The formal living or dining areas are available for light use only.  You may only take water into these areas.  Please do not take food into any part of the house other than the kitchen, sunroom or back patio.  Additional guests to the ones already committed to staying on the premises is not permitted.</td>\n",
       "      <td>https://a2.muscache.com/im/pictures/39764190-16f9-4726-bf6a-2027ff35865c.jpg?aki_policy=small</td>\n",
       "      <td>https://a2.muscache.com/im/pictures/39764190-16f9-4726-bf6a-2027ff35865c.jpg?aki_policy=medium</td>\n",
       "      <td>https://a2.muscache.com/im/pictures/39764190-16f9-4726-bf6a-2027ff35865c.jpg?aki_policy=large</td>\n",
       "      <td>https://a2.muscache.com/im/pictures/39764190-16f9-4726-bf6a-2027ff35865c.jpg?aki_policy=x_large</td>\n",
       "      <td>6031442</td>\n",
       "      <td>https://www.airbnb.com/users/show/6031442</td>\n",
       "      <td>Meghna</td>\n",
       "      <td>2013-04-21</td>\n",
       "      <td>Boston, Massachusetts, United States</td>\n",
       "      <td>My husband and I live on the property.  He’s a lawyer and I work as an hospital administration.  We have an additional housemate who lives there during the week but is usually away on the weekends.  We absolutely love having guests over because it makes our big house feel full.  We love reading, watching movies, listening to music, going to concerts, traveling, eating new and different kinds of food and exploring in general.  In addition, I enjoy singing as my hobby.  \\r\\n\\r\\nWe want you too feel at home while you are staying with us.  If we are at the house during your visit, we will provide you with breakfast treats and be there to assist you with any of your needs.  The house if often empty on weekends as we all enjoy spending time outside doing activities, meeting friends/family or traveling.  If we are present, we can provide a hot breakfast but if not, cereal, bread, butter, jam, eggs and milk along with pancake mix will be available.  We will provide a list of contacts you can contact if we are not at home.  Our house is incredibly comfortable and we hope you enjoy the experience of sleeping on the beautiful king sized bed with plush down bedding.  We also hope you enjoy access to the movie channels on the Smart TV which is in the living area attached to your bedroom.</td>\n",
       "      <td>within a few hours</td>\n",
       "      <td>100%</td>\n",
       "      <td>50%</td>\n",
       "      <td>f</td>\n",
       "      <td>https://a2.muscache.com/im/pictures/5d430cde-7eb2-4ab7-980a-ef07781cd38c.jpg?aki_policy=profile_small</td>\n",
       "      <td>https://a2.muscache.com/im/pictures/5d430cde-7eb2-4ab7-980a-ef07781cd38c.jpg?aki_policy=profile_x_medium</td>\n",
       "      <td>NaN</td>\n",
       "      <td>1</td>\n",
       "      <td>1</td>\n",
       "      <td>['email', 'phone', 'reviews']</td>\n",
       "      <td>t</td>\n",
       "      <td>f</td>\n",
       "      <td>Boston, MA, United States</td>\n",
       "      <td>NaN</td>\n",
       "      <td>Roslindale</td>\n",
       "      <td>NaN</td>\n",
       "      <td>Boston</td>\n",
       "      <td>MA</td>\n",
       "      <td>NaN</td>\n",
       "      <td>Boston</td>\n",
       "      <td>Boston, MA</td>\n",
       "      <td>US</td>\n",
       "      <td>United States</td>\n",
       "      <td>42.281106</td>\n",
       "      <td>-71.121021</td>\n",
       "      <td>f</td>\n",
       "      <td>House</td>\n",
       "      <td>Private room</td>\n",
       "      <td>4</td>\n",
       "      <td>1.0</td>\n",
       "      <td>1.0</td>\n",
       "      <td>2.0</td>\n",
       "      <td>Real Bed</td>\n",
       "      <td>{TV,Internet,\"Wireless Internet\",\"Air Conditioning\",Kitchen,\"Free Parking on Premises\",Gym,Breakfast,\"Indoor Fireplace\",Heating,Washer,Dryer,\"Smoke Detector\",\"Carbon Monoxide Detector\",\"First Aid Kit\",\"Safety Card\",\"Fire Extinguisher\",Essentials,Shampoo,Hangers,\"Hair Dryer\",Iron,\"Laptop Friendly Workspace\"}</td>\n",
       "      <td>NaN</td>\n",
       "      <td>$75.00</td>\n",
       "      <td>NaN</td>\n",
       "      <td>NaN</td>\n",
       "      <td>$100.00</td>\n",
       "      <td>$50.00</td>\n",
       "      <td>2</td>\n",
       "      <td>$25.00</td>\n",
       "      <td>1</td>\n",
       "      <td>1125</td>\n",
       "      <td>a week ago</td>\n",
       "      <td>NaN</td>\n",
       "      <td>6</td>\n",
       "      <td>16</td>\n",
       "      <td>26</td>\n",
       "      <td>98</td>\n",
       "      <td>2016-09-06</td>\n",
       "      <td>1</td>\n",
       "      <td>2016-08-28</td>\n",
       "      <td>2016-08-28</td>\n",
       "      <td>100.0</td>\n",
       "      <td>10.0</td>\n",
       "      <td>10.0</td>\n",
       "      <td>10.0</td>\n",
       "      <td>10.0</td>\n",
       "      <td>10.0</td>\n",
       "      <td>10.0</td>\n",
       "      <td>f</td>\n",
       "      <td>NaN</td>\n",
       "      <td>NaN</td>\n",
       "      <td>f</td>\n",
       "      <td>moderate</td>\n",
       "      <td>f</td>\n",
       "      <td>f</td>\n",
       "      <td>1</td>\n",
       "      <td>1.00</td>\n",
       "    </tr>\n",
       "    <tr>\n",
       "      <th>4</th>\n",
       "      <td>7651065</td>\n",
       "      <td>https://www.airbnb.com/rooms/7651065</td>\n",
       "      <td>20160906204935</td>\n",
       "      <td>2016-09-07</td>\n",
       "      <td>Come Home to Boston</td>\n",
       "      <td>My comfy, clean and relaxing home is one block away from the bus line, on a quiet residential street.  Private room includes two comfortable single beds.  Full bath and half bath may be shared with 1-2 other guests.  Light breakfast included. AC</td>\n",
       "      <td>Clean, attractive, private room, one block from the bus line, on a quiet, safe street. Two comfy single beds. Full bath and one half bath shared with 1-2 others. Kitchen privileges and breakfast included. Air Conditioned. Five minute walk to shops.</td>\n",
       "      <td>My comfy, clean and relaxing home is one block away from the bus line, on a quiet residential street.  Private room includes two comfortable single beds.  Full bath and half bath may be shared with 1-2 other guests.  Light breakfast included. AC Clean, attractive, private room, one block from the bus line, on a quiet, safe street. Two comfy single beds. Full bath and one half bath shared with 1-2 others. Kitchen privileges and breakfast included. Air Conditioned. Five minute walk to shops. You will have access to the front and side porches, the living room with TV, and the kitchen/dining area. I love my city and really enjoy sharing it with guests!  I live in the home and  share the kitchen and common spaces; my room is on the third floor.  I work full-time, and am out a lot.    I will be happy to provide you any information that would be helpful in navigating Boston.  It's a wonderful city and I hope to help make your visit here enjoyable. I suggest you get the \"What's App?\" phone app</td>\n",
       "      <td>none</td>\n",
       "      <td>I love the proximity to downtown, the neighborhood pride, safety, nice shops and restaurants within a 8-minute walk.  Roslindale is welcoming to all types of people.  The City website describes it:  \"Once considered a \"garden suburb\" of Boston, today's residents of Roslindale are still attracted to the neighborhood's natural beauty. Locals walk and bike in the Arnold Arboretum, a 265-acre oasis that is part of Frederick Law Olmsted's Emerald Necklace.....Roslindale Village is the city's original Main Street district and now one of the city's most vibrant, featuring several bistros, unique shops, and wireless Internet access. The MBTA Orange Line and Commuter Rail provide commuters with easy access to downtown.\"</td>\n",
       "      <td>I have one roommate who lives on the lower level.  She is a nurse and is usually working. Another roommate resides on the same floor as your room - she works a lot too. Please note that - since I work full time - my check-in window is 3 pm to 11 pm.</td>\n",
       "      <td>From Logan Airport  and South Station you have 3 options to get to my home: 1. Take the airport shuttle to the MBTA. (If you're at South Station, the MBTA is right at the bus station)  Take the MBTA subway to the \"Orange line\" train stop at Forest Hills station (it involves a switch that doesn't cost money).  From there, go to the Washington Street side of the station (not the Hyde Park Avenue side) and get bus #35, 36 or 37.  Get off at the Belgrade Avenue &amp; Walworth Street stop (by 165 Belgrade Avenue).  My home is a 3-minute walk from there.   The MBTA website has a tab \"Rider Tools\" which will give you excellent, detailed routes and times to get anywhere in the city.   2. Take a cab - which usually $35 to 40 from Logan and much less from South Station, unless there is terrible traffic.  3. Or you could follow step #1 to Forest Hills Station, then take a cab from there (they are lined up) to my home (about $5-7). 4. The Silver Line is also an option - you can get their schedule on t</td>\n",
       "      <td>You will have access to the front and side porches, the living room with TV, and the kitchen/dining area.</td>\n",
       "      <td>I love my city and really enjoy sharing it with guests!  I live in the home and  share the kitchen and common spaces; my room is on the third floor.  I work full-time, and am out a lot.    I will be happy to provide you any information that would be helpful in navigating Boston.  It's a wonderful city and I hope to help make your visit here enjoyable. I suggest you get the \"What's App?\" phone app if you are traveling internationally; we can text for free with it.</td>\n",
       "      <td>Please no smoking in the house, porch or on the property (you can go to the nearby corner).  Reasonable quiet after 10:30 pm.  Please remove shoes in the house.</td>\n",
       "      <td>https://a1.muscache.com/im/pictures/97154760/85d71c5c_original.jpg?aki_policy=small</td>\n",
       "      <td>https://a1.muscache.com/im/pictures/97154760/85d71c5c_original.jpg?aki_policy=medium</td>\n",
       "      <td>https://a1.muscache.com/im/pictures/97154760/85d71c5c_original.jpg?aki_policy=large</td>\n",
       "      <td>https://a1.muscache.com/im/pictures/97154760/85d71c5c_original.jpg?aki_policy=x_large</td>\n",
       "      <td>15396970</td>\n",
       "      <td>https://www.airbnb.com/users/show/15396970</td>\n",
       "      <td>Linda</td>\n",
       "      <td>2014-05-11</td>\n",
       "      <td>Boston, Massachusetts, United States</td>\n",
       "      <td>I work full time for a public school district.   My two wonderful adult sons live in their own homes in Boston.  Camping, bicycling, music, reading, and quiet time with friends and family are what I enjoy.  I love going to church and being part of the church community. Boston is a great place to live and every day I am happy to be here!\\r\\n\\r\\nMy hosting style is \"available\" but not \"hovering\"!  Some people want to be completely on their own and others like a little connection and appreciate the host being available.  I am happy to accommodate your style.</td>\n",
       "      <td>within an hour</td>\n",
       "      <td>100%</td>\n",
       "      <td>100%</td>\n",
       "      <td>t</td>\n",
       "      <td>https://a0.muscache.com/im/users/15396970/profile_pic/1399856223/original.jpg?aki_policy=profile_small</td>\n",
       "      <td>https://a0.muscache.com/im/users/15396970/profile_pic/1399856223/original.jpg?aki_policy=profile_x_medium</td>\n",
       "      <td>Roslindale</td>\n",
       "      <td>1</td>\n",
       "      <td>1</td>\n",
       "      <td>['email', 'phone', 'reviews', 'kba']</td>\n",
       "      <td>t</td>\n",
       "      <td>t</td>\n",
       "      <td>Durnell Avenue, Boston, MA 02131, United States</td>\n",
       "      <td>Roslindale</td>\n",
       "      <td>Roslindale</td>\n",
       "      <td>NaN</td>\n",
       "      <td>Boston</td>\n",
       "      <td>MA</td>\n",
       "      <td>02131</td>\n",
       "      <td>Boston</td>\n",
       "      <td>Boston, MA</td>\n",
       "      <td>US</td>\n",
       "      <td>United States</td>\n",
       "      <td>42.284512</td>\n",
       "      <td>-71.136258</td>\n",
       "      <td>t</td>\n",
       "      <td>House</td>\n",
       "      <td>Private room</td>\n",
       "      <td>2</td>\n",
       "      <td>1.5</td>\n",
       "      <td>1.0</td>\n",
       "      <td>2.0</td>\n",
       "      <td>Real Bed</td>\n",
       "      <td>{Internet,\"Wireless Internet\",\"Air Conditioning\",Kitchen,Breakfast,Heating,\"Smoke Detector\",\"Carbon Monoxide Detector\",\"First Aid Kit\",Essentials,Shampoo,Hangers,\"Hair Dryer\",Iron}</td>\n",
       "      <td>NaN</td>\n",
       "      <td>$79.00</td>\n",
       "      <td>NaN</td>\n",
       "      <td>NaN</td>\n",
       "      <td>NaN</td>\n",
       "      <td>$15.00</td>\n",
       "      <td>1</td>\n",
       "      <td>$0.00</td>\n",
       "      <td>2</td>\n",
       "      <td>31</td>\n",
       "      <td>2 weeks ago</td>\n",
       "      <td>NaN</td>\n",
       "      <td>13</td>\n",
       "      <td>34</td>\n",
       "      <td>59</td>\n",
       "      <td>334</td>\n",
       "      <td>2016-09-06</td>\n",
       "      <td>29</td>\n",
       "      <td>2015-08-18</td>\n",
       "      <td>2016-09-01</td>\n",
       "      <td>99.0</td>\n",
       "      <td>10.0</td>\n",
       "      <td>10.0</td>\n",
       "      <td>10.0</td>\n",
       "      <td>10.0</td>\n",
       "      <td>9.0</td>\n",
       "      <td>10.0</td>\n",
       "      <td>f</td>\n",
       "      <td>NaN</td>\n",
       "      <td>NaN</td>\n",
       "      <td>f</td>\n",
       "      <td>flexible</td>\n",
       "      <td>f</td>\n",
       "      <td>f</td>\n",
       "      <td>1</td>\n",
       "      <td>2.25</td>\n",
       "    </tr>\n",
       "  </tbody>\n",
       "</table>\n",
       "</div>"
      ],
      "text/plain": [
       "         id                            listing_url       scrape_id  \\\n",
       "0  12147973  https://www.airbnb.com/rooms/12147973  20160906204935   \n",
       "1   3075044   https://www.airbnb.com/rooms/3075044  20160906204935   \n",
       "2      6976      https://www.airbnb.com/rooms/6976  20160906204935   \n",
       "3   1436513   https://www.airbnb.com/rooms/1436513  20160906204935   \n",
       "4   7651065   https://www.airbnb.com/rooms/7651065  20160906204935   \n",
       "\n",
       "  last_scraped                                           name  \\\n",
       "0   2016-09-07                     Sunny Bungalow in the City   \n",
       "1   2016-09-07              Charming room in pet friendly apt   \n",
       "2   2016-09-07               Mexican Folk Art Haven in Boston   \n",
       "3   2016-09-07  Spacious Sunny Bedroom Suite in Historic Home   \n",
       "4   2016-09-07                            Come Home to Boston   \n",
       "\n",
       "                                                                                                                                                                                                                                                                                                                                                                                                                                                                                                         summary  \\\n",
       "0                                                                                                                                                                                                                                                      Cozy, sunny, family home.  Master bedroom high ceilings. Deck, garden with hens, beehives & play structure.   Short walk to charming village with  attractive stores, groceries & local restaurants. Friendly neighborhood. Access public transportation.   \n",
       "1                                                                                                                                                                                                                                                        Charming and quiet room in a second floor 1910 condo building. The room has a full size bed, darkening curtains, window A/C unit. It's quiet because it's in the back of the house. Shared bathroom. Guests can use kitchen, living room. Pet friendly.   \n",
       "2                                                                                                                                                                                                                                                           Come stay with a friendly, middle-aged guy in the safe and quiet Roslindale neighborhood of Boston. You will have you own clean, furnished room (with cable TV, Wi-Fi, and a desk to work at) in an apartment that is filled with Mexican folk art.    \n",
       "3  Come experience the comforts of home away from home in our fabulous bedroom suite available in Roslindale, a neighborhood in Boston.  Enjoy sleeping on a large king sized bed with plush down bedding, access to a dishwasher, washer dryer and home gym. The house is incredibly accessible to public transportation and the center of Boston. Free street parking is available right in front of the house. Weekend farmers markets, restaurants and grocery stores are a 10 min walk away from the house.   \n",
       "4                                                                                                                                                                                                                                                          My comfy, clean and relaxing home is one block away from the bus line, on a quiet residential street.  Private room includes two comfortable single beds.  Full bath and half bath may be shared with 1-2 other guests.  Light breakfast included. AC   \n",
       "\n",
       "                                                                                                                                                                                                                                                                                                                                                                                                                                                                                                                                                                                                                                                                                                                                                                                                                                                                                                                                                                                                                                      space  \\\n",
       "0                                                                                                                                                                                                                                                                                                                                                                                                                                                                                                                                         The house has an open and cozy feel at the same time.  The living room has a flat screen TV.  The kitchen has all you need for cooking.  We prefer you buy your food but can use the organic oils, herbs, etc.   The yard can be seen from sitting room and when the weather allows, the yard is a place children can lose themselves in a safe way.  We have 2 bee hives, 6 hens fenced in (sometimes they get out of their coop area & into the yard), 2 rabbits in a hutch and play structure.   \n",
       "1                                                                                                                                                                                                                                                                                                                                                                                                                                                                                                                                                                                                                                                                                                                                                                                                                                                                                                                                                                 Small but cozy and quite room with a full size bed. Ample street parking.   \n",
       "2  Come stay with a friendly, middle-aged guy in the safe and quiet Roslindale neighborhood of Boston. You will have you own clean, furnished room (with cable TV, Wi-Fi, and a desk to work at) in an apartment that is filled with Mexican folk art. This is a well-maintained two-family house built in the 1940s. My apartment is on the second floor. This is a pet and smoke-free apartment.   PRICE: Price includes ALL utilities (heat, electricity, Wi-Fi, cable TV, air conditioner), parking in street, and use of back yard. NO SMOKING indoors or outside. Note that the bed is a size \"Full\" mattress, not a Queen or a King. This is ideal for one guest, but if it is two people traveling together, you can fit two in the bed, or the second person can sleep in the living room, on the long couch. (Not a fold-out couch, but comfortable). Additional fee for the second person is $20. The price listed is for one person.  I offer discounted rates for stays of one week or longer.   Guests get free coffee and a    \n",
       "3                                                                                                                                                                                                                                                                                                                                                                                   Most places you find in Boston are small however our bedroom suite is large. The bedroom has plush down pillows and a down comforter. The mattress is fitted with a memory foam topper that gives each guest the best sleep. The leather couches are cozy.  The large leather couch can be converted to a bed. The television has been updated to a smart tv therefore you can access most tv programs through there including, HBO, Showtime and Cinemax. If you want to enjoy cable television, there is a tv in the kitchen. The kitchen has a gas burner, dishwasher, garbage disposal, music system, and a space in the fridge to keep your items.   \n",
       "4                                                                                                                                                                                                                                                                                                                                                                                                                                                                                                                                                                                                                                                                                                                                                                                  Clean, attractive, private room, one block from the bus line, on a quiet, safe street. Two comfy single beds. Full bath and one half bath shared with 1-2 others. Kitchen privileges and breakfast included. Air Conditioned. Five minute walk to shops.   \n",
       "\n",
       "                                                                                                                                                                                                                                                                                                                                                                                                                                                                                                                                                                                                                                                                                                                                                                                                                                                                                                                                                                                                                                description  \\\n",
       "0  Cozy, sunny, family home.  Master bedroom high ceilings. Deck, garden with hens, beehives & play structure.   Short walk to charming village with  attractive stores, groceries & local restaurants. Friendly neighborhood. Access public transportation. The house has an open and cozy feel at the same time.  The living room has a flat screen TV.  The kitchen has all you need for cooking.  We prefer you buy your food but can use the organic oils, herbs, etc.   The yard can be seen from sitting room and when the weather allows, the yard is a place children can lose themselves in a safe way.  We have 2 bee hives, 6 hens fenced in (sometimes they get out of their coop area & into the yard), 2 rabbits in a hutch and play structure. You will have access to 2 bedrooms, a living room, kitchen, bathrooms, and yard. Roslindale is quiet, convenient and friendly.  For Southern food try Redd's in Rozzie.  Italian Delfino's or Sophia's Grotto are great. Birch St Bistro has nice atmostphere--a little pric   \n",
       "1  Charming and quiet room in a second floor 1910 condo building. The room has a full size bed, darkening curtains, window A/C unit. It's quiet because it's in the back of the house. Shared bathroom. Guests can use kitchen, living room. Pet friendly. Small but cozy and quite room with a full size bed. Ample street parking. Apt has one more bedroom (which I use) and large living space and kitchen that you can use.  Possibility to do laundry. Two porches. If I am at home, I am likely working in my home office, which is a separate room. I can help you settle in and give you tips and directions on the neighborhood and Boston.  The room is in Roslindale, a diverse and primarily residential neighborhood of Boston. It's well connected via public transportation to other neighborhoods and easy to access by car. Roslindale Square is a nice business district with supermarkets. banks, a bakery, etc. (See my Guidebook for some recommendations). The Arnold Arboretum is just steps away. Plenty of safe s   \n",
       "2  Come stay with a friendly, middle-aged guy in the safe and quiet Roslindale neighborhood of Boston. You will have you own clean, furnished room (with cable TV, Wi-Fi, and a desk to work at) in an apartment that is filled with Mexican folk art. This is a well-maintained two-family house built in the 1940s. My apartment is on the second floor. This is a pet and smoke-free apartment.   PRICE: Price includes ALL utilities (heat, electricity, Wi-Fi, cable TV, air conditioner), parking in street, and use of back yard. NO SMOKING indoors or outside. Note that the bed is a size \"Full\" mattress, not a Queen or a King. This is ideal for one guest, but if it is two people traveling together, you can fit two in the bed, or the second person can sleep in the living room, on the long couch. (Not a fold-out couch, but comfortable). Additional fee for the second person is $20. The price listed is for one person.  I offer discounted rates for stays of one week or longer.   Guests get free coffee and a    \n",
       "3  Come experience the comforts of home away from home in our fabulous bedroom suite available in Roslindale, a neighborhood in Boston.  Enjoy sleeping on a large king sized bed with plush down bedding, access to a dishwasher, washer dryer and home gym. The house is incredibly accessible to public transportation and the center of Boston. Free street parking is available right in front of the house. Weekend farmers markets, restaurants and grocery stores are a 10 min walk away from the house. Most places you find in Boston are small however our bedroom suite is large. The bedroom has plush down pillows and a down comforter. The mattress is fitted with a memory foam topper that gives each guest the best sleep. The leather couches are cozy.  The large leather couch can be converted to a bed. The television has been updated to a smart tv therefore you can access most tv programs through there including, HBO, Showtime and Cinemax. If you want to enjoy cable television, there is a tv in the kit   \n",
       "4  My comfy, clean and relaxing home is one block away from the bus line, on a quiet residential street.  Private room includes two comfortable single beds.  Full bath and half bath may be shared with 1-2 other guests.  Light breakfast included. AC Clean, attractive, private room, one block from the bus line, on a quiet, safe street. Two comfy single beds. Full bath and one half bath shared with 1-2 others. Kitchen privileges and breakfast included. Air Conditioned. Five minute walk to shops. You will have access to the front and side porches, the living room with TV, and the kitchen/dining area. I love my city and really enjoy sharing it with guests!  I live in the home and  share the kitchen and common spaces; my room is on the third floor.  I work full-time, and am out a lot.    I will be happy to provide you any information that would be helpful in navigating Boston.  It's a wonderful city and I hope to help make your visit here enjoyable. I suggest you get the \"What's App?\" phone app   \n",
       "\n",
       "  experiences_offered  \\\n",
       "0                none   \n",
       "1                none   \n",
       "2                none   \n",
       "3                none   \n",
       "4                none   \n",
       "\n",
       "                                                                                                                                                                                                                                                                                                                                                                                                                                                                                                                                                                                                                                                                                                                                                                                                                                                                                                                                                                                                                      neighborhood_overview  \\\n",
       "0                                                                                                                                                                                                                                                                                                                                                                                                                                                                                                                                                                                                                             Roslindale is quiet, convenient and friendly.  For Southern food try Redd's in Rozzie.  Italian Delfino's or Sophia's Grotto are great. Birch St Bistro has nice atmostphere--a little pricier.   If you are cooking the Fish Market has fresh fish daily; Tony's makes his own sausages and has Italian foods;  for  a wide variety of delicious cheeses and chocolates go to the Cheese Cellar on Birch St.   \n",
       "1                                                                                                                                                                                                                                                                                                                                                                                                                                                                                                                                                                                                                                                                       The room is in Roslindale, a diverse and primarily residential neighborhood of Boston. It's well connected via public transportation to other neighborhoods and easy to access by car. Roslindale Square is a nice business district with supermarkets. banks, a bakery, etc. (See my Guidebook for some recommendations). The Arnold Arboretum is just steps away.   \n",
       "2                                                 The LOCATION: Roslindale is a safe and diverse Boston neighborhood located between Jamaica Plain and West Roxbury. This apartment is on Ardale Street, a quiet side street off Centre Street.  This is about one-half mile from Faulkner Hospital, walking distance to the renowned Arnold Arboretum park (look for it on (SENSITIVE CONTENTS HIDDEN)), and about 20-minute drive to the Longwood Medical Center area. I have easy, restriction-free, on-street parking here, and a back yard. Just one block from the house, there is a 7-11 convenience store, a dry-cleaner, a Mexican restaurant, a pizza parlor, a popular sports bar and grill (similar to an Irish Pub), and another restaurant for breakfast and lunch.  The house is located 1/2 mile from Roslindale Square where you will find more restaurants, 4 bakeries, the public library and the post office. There is a superb farmers market here every Saturday. The fast-train to downtown Boston stops there, too.   \n",
       "3  Roslindale is a lovely little neighborhood located right in the city of Boston.  Though a part of the actual city, once you enter it, you feel as though you have escaped to a suburb with friendly neighbors.  The area is conveniently located with access to the city’s bus and subway system.  The Orange Line and Commuter Rail services connect the area to the heart of Boston and the neighboring towns.  It is situated close to shops, restaurants, grocery stores, parks and neighboring towns.  The farmer’s market held in the neighborhood’s center, Roslindale Village, and goes on all summer on Saturday morning.  Vendors of all different types of arts, crafts, and foods come to the neighborhood.  The Arnold Arboretum is a 265 acre park constructed as part of Frederick Law Olmsted’s Emerald Necklace project to provide Boston a connection through neighborhoods through it’s parks.  Jamaica Pond is also part of the emerald necklace which sits at the confluence of Jamaica Plain (a neighboring neighb   \n",
       "4                                                                                                                                                                                                                                                                                          I love the proximity to downtown, the neighborhood pride, safety, nice shops and restaurants within a 8-minute walk.  Roslindale is welcoming to all types of people.  The City website describes it:  \"Once considered a \"garden suburb\" of Boston, today's residents of Roslindale are still attracted to the neighborhood's natural beauty. Locals walk and bike in the Arnold Arboretum, a 265-acre oasis that is part of Frederick Law Olmsted's Emerald Necklace.....Roslindale Village is the city's original Main Street district and now one of the city's most vibrant, featuring several bistros, unique shops, and wireless Internet access. The MBTA Orange Line and Commuter Rail provide commuters with easy access to downtown.\"   \n",
       "\n",
       "                                                                                                                                                                                                                                                                                                                                                                                                                                                                                                                                                                                        notes  \\\n",
       "0                                                                                                                                                                                                                                                                                                                                                                                                                                                                                                                                                                                         NaN   \n",
       "1                                                                                                                                                                                                                                                                                                                                                                                                                                                                                                       If you don't have a US cell phone, you can text me using (SENSITIVE CONTENTS HIDDEN).   \n",
       "2  I am in a scenic part of Boston with a couple big parks nearby, and Jamaica Pond, where you can rent a sail boat or jog the paved perimeter path, within a mile away. Here is a clue to my personality:  Favorite singers are Judy Collins, Ari Hest, Miguel Bose and the British rock band, James. My top favorite places to travel to are Oaxaca, Mexico and Budapest, Hungary. In years gone by, I have had repeated trips to Paris and to Tunisia, also. These days I am mostly home, spending a lot of time in front of my iMac, writing copy, filling orders or coding for websites.   \n",
       "3                                                                                                                                                                                                                                                                                                                                                                                                                         Please be mindful of the property as it is old and needs to be treated with the love and care you would give to your own home.  We really hope you enjoy your stay!   \n",
       "4                                                                                                                                                                                                                                                                                                                                   I have one roommate who lives on the lower level.  She is a nurse and is usually working. Another roommate resides on the same floor as your room - she works a lot too. Please note that - since I work full time - my check-in window is 3 pm to 11 pm.   \n",
       "\n",
       "                                                                                                                                                                                                                                                                                                                                                                                                                                                                                                                                                                                                                                                                                                                                                                                                                                                                                                                                                                                                                                    transit  \\\n",
       "0                                                                                                                                                                                                                                                                                                                                                                                                                                                                                                                                                                                                                                                                                                                                                               The bus stop is 2 blocks away, and frequent. Bus is about a 10 minute ride to the Orange line, forest hills. The commuter rail into down town is a 6 minute walk from our home.  Walking is pleasant and restaurants, shops and grocery store are all a 6 minute walk away.   \n",
       "1                                                                                                                                                                                                                                                                                                                                                                                                                                                                                Plenty of safe street parking. Bus stops a few hundred feet from home. Buses 35, 36, or 37 will take you to the Forest Hills subway station is approximately 10 minutes. The buses are frequent during the week, less frequent during the weekend. However, many more buses leave Roslindale Sq., which is just 5 minutes away. Commuter rail is also down the road: more expensive but will take you downtown (Copley and South Station) in less than 20 minutes. Does not run on Sundays. The station is Roslindale Village on the Needham Heights line.   \n",
       "2  PUBLIC TRANSPORTATION: From the house, quick public transportation to Forest Hills station (Orange Line and Commuter Rail) is via two nearby MBTA bus lines. The #38 bus stops one-half block away, and takes you past the Faulkner, then to Jamaica Plain and Forest Hills.  The #51 bus stops one block away, and goes a more direct route to Forest Hills. (The bus also goes to Cleveland Circle in Brookline.) Between the two bus lines, there is a bus that stops here every 15 minutes or so on weekdays; but no service on Sunday. ALSO, the apartment is just 1/2 mile walk to the Roslindale Village MBTA commuter rail stop, Needham Line. The train takes you to Ruggles Station at Northeastern Univ., to Back Bay station and to South Station in downtown Boston, in about 15 minutes time.  There are more city busses, running 7 days a week, from this MBTA rail station. You can also pick up ZIP Cars there.  GETTING HERE FROM LOGAN AIRPORT: By public transportation: You take the free shuttle bus at the airpo   \n",
       "3                                                                                                                                                                                                                                                                                                                                                                                                                                                                                                                                                                                                                                                                                                                                                                                There are buses that stop right in front of the house and down the street. We are a convenient bus ride away from the forest hills MBTA stop which is the subway system in Boston. There's free street parking all around the house should you have a car.   \n",
       "4  From Logan Airport  and South Station you have 3 options to get to my home: 1. Take the airport shuttle to the MBTA. (If you're at South Station, the MBTA is right at the bus station)  Take the MBTA subway to the \"Orange line\" train stop at Forest Hills station (it involves a switch that doesn't cost money).  From there, go to the Washington Street side of the station (not the Hyde Park Avenue side) and get bus #35, 36 or 37.  Get off at the Belgrade Avenue & Walworth Street stop (by 165 Belgrade Avenue).  My home is a 3-minute walk from there.   The MBTA website has a tab \"Rider Tools\" which will give you excellent, detailed routes and times to get anywhere in the city.   2. Take a cab - which usually $35 to 40 from Logan and much less from South Station, unless there is terrible traffic.  3. Or you could follow step #1 to Forest Hills Station, then take a cab from there (they are lined up) to my home (about $5-7). 4. The Silver Line is also an option - you can get their schedule on t   \n",
       "\n",
       "                                                                                                                                                                                                                                                                                                                                                                                                                                                                                                                                                                                                                                                                                                                                                                                                                                                                                                                                                                                                      access  \\\n",
       "0                                                                                                                                                                                                                                                                                                                                                                                                                                                                                                                                                                                                                                                                                                                                                                                                                                                                                                                           You will have access to 2 bedrooms, a living room, kitchen, bathrooms, and yard.   \n",
       "1                                                                                                                                                                                                                                                                                                                                                                                                                                                                                                                                                                                                                                                                                                                                                                                                                                                                       Apt has one more bedroom (which I use) and large living space and kitchen that you can use.  Possibility to do laundry. Two porches.   \n",
       "2                                                                                                                                                                                                                                                                      I am living in the apartment during your stay, and I work from home, so I'm there most of the time.  Guests are welcome to use the kitchen and all cooking utensils, refrigerator, etc. I have a gas stove, toaster oven, microwave, convection oven and a pressure cooker! I have a backyard garden, so if you are here during August and September, be prepared for tomatoes and cucumbers! In addition to your personal room, you can also use the living room which includes a 32-inch HDTV with an Apple TV connection.  The bathroom, adjacent to your room, is shared.  The only room that is off limits is my bedroom on the opposite side of the apartment. I have a clothes washer and dryer in the basement for your use.    \n",
       "3  The basement has a washer dryer and gym area. There is a smart TV you can use while in the gym.  Your iPhone can be hooked up to the speakers in the treadmill.  Also, there's a weight bench, weights, and a boxing bag.  On the ground floor, you will have access to the kitchen and sunroom.  There is a designated drawer with pots and pans, utensils and dishes you can use.  The formal living room and dining room are permissible for light usage only. Please do not take any food or drink into these areas other than water. On the 2nd floor, you will have access to your bedroom, attached living room and detached bathroom which is shared.  The trash is located in the kitchen and the recycling bins are located to the left of the dishwasher. Additional trash liners are provided under the sink should you need them. The trash barrels are located in front of the garage should the trash bins get full and you need to throw your garbage out. The blue bin is for recycling.   \n",
       "4                                                                                                                                                                                                                                                                                                                                                                                                                                                                                                                                                                                                                                                                                                                                                                                                                                                                                                  You will have access to the front and side porches, the living room with TV, and the kitchen/dining area.   \n",
       "\n",
       "                                                                                                                                                                                                                                                                                                                                                                                                                                                                                                                                                                                                                  interaction  \\\n",
       "0                                                                                                                                                                                                                                                                                                                                                                                                                                                                                                                                                                                                                         NaN   \n",
       "1                                                                                                                                                                                                                                                                                                                                                                                                                                                If I am at home, I am likely working in my home office, which is a separate room. I can help you settle in and give you tips and directions on the neighborhood and Boston.    \n",
       "2  ABOUT ME: I'm a laid-back, friendly, unmarried guy. I work from home, spending a lot of time on the computer. I have an website that sells handmade things from Mexico. It is called \"Viva Oaxaca Folk Art.\" You will see lots of folk art in the apartment. I also run websites for other small companies. I don’t smoke, don’t have overnight guests. I keep regular hours, am friendly, considerate and quiet. I am one of the original Boston AIRBNB hosts, having signed-up with them in 2008.   I am a big traveler myself, and I love hearing stories of where guests have been or where they are heading to next.    \n",
       "3                                                We do live in the house therefore might be some interaction.  The house is large so it allows the people within it to interact as little or as much as is preferred.  During the weekends, we are less likely to be at home especially during the day.  Some weekends, we may not even be there at all.  Upon your booking we will be able to tell you whether or not we will be there so that you will know what to expect.  We respect the privacy of our guests so we will interact as much or as little with you as you would like.  It is all based on your preference.   \n",
       "4                                                                                                                                         I love my city and really enjoy sharing it with guests!  I live in the home and  share the kitchen and common spaces; my room is on the third floor.  I work full-time, and am out a lot.    I will be happy to provide you any information that would be helpful in navigating Boston.  It's a wonderful city and I hope to help make your visit here enjoyable. I suggest you get the \"What's App?\" phone app if you are traveling internationally; we can text for free with it.   \n",
       "\n",
       "                                                                                                                                                                                                                                                                                                                                                                                                                                                                                                                                                                                                       house_rules  \\\n",
       "0                                                                                                                                                                                                                                                                                                                                                                                                                                                                                                                             Clean up and treat the home the way you'd like your home to be treated.  No smoking.   \n",
       "1                                                                                                                                                                                              Pet friendly but please confirm with me if the pet you are planning on bringing with you is OK. I have a cute and quiet mixed chihuahua. I could accept more guests (for an extra fee) but this also needs to be confirmed beforehand. Also friends traveling together could sleep in separate beds for an extra fee (the second bed is either a sofa bed or inflatable bed). Smoking is only allowed on the porch.   \n",
       "2                                                                                                                                                                                                                           I encourage you to use my kitchen, cooking and laundry facilities. There is no additional charge to use the washer/dryer in the basement.  No smoking, inside or outside. Come home as late as you want.  If you come home stumbling drunk, it's OK the first time. If you do it again, and you wake up me or the neighbors downstairs, we will be annoyed.  (Just so you know . . . )   \n",
       "3  - The bathroom and house are shared so please respect the privacy of others living in the home.  The sunroom and the patio in the yard are available for you to use.  There is a Keurig in the Kitchen is free for you to use.  There is a washer and dryer in the basement which you can use.  The formal living or dining areas are available for light use only.  You may only take water into these areas.  Please do not take food into any part of the house other than the kitchen, sunroom or back patio.  Additional guests to the ones already committed to staying on the premises is not permitted.   \n",
       "4                                                                                                                                                                                                                                                                                                                                                                                                                                                 Please no smoking in the house, porch or on the property (you can go to the nearby corner).  Reasonable quiet after 10:30 pm.  Please remove shoes in the house.   \n",
       "\n",
       "                                                                                   thumbnail_url  \\\n",
       "0  https://a2.muscache.com/im/pictures/c0842db1-ee98-4fe8-870b-d1e2af33855d.jpg?aki_policy=small   \n",
       "1            https://a1.muscache.com/im/pictures/39327812/df0f1aab_original.jpg?aki_policy=small   \n",
       "2  https://a2.muscache.com/im/pictures/6ae8335d-91e6-4598-b380-3129db624df3.jpg?aki_policy=small   \n",
       "3  https://a2.muscache.com/im/pictures/39764190-16f9-4726-bf6a-2027ff35865c.jpg?aki_policy=small   \n",
       "4            https://a1.muscache.com/im/pictures/97154760/85d71c5c_original.jpg?aki_policy=small   \n",
       "\n",
       "                                                                                       medium_url  \\\n",
       "0  https://a2.muscache.com/im/pictures/c0842db1-ee98-4fe8-870b-d1e2af33855d.jpg?aki_policy=medium   \n",
       "1            https://a1.muscache.com/im/pictures/39327812/df0f1aab_original.jpg?aki_policy=medium   \n",
       "2  https://a2.muscache.com/im/pictures/6ae8335d-91e6-4598-b380-3129db624df3.jpg?aki_policy=medium   \n",
       "3  https://a2.muscache.com/im/pictures/39764190-16f9-4726-bf6a-2027ff35865c.jpg?aki_policy=medium   \n",
       "4            https://a1.muscache.com/im/pictures/97154760/85d71c5c_original.jpg?aki_policy=medium   \n",
       "\n",
       "                                                                                     picture_url  \\\n",
       "0  https://a2.muscache.com/im/pictures/c0842db1-ee98-4fe8-870b-d1e2af33855d.jpg?aki_policy=large   \n",
       "1            https://a1.muscache.com/im/pictures/39327812/df0f1aab_original.jpg?aki_policy=large   \n",
       "2  https://a2.muscache.com/im/pictures/6ae8335d-91e6-4598-b380-3129db624df3.jpg?aki_policy=large   \n",
       "3  https://a2.muscache.com/im/pictures/39764190-16f9-4726-bf6a-2027ff35865c.jpg?aki_policy=large   \n",
       "4            https://a1.muscache.com/im/pictures/97154760/85d71c5c_original.jpg?aki_policy=large   \n",
       "\n",
       "                                                                                    xl_picture_url  \\\n",
       "0  https://a2.muscache.com/im/pictures/c0842db1-ee98-4fe8-870b-d1e2af33855d.jpg?aki_policy=x_large   \n",
       "1            https://a1.muscache.com/im/pictures/39327812/df0f1aab_original.jpg?aki_policy=x_large   \n",
       "2  https://a2.muscache.com/im/pictures/6ae8335d-91e6-4598-b380-3129db624df3.jpg?aki_policy=x_large   \n",
       "3  https://a2.muscache.com/im/pictures/39764190-16f9-4726-bf6a-2027ff35865c.jpg?aki_policy=x_large   \n",
       "4            https://a1.muscache.com/im/pictures/97154760/85d71c5c_original.jpg?aki_policy=x_large   \n",
       "\n",
       "    host_id                                    host_url host_name  host_since  \\\n",
       "0  31303940  https://www.airbnb.com/users/show/31303940  Virginia  2015-04-15   \n",
       "1   2572247   https://www.airbnb.com/users/show/2572247    Andrea  2012-06-07   \n",
       "2     16701     https://www.airbnb.com/users/show/16701      Phil  2009-05-11   \n",
       "3   6031442   https://www.airbnb.com/users/show/6031442    Meghna  2013-04-21   \n",
       "4  15396970  https://www.airbnb.com/users/show/15396970     Linda  2014-05-11   \n",
       "\n",
       "                          host_location  \\\n",
       "0  Boston, Massachusetts, United States   \n",
       "1  Boston, Massachusetts, United States   \n",
       "2  Boston, Massachusetts, United States   \n",
       "3  Boston, Massachusetts, United States   \n",
       "4  Boston, Massachusetts, United States   \n",
       "\n",
       "                                                                                                                                                                                                                                                                                                                                                                                                                                                                                                                                                                                                                                                                                                                                                                                                                                                                                                                                                                                                                                                                                                                                                                                                                                                                                                                                          host_about  \\\n",
       "0                                                                                                                                                                                                                                                                                                                                                                                                                                                                                                                                                                                                                                                                                                                                                                                                                                                                                                                                                                                                                                                                                                                                                               We are country and city connecting in our deck and garden. Enjoy our music room, books and flat screen TV with the pastoral backyard of hens, bees, rabbits and an organic garden.     \n",
       "1                                                                                                                                                                                                                                                                                                                                                                                                                                                                                                                                                                                                                                                                                                                                                                                                                                                                                                                                                                                                                                                                                                                                                                                                                                                                      I live in Boston and I like to travel and have travelers staying at my place.   \n",
       "2                                                                                                                                                                                                                  I am a middle-aged, single male with a wide range of interests and creative outlets.  I have traveled frequently, in much of the world, especially central Europe, including Hungary and Slovakia. In recent years I have had many trips to Mexico, where I buy folk art for my online business, called Viva Oaxaca Folk Art. I love meeting new people, especially travelers with stories to tell.  \\r\\n\\r\\nIn addition to the above, I run web sites for small companies, including a physical therapy practice, a cancer treatment center and a colonial era historic house and museum. \\r\\n\\r\\nIn the 1980s, I was a publicist and concert producer, and have presented many concerts with Judy Collins, as well as with Ella Fitzgerald, Laura Nyro, Tom Rush, Barbara Cook and Karen Akers. Now I run a channel on YouTube called \"beta.hifi.archive\" that is a collection of 50 years of video clips from the career of Judy Collins. \\r\\n\\r\\nSo come to Boston, and stay with me. Enjoy some tomatoes and cucumbers from my garden, explore my world of Mexican folk art, and let's talk about our travel adventures.\\r\\n   \n",
       "3  My husband and I live on the property.  He’s a lawyer and I work as an hospital administration.  We have an additional housemate who lives there during the week but is usually away on the weekends.  We absolutely love having guests over because it makes our big house feel full.  We love reading, watching movies, listening to music, going to concerts, traveling, eating new and different kinds of food and exploring in general.  In addition, I enjoy singing as my hobby.  \\r\\n\\r\\nWe want you too feel at home while you are staying with us.  If we are at the house during your visit, we will provide you with breakfast treats and be there to assist you with any of your needs.  The house if often empty on weekends as we all enjoy spending time outside doing activities, meeting friends/family or traveling.  If we are present, we can provide a hot breakfast but if not, cereal, bread, butter, jam, eggs and milk along with pancake mix will be available.  We will provide a list of contacts you can contact if we are not at home.  Our house is incredibly comfortable and we hope you enjoy the experience of sleeping on the beautiful king sized bed with plush down bedding.  We also hope you enjoy access to the movie channels on the Smart TV which is in the living area attached to your bedroom.     \n",
       "4                                                                                                                                                                                                                                                                                                                                                                                                                                                                                                                                                                                                                                                                                                                                                                  I work full time for a public school district.   My two wonderful adult sons live in their own homes in Boston.  Camping, bicycling, music, reading, and quiet time with friends and family are what I enjoy.  I love going to church and being part of the church community. Boston is a great place to live and every day I am happy to be here!\\r\\n\\r\\nMy hosting style is \"available\" but not \"hovering\"!  Some people want to be completely on their own and others like a little connection and appreciate the host being available.  I am happy to accommodate your style.   \n",
       "\n",
       "   host_response_time host_response_rate host_acceptance_rate  \\\n",
       "0                 NaN                NaN                  NaN   \n",
       "1      within an hour               100%                 100%   \n",
       "2  within a few hours               100%                  88%   \n",
       "3  within a few hours               100%                  50%   \n",
       "4      within an hour               100%                 100%   \n",
       "\n",
       "  host_is_superhost  \\\n",
       "0                 f   \n",
       "1                 f   \n",
       "2                 t   \n",
       "3                 f   \n",
       "4                 t   \n",
       "\n",
       "                                                                                       host_thumbnail_url  \\\n",
       "0   https://a2.muscache.com/im/pictures/5936fef0-ba16-45bd-ac33-9226137d0763.jpg?aki_policy=profile_small   \n",
       "1   https://a2.muscache.com/im/users/2572247/profile_pic/1442235897/original.jpg?aki_policy=profile_small   \n",
       "2     https://a2.muscache.com/im/users/16701/profile_pic/1393434148/original.jpg?aki_policy=profile_small   \n",
       "3   https://a2.muscache.com/im/pictures/5d430cde-7eb2-4ab7-980a-ef07781cd38c.jpg?aki_policy=profile_small   \n",
       "4  https://a0.muscache.com/im/users/15396970/profile_pic/1399856223/original.jpg?aki_policy=profile_small   \n",
       "\n",
       "                                                                                            host_picture_url  \\\n",
       "0   https://a2.muscache.com/im/pictures/5936fef0-ba16-45bd-ac33-9226137d0763.jpg?aki_policy=profile_x_medium   \n",
       "1   https://a2.muscache.com/im/users/2572247/profile_pic/1442235897/original.jpg?aki_policy=profile_x_medium   \n",
       "2     https://a2.muscache.com/im/users/16701/profile_pic/1393434148/original.jpg?aki_policy=profile_x_medium   \n",
       "3   https://a2.muscache.com/im/pictures/5d430cde-7eb2-4ab7-980a-ef07781cd38c.jpg?aki_policy=profile_x_medium   \n",
       "4  https://a0.muscache.com/im/users/15396970/profile_pic/1399856223/original.jpg?aki_policy=profile_x_medium   \n",
       "\n",
       "  host_neighbourhood  host_listings_count  host_total_listings_count  \\\n",
       "0         Roslindale                    1                          1   \n",
       "1         Roslindale                    1                          1   \n",
       "2         Roslindale                    1                          1   \n",
       "3                NaN                    1                          1   \n",
       "4         Roslindale                    1                          1   \n",
       "\n",
       "                                                       host_verifications  \\\n",
       "0                               ['email', 'phone', 'facebook', 'reviews']   \n",
       "1  ['email', 'phone', 'facebook', 'linkedin', 'amex', 'reviews', 'jumio']   \n",
       "2                                  ['email', 'phone', 'reviews', 'jumio']   \n",
       "3                                           ['email', 'phone', 'reviews']   \n",
       "4                                    ['email', 'phone', 'reviews', 'kba']   \n",
       "\n",
       "  host_has_profile_pic host_identity_verified  \\\n",
       "0                    t                      f   \n",
       "1                    t                      t   \n",
       "2                    t                      t   \n",
       "3                    t                      f   \n",
       "4                    t                      t   \n",
       "\n",
       "                                              street neighbourhood  \\\n",
       "0      Birch Street, Boston, MA 02131, United States    Roslindale   \n",
       "1  Pinehurst Street, Boston, MA 02131, United States    Roslindale   \n",
       "2        Ardale St., Boston, MA 02131, United States    Roslindale   \n",
       "3                          Boston, MA, United States           NaN   \n",
       "4    Durnell Avenue, Boston, MA 02131, United States    Roslindale   \n",
       "\n",
       "  neighbourhood_cleansed  neighbourhood_group_cleansed    city state zipcode  \\\n",
       "0             Roslindale                           NaN  Boston    MA   02131   \n",
       "1             Roslindale                           NaN  Boston    MA   02131   \n",
       "2             Roslindale                           NaN  Boston    MA   02131   \n",
       "3             Roslindale                           NaN  Boston    MA     NaN   \n",
       "4             Roslindale                           NaN  Boston    MA   02131   \n",
       "\n",
       "   market smart_location country_code        country   latitude  longitude  \\\n",
       "0  Boston     Boston, MA           US  United States  42.282619 -71.133068   \n",
       "1  Boston     Boston, MA           US  United States  42.286241 -71.134374   \n",
       "2  Boston     Boston, MA           US  United States  42.292438 -71.135765   \n",
       "3  Boston     Boston, MA           US  United States  42.281106 -71.121021   \n",
       "4  Boston     Boston, MA           US  United States  42.284512 -71.136258   \n",
       "\n",
       "  is_location_exact property_type        room_type  accommodates  bathrooms  \\\n",
       "0                 t         House  Entire home/apt             4        1.5   \n",
       "1                 t     Apartment     Private room             2        1.0   \n",
       "2                 t     Apartment     Private room             2        1.0   \n",
       "3                 f         House     Private room             4        1.0   \n",
       "4                 t         House     Private room             2        1.5   \n",
       "\n",
       "   bedrooms  beds  bed_type  \\\n",
       "0       2.0   3.0  Real Bed   \n",
       "1       1.0   1.0  Real Bed   \n",
       "2       1.0   1.0  Real Bed   \n",
       "3       1.0   2.0  Real Bed   \n",
       "4       1.0   2.0  Real Bed   \n",
       "\n",
       "                                                                                                                                                                                                                                                                                                                      amenities  \\\n",
       "0                                                                                                {TV,\"Wireless Internet\",Kitchen,\"Free Parking on Premises\",\"Pets live on this property\",Dog(s),Heating,\"Family/Kid Friendly\",Washer,Dryer,\"Smoke Detector\",\"Fire Extinguisher\",Essentials,Shampoo,\"Laptop Friendly Workspace\"}   \n",
       "1                                {TV,Internet,\"Wireless Internet\",\"Air Conditioning\",Kitchen,\"Pets Allowed\",\"Pets live on this property\",Dog(s),Heating,\"Family/Kid Friendly\",Washer,Dryer,\"Smoke Detector\",\"Carbon Monoxide Detector\",\"Fire Extinguisher\",Essentials,Shampoo,\"Lock on Bedroom Door\",Hangers,\"Hair Dryer\",Iron}   \n",
       "2  {TV,\"Cable TV\",\"Wireless Internet\",\"Air Conditioning\",Kitchen,\"Free Parking on Premises\",Heating,Washer,Dryer,\"Smoke Detector\",\"Carbon Monoxide Detector\",\"First Aid Kit\",\"Safety Card\",Essentials,Shampoo,\"Lock on Bedroom Door\",\"translation missing: en.hosting_amenity_49\",\"translation missing: en.hosting_amenity_50\"}   \n",
       "3          {TV,Internet,\"Wireless Internet\",\"Air Conditioning\",Kitchen,\"Free Parking on Premises\",Gym,Breakfast,\"Indoor Fireplace\",Heating,Washer,Dryer,\"Smoke Detector\",\"Carbon Monoxide Detector\",\"First Aid Kit\",\"Safety Card\",\"Fire Extinguisher\",Essentials,Shampoo,Hangers,\"Hair Dryer\",Iron,\"Laptop Friendly Workspace\"}   \n",
       "4                                                                                                                                          {Internet,\"Wireless Internet\",\"Air Conditioning\",Kitchen,Breakfast,Heating,\"Smoke Detector\",\"Carbon Monoxide Detector\",\"First Aid Kit\",Essentials,Shampoo,Hangers,\"Hair Dryer\",Iron}   \n",
       "\n",
       "   square_feet    price weekly_price monthly_price security_deposit  \\\n",
       "0          NaN  $250.00          NaN           NaN              NaN   \n",
       "1          NaN   $65.00      $400.00           NaN           $95.00   \n",
       "2          NaN   $65.00      $395.00     $1,350.00              NaN   \n",
       "3          NaN   $75.00          NaN           NaN          $100.00   \n",
       "4          NaN   $79.00          NaN           NaN              NaN   \n",
       "\n",
       "  cleaning_fee  guests_included extra_people  minimum_nights  maximum_nights  \\\n",
       "0       $35.00                1        $0.00               2            1125   \n",
       "1       $10.00                0        $0.00               2              15   \n",
       "2          NaN                1       $20.00               3              45   \n",
       "3       $50.00                2       $25.00               1            1125   \n",
       "4       $15.00                1        $0.00               2              31   \n",
       "\n",
       "  calendar_updated  has_availability  availability_30  availability_60  \\\n",
       "0      2 weeks ago               NaN                0                0   \n",
       "1       a week ago               NaN               26               54   \n",
       "2       5 days ago               NaN               19               46   \n",
       "3       a week ago               NaN                6               16   \n",
       "4      2 weeks ago               NaN               13               34   \n",
       "\n",
       "   availability_90  availability_365 calendar_last_scraped  number_of_reviews  \\\n",
       "0                0                 0            2016-09-06                  0   \n",
       "1               84               359            2016-09-06                 36   \n",
       "2               61               319            2016-09-06                 41   \n",
       "3               26                98            2016-09-06                  1   \n",
       "4               59               334            2016-09-06                 29   \n",
       "\n",
       "  first_review last_review  review_scores_rating  review_scores_accuracy  \\\n",
       "0          NaN         NaN                   NaN                     NaN   \n",
       "1   2014-06-01  2016-08-13                  94.0                    10.0   \n",
       "2   2009-07-19  2016-08-05                  98.0                    10.0   \n",
       "3   2016-08-28  2016-08-28                 100.0                    10.0   \n",
       "4   2015-08-18  2016-09-01                  99.0                    10.0   \n",
       "\n",
       "   review_scores_cleanliness  review_scores_checkin  \\\n",
       "0                        NaN                    NaN   \n",
       "1                        9.0                   10.0   \n",
       "2                        9.0                   10.0   \n",
       "3                       10.0                   10.0   \n",
       "4                       10.0                   10.0   \n",
       "\n",
       "   review_scores_communication  review_scores_location  review_scores_value  \\\n",
       "0                          NaN                     NaN                  NaN   \n",
       "1                         10.0                     9.0                  9.0   \n",
       "2                         10.0                     9.0                 10.0   \n",
       "3                         10.0                    10.0                 10.0   \n",
       "4                         10.0                     9.0                 10.0   \n",
       "\n",
       "  requires_license  license  jurisdiction_names instant_bookable  \\\n",
       "0                f      NaN                 NaN                f   \n",
       "1                f      NaN                 NaN                t   \n",
       "2                f      NaN                 NaN                f   \n",
       "3                f      NaN                 NaN                f   \n",
       "4                f      NaN                 NaN                f   \n",
       "\n",
       "  cancellation_policy require_guest_profile_picture  \\\n",
       "0            moderate                             f   \n",
       "1            moderate                             f   \n",
       "2            moderate                             t   \n",
       "3            moderate                             f   \n",
       "4            flexible                             f   \n",
       "\n",
       "  require_guest_phone_verification  calculated_host_listings_count  \\\n",
       "0                                f                               1   \n",
       "1                                f                               1   \n",
       "2                                f                               1   \n",
       "3                                f                               1   \n",
       "4                                f                               1   \n",
       "\n",
       "   reviews_per_month  \n",
       "0                NaN  \n",
       "1               1.30  \n",
       "2               0.47  \n",
       "3               1.00  \n",
       "4               2.25  "
      ]
     },
     "execution_count": 1,
     "metadata": {},
     "output_type": "execute_result"
    }
   ],
   "source": [
    "import datetime\n",
    "\n",
    "import pandas as pd\n",
    "\n",
    "import great_expectations as gx\n",
    "import great_expectations.jupyter_ux\n",
    "from great_expectations.core.batch import BatchRequest\n",
    "from great_expectations.checkpoint import SimpleCheckpoint\n",
    "from great_expectations.exceptions import DataContextError\n",
    "\n",
    "context = gx.get_context()\n",
    "\n",
    "batch_request = {'datasource_name': 'boston_airbnb_data', 'data_connector_name': 'default_inferred_data_connector_name', 'data_asset_name': 'listings.csv', 'limit': 1000}\n",
    "\n",
    "expectation_suite_name = \"airbnb.boston.listings.csv\"\n",
    "\n",
    "validator = context.get_validator(\n",
    "    batch_request=BatchRequest(**batch_request),\n",
    "    expectation_suite_name=expectation_suite_name\n",
    ")\n",
    "column_names = [f'\"{column_name}\"' for column_name in validator.columns()]\n",
    "print(f\"Columns: {', '.join(column_names)}.\")\n",
    "validator.head(n_rows=5, fetch_all=False)"
   ]
  },
  {
   "attachments": {},
   "cell_type": "markdown",
   "id": "f5c6f4b0",
   "metadata": {},
   "source": [
    "# Select columns\n",
    "\n",
    "Select the columns on which you would like to set expectations and those which you would like to ignore.\n",
    "\n",
    "Great Expectations will choose which expectations might make sense for a column based on the **data type** and **cardinality** of the data in each selected column.\n",
    "\n",
    "Simply comment out columns that are important and should be included. You can select multiple lines and use a Jupyter\n",
    "keyboard shortcut to toggle each line: **Linux/Windows**:\n",
    "`Ctrl-/`, **macOS**: `Cmd-/`\n",
    "\n",
    "Other directives are shown (commented out) as examples of the depth of control possible (see documentation for details).\n"
   ]
  },
  {
   "cell_type": "code",
   "execution_count": 3,
   "id": "d753cf64",
   "metadata": {},
   "outputs": [],
   "source": [
    "exclude_column_names = [\n",
    "     \"id\",\n",
    "     \"listing_url\",\n",
    "     \"scrape_id\", \n",
    "     \"last_scraped\", \n",
    "     \"name\", \n",
    "     \"summary\", \n",
    "     \"space\", \n",
    "     \"description\", \n",
    "     \"experiences_offered\", \n",
    "     \"neighborhood_overview\", \n",
    "     \"notes\", \n",
    "     \"transit\", \n",
    "     \"access\", \n",
    "     \"interaction\", \n",
    "     \"house_rules\", \n",
    "     \"thumbnail_url\", \n",
    "     \"medium_url\", \n",
    "     \"picture_url\", \n",
    "     \"xl_picture_url\", \n",
    "     \"host_id\", \n",
    "     \"host_url\", \n",
    "     \"host_name\", \n",
    "     \"host_since\", \n",
    "     \"host_location\", \n",
    "     \"host_about\", \n",
    "     \"host_response_time\", \n",
    "     \"host_response_rate\", \n",
    "     \"host_acceptance_rate\", \n",
    "     \"host_is_superhost\", \n",
    "     \"host_thumbnail_url\", \n",
    "     \"host_picture_url\", \n",
    "     \"host_neighbourhood\", \n",
    "     \"host_listings_count\", \n",
    "     \"host_total_listings_count\", \n",
    "     \"host_verifications\", \n",
    "     \"host_has_profile_pic\", \n",
    "     \"host_identity_verified\", \n",
    "     \"street\", \n",
    "     \"neighbourhood\", \n",
    "     \"neighbourhood_cleansed\", \n",
    "     \"neighbourhood_group_cleansed\",  \n",
    "     \"zipcode\", \n",
    "     \"market\", \n",
    "     \"smart_location\", \n",
    "     \"is_location_exact\", \n",
    "     \"property_type\", \"room_type\", \"accommodates\", \"bathrooms\", \"bedrooms\", \"beds\", \"bed_type\", \"amenities\", \"square_feet\", \"weekly_price\", \"monthly_price\", \"security_deposit\", \"cleaning_fee\", \"guests_included\", \"epeople\", \"minimum_nights\", \"maximum_nights\", \"calendar_updated\", \"has_availability\", \"availability_30\", \"availability_60\", \"availability_90\", \"availability_365\", \"calendar_last_scraped\", \"number_of_reviews\", \"first_review\", \"last_review\", \"review_scores_rating\", \"review_scores_accuracy\", \"review_scores_cleanliness\", \"review_scores_checkin\", \"review_scores_communication\", \"review_scores_location\", \"review_scores_value\", \"requires_license\", \"license\", \"jurisdiction_names\", \"instant_bookable\", \"cancellation_policy\", \"require_guest_profile_picture\", \"require_guest_phone_verification\", \"calculated_host_listings_count\", \"reviews_per_month\",\n",
    "]"
   ]
  },
  {
   "attachments": {},
   "cell_type": "markdown",
   "id": "bf5c41f9",
   "metadata": {},
   "source": [
    "# Run the OnboardingDataAssistant\n",
    "\n",
    "The suites generated here are **not meant to be production suites** -- they are **a starting point to build upon**.\n",
    "\n",
    "**To get to a production-grade suite, you will definitely want to [edit this\n",
    "suite](https://docs.greatexpectations.io/docs/guides/expectations/create_expectations_overview#editing-a-saved-expectation-suite)\n",
    "after this initial step gets you started on the path towards what you want.**\n",
    "\n",
    "This is highly configurable depending on your goals.\n",
    "You can ignore columns, specify cardinality of categorical columns, configure semantic types for columns, even adjust thresholds and/or different estimator parameters, etc.\n",
    "You can find more information about OnboardingDataAssistant and other DataAssistant components (please see documentation for the complete set of DataAssistant controls) [how to choose and control the behavior of the DataAssistant tailored to your goals](https://docs.greatexpectations.io/docs/guides/expectations/data_assistants/how_to_create_an_expectation_suite_with_the_onboarding_data_assistant).\n",
    "\n",
    "Performance considerations:\n",
    "- Latency: We optimized for an explicit \"question/answer\" design, which means we issue **lots** of queries. Connection latency will impact performance.\n",
    "- Data Volume: Small samples of data will often give you a great starting point for understanding the dataset. Consider configuring a sampled asset and profiling a small number of batches.\n",
    "    "
   ]
  },
  {
   "cell_type": "code",
   "execution_count": 4,
   "id": "95c90c49",
   "metadata": {},
   "outputs": [
    {
     "name": "stdout",
     "output_type": "stream",
     "text": [
      "\n"
     ]
    },
    {
     "data": {
      "application/vnd.jupyter.widget-view+json": {
       "model_id": "052a80fbf87c49a0b397c9e2f5703d22",
       "version_major": 2,
       "version_minor": 0
      },
      "text/plain": [
       "Generating Expectations:   0%|          | 0/8 [00:00<?, ?it/s]"
      ]
     },
     "metadata": {},
     "output_type": "display_data"
    },
    {
     "data": {
      "application/vnd.jupyter.widget-view+json": {
       "model_id": "46522b66bb2f4945bab3f6cf20c878db",
       "version_major": 2,
       "version_minor": 0
      },
      "text/plain": [
       "Profiling Dataset:         0%|          | 0/1 [00:00<?, ?it/s]"
      ]
     },
     "metadata": {},
     "output_type": "display_data"
    },
    {
     "data": {
      "application/vnd.jupyter.widget-view+json": {
       "model_id": "a7fb1cc9e4f34a8d98502168a84d9dbf",
       "version_major": 2,
       "version_minor": 0
      },
      "text/plain": [
       "Calculating Metrics:   0%|          | 0/1 [00:00<?, ?it/s]"
      ]
     },
     "metadata": {},
     "output_type": "display_data"
    },
    {
     "data": {
      "application/vnd.jupyter.widget-view+json": {
       "model_id": "12d3c41298944911bfbde6440437dd66",
       "version_major": 2,
       "version_minor": 0
      },
      "text/plain": [
       "Calculating Metrics:   0%|          | 0/2 [00:00<?, ?it/s]"
      ]
     },
     "metadata": {},
     "output_type": "display_data"
    },
    {
     "data": {
      "application/vnd.jupyter.widget-view+json": {
       "model_id": "44f19064c661409e9e3eab365958f098",
       "version_major": 2,
       "version_minor": 0
      },
      "text/plain": [
       "Calculating Metrics:   0%|          | 0/2 [00:00<?, ?it/s]"
      ]
     },
     "metadata": {},
     "output_type": "display_data"
    },
    {
     "data": {
      "application/vnd.jupyter.widget-view+json": {
       "model_id": "3cd40feaf5a840f39f33c7bdd1f00d2a",
       "version_major": 2,
       "version_minor": 0
      },
      "text/plain": [
       "Calculating Metrics:   0%|          | 0/2 [00:00<?, ?it/s]"
      ]
     },
     "metadata": {},
     "output_type": "display_data"
    },
    {
     "data": {
      "application/vnd.jupyter.widget-view+json": {
       "model_id": "de9457ef207a4add85f5400b5757376e",
       "version_major": 2,
       "version_minor": 0
      },
      "text/plain": [
       "Calculating Metrics:   0%|          | 0/1 [00:00<?, ?it/s]"
      ]
     },
     "metadata": {},
     "output_type": "display_data"
    },
    {
     "data": {
      "application/vnd.jupyter.widget-view+json": {
       "model_id": "d0ffec787ab14d348cbd81d1a620edc5",
       "version_major": 2,
       "version_minor": 0
      },
      "text/plain": [
       "Calculating Metrics:   0%|          | 0/1 [00:00<?, ?it/s]"
      ]
     },
     "metadata": {},
     "output_type": "display_data"
    },
    {
     "data": {
      "application/vnd.jupyter.widget-view+json": {
       "model_id": "43d0cef096fc49abb74215cd3fd76a43",
       "version_major": 2,
       "version_minor": 0
      },
      "text/plain": [
       "Calculating Metrics:   0%|          | 0/19 [00:00<?, ?it/s]"
      ]
     },
     "metadata": {},
     "output_type": "display_data"
    },
    {
     "data": {
      "application/vnd.jupyter.widget-view+json": {
       "model_id": "92d0b4d73ef04853b65a516fc46c67fc",
       "version_major": 2,
       "version_minor": 0
      },
      "text/plain": [
       "Profiling Dataset:         0%|          | 0/2 [00:00<?, ?it/s]"
      ]
     },
     "metadata": {},
     "output_type": "display_data"
    },
    {
     "data": {
      "application/vnd.jupyter.widget-view+json": {
       "model_id": "10a926f5db4c43e2bde7bc481ee98d36",
       "version_major": 2,
       "version_minor": 0
      },
      "text/plain": [
       "Calculating Metrics:   0%|          | 0/5 [00:00<?, ?it/s]"
      ]
     },
     "metadata": {},
     "output_type": "display_data"
    },
    {
     "data": {
      "application/vnd.jupyter.widget-view+json": {
       "model_id": "083a98bb90dc42eba56c223d10bc8fbd",
       "version_major": 2,
       "version_minor": 0
      },
      "text/plain": [
       "Calculating Metrics:   0%|          | 0/1 [00:00<?, ?it/s]"
      ]
     },
     "metadata": {},
     "output_type": "display_data"
    },
    {
     "data": {
      "application/vnd.jupyter.widget-view+json": {
       "model_id": "090e158e45474afc94b9024eb2c187c4",
       "version_major": 2,
       "version_minor": 0
      },
      "text/plain": [
       "Calculating Metrics:   0%|          | 0/5 [00:00<?, ?it/s]"
      ]
     },
     "metadata": {},
     "output_type": "display_data"
    },
    {
     "data": {
      "application/vnd.jupyter.widget-view+json": {
       "model_id": "14178c06ef464124aec932ae670a46b7",
       "version_major": 2,
       "version_minor": 0
      },
      "text/plain": [
       "Calculating Metrics:   0%|          | 0/5 [00:00<?, ?it/s]"
      ]
     },
     "metadata": {},
     "output_type": "display_data"
    },
    {
     "data": {
      "application/vnd.jupyter.widget-view+json": {
       "model_id": "325e26091feb416f842a7852c261e384",
       "version_major": 2,
       "version_minor": 0
      },
      "text/plain": [
       "Calculating Metrics:   0%|          | 0/5 [00:00<?, ?it/s]"
      ]
     },
     "metadata": {},
     "output_type": "display_data"
    },
    {
     "data": {
      "application/vnd.jupyter.widget-view+json": {
       "model_id": "24572f334dab40b190b4642e1f089618",
       "version_major": 2,
       "version_minor": 0
      },
      "text/plain": [
       "Calculating Metrics:   0%|          | 0/1 [00:00<?, ?it/s]"
      ]
     },
     "metadata": {},
     "output_type": "display_data"
    },
    {
     "data": {
      "application/vnd.jupyter.widget-view+json": {
       "model_id": "e6307c18d6d04b9594295bf6891a3323",
       "version_major": 2,
       "version_minor": 0
      },
      "text/plain": [
       "Calculating Metrics:   0%|          | 0/5 [00:00<?, ?it/s]"
      ]
     },
     "metadata": {},
     "output_type": "display_data"
    },
    {
     "data": {
      "application/vnd.jupyter.widget-view+json": {
       "model_id": "96b3ad8bcc4d46e596a233a0e4ba99a4",
       "version_major": 2,
       "version_minor": 0
      },
      "text/plain": [
       "Calculating Metrics:   0%|          | 0/5 [00:00<?, ?it/s]"
      ]
     },
     "metadata": {},
     "output_type": "display_data"
    },
    {
     "data": {
      "application/vnd.jupyter.widget-view+json": {
       "model_id": "da73dbb638fe483fa20396b446dc023b",
       "version_major": 2,
       "version_minor": 0
      },
      "text/plain": [
       "Calculating Metrics:   0%|          | 0/2 [00:00<?, ?it/s]"
      ]
     },
     "metadata": {},
     "output_type": "display_data"
    },
    {
     "data": {
      "application/vnd.jupyter.widget-view+json": {
       "model_id": "45587381e4f24a8ea04a529dcc218b1d",
       "version_major": 2,
       "version_minor": 0
      },
      "text/plain": [
       "Calculating Metrics:   0%|          | 0/1 [00:00<?, ?it/s]"
      ]
     },
     "metadata": {},
     "output_type": "display_data"
    },
    {
     "data": {
      "application/vnd.jupyter.widget-view+json": {
       "model_id": "b81129aea8f044ffa45fdb6ade27fa4e",
       "version_major": 2,
       "version_minor": 0
      },
      "text/plain": [
       "Calculating Metrics:   0%|          | 0/1 [00:00<?, ?it/s]"
      ]
     },
     "metadata": {},
     "output_type": "display_data"
    },
    {
     "data": {
      "application/vnd.jupyter.widget-view+json": {
       "model_id": "031c61669185401cbfa0909adaf3fbcc",
       "version_major": 2,
       "version_minor": 0
      },
      "text/plain": [
       "Calculating Metrics:   0%|          | 0/19 [00:00<?, ?it/s]"
      ]
     },
     "metadata": {},
     "output_type": "display_data"
    },
    {
     "data": {
      "application/vnd.jupyter.widget-view+json": {
       "model_id": "7a13eb74cedc4053b3dd23526e4c344a",
       "version_major": 2,
       "version_minor": 0
      },
      "text/plain": [
       "Profiling Dataset:         0%|          | 0/0 [00:00<?, ?it/s]"
      ]
     },
     "metadata": {},
     "output_type": "display_data"
    },
    {
     "data": {
      "application/vnd.jupyter.widget-view+json": {
       "model_id": "78f3fa167e024d16830bbf22c74d9a9f",
       "version_major": 2,
       "version_minor": 0
      },
      "text/plain": [
       "Calculating Metrics:   0%|          | 0/2 [00:00<?, ?it/s]"
      ]
     },
     "metadata": {},
     "output_type": "display_data"
    },
    {
     "data": {
      "application/vnd.jupyter.widget-view+json": {
       "model_id": "a1ed49a7e7694ffbb306b91ae9ff2cd3",
       "version_major": 2,
       "version_minor": 0
      },
      "text/plain": [
       "Calculating Metrics:   0%|          | 0/1 [00:00<?, ?it/s]"
      ]
     },
     "metadata": {},
     "output_type": "display_data"
    },
    {
     "data": {
      "application/vnd.jupyter.widget-view+json": {
       "model_id": "b4ae5e470ca84355888a6e25dc627ce1",
       "version_major": 2,
       "version_minor": 0
      },
      "text/plain": [
       "Calculating Metrics:   0%|          | 0/1 [00:00<?, ?it/s]"
      ]
     },
     "metadata": {},
     "output_type": "display_data"
    },
    {
     "data": {
      "application/vnd.jupyter.widget-view+json": {
       "model_id": "3458c9e0838d4521b44e3f518b248e8b",
       "version_major": 2,
       "version_minor": 0
      },
      "text/plain": [
       "Calculating Metrics:   0%|          | 0/19 [00:00<?, ?it/s]"
      ]
     },
     "metadata": {},
     "output_type": "display_data"
    },
    {
     "data": {
      "application/vnd.jupyter.widget-view+json": {
       "model_id": "bcec1553f4844b0c8e1c447c2704b08a",
       "version_major": 2,
       "version_minor": 0
      },
      "text/plain": [
       "Profiling Dataset:         0%|          | 0/7 [00:00<?, ?it/s]"
      ]
     },
     "metadata": {},
     "output_type": "display_data"
    },
    {
     "data": {
      "application/vnd.jupyter.widget-view+json": {
       "model_id": "5fbf69ad8ec74508ab78c8d102855f68",
       "version_major": 2,
       "version_minor": 0
      },
      "text/plain": [
       "Calculating Metrics:   0%|          | 0/5 [00:00<?, ?it/s]"
      ]
     },
     "metadata": {},
     "output_type": "display_data"
    },
    {
     "data": {
      "application/vnd.jupyter.widget-view+json": {
       "model_id": "d3ae7d5314144743aae3506f07381d40",
       "version_major": 2,
       "version_minor": 0
      },
      "text/plain": [
       "Calculating Metrics:   0%|          | 0/1 [00:00<?, ?it/s]"
      ]
     },
     "metadata": {},
     "output_type": "display_data"
    },
    {
     "data": {
      "application/vnd.jupyter.widget-view+json": {
       "model_id": "b9736209f476447bb8626606a1ee2ca7",
       "version_major": 2,
       "version_minor": 0
      },
      "text/plain": [
       "Calculating Metrics:   0%|          | 0/5 [00:00<?, ?it/s]"
      ]
     },
     "metadata": {},
     "output_type": "display_data"
    },
    {
     "data": {
      "application/vnd.jupyter.widget-view+json": {
       "model_id": "a25fe47f658346a3ba2eda63748aa5d6",
       "version_major": 2,
       "version_minor": 0
      },
      "text/plain": [
       "Calculating Metrics:   0%|          | 0/5 [00:00<?, ?it/s]"
      ]
     },
     "metadata": {},
     "output_type": "display_data"
    },
    {
     "data": {
      "application/vnd.jupyter.widget-view+json": {
       "model_id": "bb237503c4714f3a9dcbf533cba733cc",
       "version_major": 2,
       "version_minor": 0
      },
      "text/plain": [
       "Calculating Metrics:   0%|          | 0/5 [00:00<?, ?it/s]"
      ]
     },
     "metadata": {},
     "output_type": "display_data"
    },
    {
     "data": {
      "application/vnd.jupyter.widget-view+json": {
       "model_id": "2c14b8b5b434427395fc27da6c8cdbf7",
       "version_major": 2,
       "version_minor": 0
      },
      "text/plain": [
       "Calculating Metrics:   0%|          | 0/1 [00:00<?, ?it/s]"
      ]
     },
     "metadata": {},
     "output_type": "display_data"
    },
    {
     "data": {
      "application/vnd.jupyter.widget-view+json": {
       "model_id": "0b805383057a4b3eb2281baf1e2b59e0",
       "version_major": 2,
       "version_minor": 0
      },
      "text/plain": [
       "Calculating Metrics:   0%|          | 0/5 [00:00<?, ?it/s]"
      ]
     },
     "metadata": {},
     "output_type": "display_data"
    },
    {
     "data": {
      "application/vnd.jupyter.widget-view+json": {
       "model_id": "716ced125b4c49d6b8af4d2a31caea01",
       "version_major": 2,
       "version_minor": 0
      },
      "text/plain": [
       "Calculating Metrics:   0%|          | 0/5 [00:00<?, ?it/s]"
      ]
     },
     "metadata": {},
     "output_type": "display_data"
    },
    {
     "data": {
      "application/vnd.jupyter.widget-view+json": {
       "model_id": "832d2a98b2f3469b891b0ac4a16426d6",
       "version_major": 2,
       "version_minor": 0
      },
      "text/plain": [
       "Calculating Metrics:   0%|          | 0/5 [00:00<?, ?it/s]"
      ]
     },
     "metadata": {},
     "output_type": "display_data"
    },
    {
     "data": {
      "application/vnd.jupyter.widget-view+json": {
       "model_id": "d6a2b5faa71c486d9aa47638daec9dee",
       "version_major": 2,
       "version_minor": 0
      },
      "text/plain": [
       "Calculating Metrics:   0%|          | 0/1 [00:00<?, ?it/s]"
      ]
     },
     "metadata": {},
     "output_type": "display_data"
    },
    {
     "data": {
      "application/vnd.jupyter.widget-view+json": {
       "model_id": "c633b26cc79748c1b9206b867dff8da8",
       "version_major": 2,
       "version_minor": 0
      },
      "text/plain": [
       "Calculating Metrics:   0%|          | 0/5 [00:00<?, ?it/s]"
      ]
     },
     "metadata": {},
     "output_type": "display_data"
    },
    {
     "data": {
      "application/vnd.jupyter.widget-view+json": {
       "model_id": "18f0c70591c7422eb298a05aac25ca9f",
       "version_major": 2,
       "version_minor": 0
      },
      "text/plain": [
       "Calculating Metrics:   0%|          | 0/5 [00:00<?, ?it/s]"
      ]
     },
     "metadata": {},
     "output_type": "display_data"
    },
    {
     "data": {
      "application/vnd.jupyter.widget-view+json": {
       "model_id": "a0d832be4a4d457492967e8a3187de57",
       "version_major": 2,
       "version_minor": 0
      },
      "text/plain": [
       "Calculating Metrics:   0%|          | 0/5 [00:00<?, ?it/s]"
      ]
     },
     "metadata": {},
     "output_type": "display_data"
    },
    {
     "data": {
      "application/vnd.jupyter.widget-view+json": {
       "model_id": "15afdc6bc93042e497d3ead49d38a862",
       "version_major": 2,
       "version_minor": 0
      },
      "text/plain": [
       "Calculating Metrics:   0%|          | 0/1 [00:00<?, ?it/s]"
      ]
     },
     "metadata": {},
     "output_type": "display_data"
    },
    {
     "data": {
      "application/vnd.jupyter.widget-view+json": {
       "model_id": "1f377c83b9384321bf89ec6d0595fef0",
       "version_major": 2,
       "version_minor": 0
      },
      "text/plain": [
       "Calculating Metrics:   0%|          | 0/5 [00:00<?, ?it/s]"
      ]
     },
     "metadata": {},
     "output_type": "display_data"
    },
    {
     "data": {
      "application/vnd.jupyter.widget-view+json": {
       "model_id": "10e0f4b818c842cba1609f2bd99b905a",
       "version_major": 2,
       "version_minor": 0
      },
      "text/plain": [
       "Calculating Metrics:   0%|          | 0/5 [00:00<?, ?it/s]"
      ]
     },
     "metadata": {},
     "output_type": "display_data"
    },
    {
     "data": {
      "application/vnd.jupyter.widget-view+json": {
       "model_id": "37026e3c99de4aa0a292e272027211fe",
       "version_major": 2,
       "version_minor": 0
      },
      "text/plain": [
       "Calculating Metrics:   0%|          | 0/5 [00:00<?, ?it/s]"
      ]
     },
     "metadata": {},
     "output_type": "display_data"
    },
    {
     "data": {
      "application/vnd.jupyter.widget-view+json": {
       "model_id": "6ad9731d745e411f909c19e1c678e1de",
       "version_major": 2,
       "version_minor": 0
      },
      "text/plain": [
       "Calculating Metrics:   0%|          | 0/1 [00:00<?, ?it/s]"
      ]
     },
     "metadata": {},
     "output_type": "display_data"
    },
    {
     "data": {
      "application/vnd.jupyter.widget-view+json": {
       "model_id": "041c9376d96945d1af4bb67b188d9e51",
       "version_major": 2,
       "version_minor": 0
      },
      "text/plain": [
       "Calculating Metrics:   0%|          | 0/5 [00:00<?, ?it/s]"
      ]
     },
     "metadata": {},
     "output_type": "display_data"
    },
    {
     "data": {
      "application/vnd.jupyter.widget-view+json": {
       "model_id": "b0bebe2ccf10460492843d0c1a856c9a",
       "version_major": 2,
       "version_minor": 0
      },
      "text/plain": [
       "Calculating Metrics:   0%|          | 0/5 [00:00<?, ?it/s]"
      ]
     },
     "metadata": {},
     "output_type": "display_data"
    },
    {
     "data": {
      "application/vnd.jupyter.widget-view+json": {
       "model_id": "599a04bae4cd47ada3495f074b076310",
       "version_major": 2,
       "version_minor": 0
      },
      "text/plain": [
       "Calculating Metrics:   0%|          | 0/5 [00:00<?, ?it/s]"
      ]
     },
     "metadata": {},
     "output_type": "display_data"
    },
    {
     "data": {
      "application/vnd.jupyter.widget-view+json": {
       "model_id": "8e7ae89fefab40f480f03690613f14c9",
       "version_major": 2,
       "version_minor": 0
      },
      "text/plain": [
       "Calculating Metrics:   0%|          | 0/1 [00:00<?, ?it/s]"
      ]
     },
     "metadata": {},
     "output_type": "display_data"
    },
    {
     "data": {
      "application/vnd.jupyter.widget-view+json": {
       "model_id": "e71b71b74d64483486b9e56cb77f46e1",
       "version_major": 2,
       "version_minor": 0
      },
      "text/plain": [
       "Calculating Metrics:   0%|          | 0/5 [00:00<?, ?it/s]"
      ]
     },
     "metadata": {},
     "output_type": "display_data"
    },
    {
     "data": {
      "application/vnd.jupyter.widget-view+json": {
       "model_id": "5258eee2ffd64fa8b37dcc85cee265bc",
       "version_major": 2,
       "version_minor": 0
      },
      "text/plain": [
       "Calculating Metrics:   0%|          | 0/5 [00:00<?, ?it/s]"
      ]
     },
     "metadata": {},
     "output_type": "display_data"
    },
    {
     "data": {
      "application/vnd.jupyter.widget-view+json": {
       "model_id": "60ee6b59eade472abd3fec018a1ca959",
       "version_major": 2,
       "version_minor": 0
      },
      "text/plain": [
       "Calculating Metrics:   0%|          | 0/5 [00:00<?, ?it/s]"
      ]
     },
     "metadata": {},
     "output_type": "display_data"
    },
    {
     "data": {
      "application/vnd.jupyter.widget-view+json": {
       "model_id": "6f53fb0bfcd644cfb14e3905a47c8cda",
       "version_major": 2,
       "version_minor": 0
      },
      "text/plain": [
       "Calculating Metrics:   0%|          | 0/1 [00:00<?, ?it/s]"
      ]
     },
     "metadata": {},
     "output_type": "display_data"
    },
    {
     "data": {
      "application/vnd.jupyter.widget-view+json": {
       "model_id": "688a2e1bf8aa43328d744302c12c5c31",
       "version_major": 2,
       "version_minor": 0
      },
      "text/plain": [
       "Calculating Metrics:   0%|          | 0/5 [00:00<?, ?it/s]"
      ]
     },
     "metadata": {},
     "output_type": "display_data"
    },
    {
     "data": {
      "application/vnd.jupyter.widget-view+json": {
       "model_id": "c87e7c1828e54703802b55f1e5f03373",
       "version_major": 2,
       "version_minor": 0
      },
      "text/plain": [
       "Calculating Metrics:   0%|          | 0/5 [00:00<?, ?it/s]"
      ]
     },
     "metadata": {},
     "output_type": "display_data"
    },
    {
     "data": {
      "application/vnd.jupyter.widget-view+json": {
       "model_id": "e497e65fe5d041319a46220f8669fcd3",
       "version_major": 2,
       "version_minor": 0
      },
      "text/plain": [
       "Calculating Metrics:   0%|          | 0/2 [00:00<?, ?it/s]"
      ]
     },
     "metadata": {},
     "output_type": "display_data"
    },
    {
     "data": {
      "application/vnd.jupyter.widget-view+json": {
       "model_id": "15993179d48c474abbf0c75f05366376",
       "version_major": 2,
       "version_minor": 0
      },
      "text/plain": [
       "Calculating Metrics:   0%|          | 0/1 [00:00<?, ?it/s]"
      ]
     },
     "metadata": {},
     "output_type": "display_data"
    },
    {
     "data": {
      "application/vnd.jupyter.widget-view+json": {
       "model_id": "e93ac344a7134f58a858b61deb08f592",
       "version_major": 2,
       "version_minor": 0
      },
      "text/plain": [
       "Profiling Dataset:         0%|          | 0/2 [00:00<?, ?it/s]"
      ]
     },
     "metadata": {},
     "output_type": "display_data"
    },
    {
     "data": {
      "application/vnd.jupyter.widget-view+json": {
       "model_id": "6ccb701c9d6f44818b20f085ad2081d1",
       "version_major": 2,
       "version_minor": 0
      },
      "text/plain": [
       "Calculating Metrics:   0%|          | 0/6 [00:00<?, ?it/s]"
      ]
     },
     "metadata": {},
     "output_type": "display_data"
    },
    {
     "data": {
      "application/vnd.jupyter.widget-view+json": {
       "model_id": "60d7746991b641f085bbd44c923bd766",
       "version_major": 2,
       "version_minor": 0
      },
      "text/plain": [
       "Calculating Metrics:   0%|          | 0/6 [00:00<?, ?it/s]"
      ]
     },
     "metadata": {},
     "output_type": "display_data"
    },
    {
     "data": {
      "application/vnd.jupyter.widget-view+json": {
       "model_id": "b935a88edd454981bfbc1314c458766a",
       "version_major": 2,
       "version_minor": 0
      },
      "text/plain": [
       "Calculating Metrics:   0%|          | 0/4 [00:00<?, ?it/s]"
      ]
     },
     "metadata": {},
     "output_type": "display_data"
    },
    {
     "data": {
      "application/vnd.jupyter.widget-view+json": {
       "model_id": "4f4a6900d7cc4809a771afe5548eaf61",
       "version_major": 2,
       "version_minor": 0
      },
      "text/plain": [
       "Calculating Metrics:   0%|          | 0/4 [00:00<?, ?it/s]"
      ]
     },
     "metadata": {},
     "output_type": "display_data"
    },
    {
     "data": {
      "application/vnd.jupyter.widget-view+json": {
       "model_id": "bf89eb3ad6404fc89c1c63e0ee214f1a",
       "version_major": 2,
       "version_minor": 0
      },
      "text/plain": [
       "Calculating Metrics:   0%|          | 0/4 [00:00<?, ?it/s]"
      ]
     },
     "metadata": {},
     "output_type": "display_data"
    },
    {
     "data": {
      "application/vnd.jupyter.widget-view+json": {
       "model_id": "5757cbd51c874cb5ac81e607fe4d71f0",
       "version_major": 2,
       "version_minor": 0
      },
      "text/plain": [
       "Calculating Metrics:   0%|          | 0/4 [00:00<?, ?it/s]"
      ]
     },
     "metadata": {},
     "output_type": "display_data"
    },
    {
     "data": {
      "application/vnd.jupyter.widget-view+json": {
       "model_id": "0264be80bab448cb9df7c0668579cf72",
       "version_major": 2,
       "version_minor": 0
      },
      "text/plain": [
       "Calculating Metrics:   0%|          | 0/4 [00:00<?, ?it/s]"
      ]
     },
     "metadata": {},
     "output_type": "display_data"
    },
    {
     "data": {
      "application/vnd.jupyter.widget-view+json": {
       "model_id": "07f9341309b940e4a8abf4be667c53ca",
       "version_major": 2,
       "version_minor": 0
      },
      "text/plain": [
       "Calculating Metrics:   0%|          | 0/4 [00:00<?, ?it/s]"
      ]
     },
     "metadata": {},
     "output_type": "display_data"
    },
    {
     "data": {
      "application/vnd.jupyter.widget-view+json": {
       "model_id": "826163ea33994c7ab1bd967a01a7e952",
       "version_major": 2,
       "version_minor": 0
      },
      "text/plain": [
       "Calculating Metrics:   0%|          | 0/4 [00:00<?, ?it/s]"
      ]
     },
     "metadata": {},
     "output_type": "display_data"
    },
    {
     "data": {
      "application/vnd.jupyter.widget-view+json": {
       "model_id": "3bcc6a2c87ba4ea8b138252e0450ef63",
       "version_major": 2,
       "version_minor": 0
      },
      "text/plain": [
       "Calculating Metrics:   0%|          | 0/6 [00:00<?, ?it/s]"
      ]
     },
     "metadata": {},
     "output_type": "display_data"
    },
    {
     "data": {
      "application/vnd.jupyter.widget-view+json": {
       "model_id": "5753cfadf0084c0d9d4c9e2c57792b77",
       "version_major": 2,
       "version_minor": 0
      },
      "text/plain": [
       "Calculating Metrics:   0%|          | 0/6 [00:00<?, ?it/s]"
      ]
     },
     "metadata": {},
     "output_type": "display_data"
    },
    {
     "data": {
      "application/vnd.jupyter.widget-view+json": {
       "model_id": "aec7de07a45d40e881485bc5a99280bb",
       "version_major": 2,
       "version_minor": 0
      },
      "text/plain": [
       "Calculating Metrics:   0%|          | 0/4 [00:00<?, ?it/s]"
      ]
     },
     "metadata": {},
     "output_type": "display_data"
    },
    {
     "data": {
      "application/vnd.jupyter.widget-view+json": {
       "model_id": "4409b9c2058042558886ba116a36a5ba",
       "version_major": 2,
       "version_minor": 0
      },
      "text/plain": [
       "Calculating Metrics:   0%|          | 0/4 [00:00<?, ?it/s]"
      ]
     },
     "metadata": {},
     "output_type": "display_data"
    },
    {
     "data": {
      "application/vnd.jupyter.widget-view+json": {
       "model_id": "4ebece8ef7ae4f2eacc5bdcea1d90177",
       "version_major": 2,
       "version_minor": 0
      },
      "text/plain": [
       "Calculating Metrics:   0%|          | 0/4 [00:00<?, ?it/s]"
      ]
     },
     "metadata": {},
     "output_type": "display_data"
    },
    {
     "data": {
      "application/vnd.jupyter.widget-view+json": {
       "model_id": "1047abab6457420ca5477aaf05c2cb42",
       "version_major": 2,
       "version_minor": 0
      },
      "text/plain": [
       "Calculating Metrics:   0%|          | 0/4 [00:00<?, ?it/s]"
      ]
     },
     "metadata": {},
     "output_type": "display_data"
    },
    {
     "data": {
      "application/vnd.jupyter.widget-view+json": {
       "model_id": "d48a8d8f638d42ae9ff4b27642441818",
       "version_major": 2,
       "version_minor": 0
      },
      "text/plain": [
       "Calculating Metrics:   0%|          | 0/4 [00:00<?, ?it/s]"
      ]
     },
     "metadata": {},
     "output_type": "display_data"
    },
    {
     "data": {
      "application/vnd.jupyter.widget-view+json": {
       "model_id": "d137c340171b4ff9bdad7629fa11e3cd",
       "version_major": 2,
       "version_minor": 0
      },
      "text/plain": [
       "Calculating Metrics:   0%|          | 0/4 [00:00<?, ?it/s]"
      ]
     },
     "metadata": {},
     "output_type": "display_data"
    },
    {
     "data": {
      "application/vnd.jupyter.widget-view+json": {
       "model_id": "0fccb96904784bb48f27090574cf9000",
       "version_major": 2,
       "version_minor": 0
      },
      "text/plain": [
       "Calculating Metrics:   0%|          | 0/4 [00:00<?, ?it/s]"
      ]
     },
     "metadata": {},
     "output_type": "display_data"
    },
    {
     "data": {
      "application/vnd.jupyter.widget-view+json": {
       "model_id": "5712aaf4cc4f47eb8df15679d6db5453",
       "version_major": 2,
       "version_minor": 0
      },
      "text/plain": [
       "Calculating Metrics:   0%|          | 0/2 [00:00<?, ?it/s]"
      ]
     },
     "metadata": {},
     "output_type": "display_data"
    },
    {
     "data": {
      "application/vnd.jupyter.widget-view+json": {
       "model_id": "9db9e85d815d4b5f879d920f882fcdf4",
       "version_major": 2,
       "version_minor": 0
      },
      "text/plain": [
       "Calculating Metrics:   0%|          | 0/1 [00:00<?, ?it/s]"
      ]
     },
     "metadata": {},
     "output_type": "display_data"
    },
    {
     "data": {
      "application/vnd.jupyter.widget-view+json": {
       "model_id": "76d9f5d560684cff96c1cdf7188c1001",
       "version_major": 2,
       "version_minor": 0
      },
      "text/plain": [
       "Profiling Dataset:         0%|          | 0/0 [00:00<?, ?it/s]"
      ]
     },
     "metadata": {},
     "output_type": "display_data"
    },
    {
     "data": {
      "application/vnd.jupyter.widget-view+json": {
       "model_id": "e82263384df94f21a14bb75e0da13183",
       "version_major": 2,
       "version_minor": 0
      },
      "text/plain": [
       "Calculating Metrics:   0%|          | 0/2 [00:00<?, ?it/s]"
      ]
     },
     "metadata": {},
     "output_type": "display_data"
    },
    {
     "data": {
      "application/vnd.jupyter.widget-view+json": {
       "model_id": "9d0bb5b942ed400793a95c1654bcd34e",
       "version_major": 2,
       "version_minor": 0
      },
      "text/plain": [
       "Calculating Metrics:   0%|          | 0/1 [00:00<?, ?it/s]"
      ]
     },
     "metadata": {},
     "output_type": "display_data"
    },
    {
     "data": {
      "application/vnd.jupyter.widget-view+json": {
       "model_id": "9db59ca4fee04802a2b081023d6e2488",
       "version_major": 2,
       "version_minor": 0
      },
      "text/plain": [
       "Profiling Dataset:         0%|          | 0/6 [00:00<?, ?it/s]"
      ]
     },
     "metadata": {},
     "output_type": "display_data"
    },
    {
     "data": {
      "application/vnd.jupyter.widget-view+json": {
       "model_id": "fef35a8543874096a6e88bf559d1e000",
       "version_major": 2,
       "version_minor": 0
      },
      "text/plain": [
       "Calculating Metrics:   0%|          | 0/4 [00:00<?, ?it/s]"
      ]
     },
     "metadata": {},
     "output_type": "display_data"
    },
    {
     "data": {
      "application/vnd.jupyter.widget-view+json": {
       "model_id": "d49a2c851f2a45fe9bfed8f6526572d6",
       "version_major": 2,
       "version_minor": 0
      },
      "text/plain": [
       "Calculating Metrics:   0%|          | 0/4 [00:00<?, ?it/s]"
      ]
     },
     "metadata": {},
     "output_type": "display_data"
    },
    {
     "data": {
      "application/vnd.jupyter.widget-view+json": {
       "model_id": "7a4ea07e19eb4876b847cea1fe286744",
       "version_major": 2,
       "version_minor": 0
      },
      "text/plain": [
       "Calculating Metrics:   0%|          | 0/6 [00:00<?, ?it/s]"
      ]
     },
     "metadata": {},
     "output_type": "display_data"
    },
    {
     "data": {
      "application/vnd.jupyter.widget-view+json": {
       "model_id": "b56e82545d6a4ba0ba8f46c982f5f2f1",
       "version_major": 2,
       "version_minor": 0
      },
      "text/plain": [
       "Calculating Metrics:   0%|          | 0/23 [00:00<?, ?it/s]"
      ]
     },
     "metadata": {},
     "output_type": "display_data"
    },
    {
     "data": {
      "application/vnd.jupyter.widget-view+json": {
       "model_id": "157887598e814a01ae21e52b679ddff2",
       "version_major": 2,
       "version_minor": 0
      },
      "text/plain": [
       "Calculating Metrics:   0%|          | 0/4 [00:00<?, ?it/s]"
      ]
     },
     "metadata": {},
     "output_type": "display_data"
    },
    {
     "data": {
      "application/vnd.jupyter.widget-view+json": {
       "model_id": "67c0f602b0f94f2a86fa0aa8e65ae350",
       "version_major": 2,
       "version_minor": 0
      },
      "text/plain": [
       "Calculating Metrics:   0%|          | 0/4 [00:00<?, ?it/s]"
      ]
     },
     "metadata": {},
     "output_type": "display_data"
    },
    {
     "data": {
      "application/vnd.jupyter.widget-view+json": {
       "model_id": "f27c9c403f804155b3cdc68e7caa3ec4",
       "version_major": 2,
       "version_minor": 0
      },
      "text/plain": [
       "Calculating Metrics:   0%|          | 0/6 [00:00<?, ?it/s]"
      ]
     },
     "metadata": {},
     "output_type": "display_data"
    },
    {
     "data": {
      "application/vnd.jupyter.widget-view+json": {
       "model_id": "4cf77f68b32e47c8af836e9f1bf360b3",
       "version_major": 2,
       "version_minor": 0
      },
      "text/plain": [
       "Calculating Metrics:   0%|          | 0/23 [00:00<?, ?it/s]"
      ]
     },
     "metadata": {},
     "output_type": "display_data"
    },
    {
     "data": {
      "application/vnd.jupyter.widget-view+json": {
       "model_id": "fec8900dc0e640e4afb56faaa49c7a14",
       "version_major": 2,
       "version_minor": 0
      },
      "text/plain": [
       "Calculating Metrics:   0%|          | 0/4 [00:00<?, ?it/s]"
      ]
     },
     "metadata": {},
     "output_type": "display_data"
    },
    {
     "data": {
      "application/vnd.jupyter.widget-view+json": {
       "model_id": "02e90f122cdf403182d09f157940a64d",
       "version_major": 2,
       "version_minor": 0
      },
      "text/plain": [
       "Calculating Metrics:   0%|          | 0/4 [00:00<?, ?it/s]"
      ]
     },
     "metadata": {},
     "output_type": "display_data"
    },
    {
     "data": {
      "application/vnd.jupyter.widget-view+json": {
       "model_id": "6c3edfdc8233484696873ce8ab5b0a76",
       "version_major": 2,
       "version_minor": 0
      },
      "text/plain": [
       "Calculating Metrics:   0%|          | 0/6 [00:00<?, ?it/s]"
      ]
     },
     "metadata": {},
     "output_type": "display_data"
    },
    {
     "data": {
      "application/vnd.jupyter.widget-view+json": {
       "model_id": "34fc290d0ba44652b8dab721c611f493",
       "version_major": 2,
       "version_minor": 0
      },
      "text/plain": [
       "Calculating Metrics:   0%|          | 0/23 [00:00<?, ?it/s]"
      ]
     },
     "metadata": {},
     "output_type": "display_data"
    },
    {
     "data": {
      "application/vnd.jupyter.widget-view+json": {
       "model_id": "5f4b6529e27847e0ab5907a4283cac42",
       "version_major": 2,
       "version_minor": 0
      },
      "text/plain": [
       "Calculating Metrics:   0%|          | 0/4 [00:00<?, ?it/s]"
      ]
     },
     "metadata": {},
     "output_type": "display_data"
    },
    {
     "data": {
      "application/vnd.jupyter.widget-view+json": {
       "model_id": "c844a6cc30db47178d8dd3cf0659a76e",
       "version_major": 2,
       "version_minor": 0
      },
      "text/plain": [
       "Calculating Metrics:   0%|          | 0/4 [00:00<?, ?it/s]"
      ]
     },
     "metadata": {},
     "output_type": "display_data"
    },
    {
     "data": {
      "application/vnd.jupyter.widget-view+json": {
       "model_id": "d0af37b297e642e88fc0269149687fb7",
       "version_major": 2,
       "version_minor": 0
      },
      "text/plain": [
       "Calculating Metrics:   0%|          | 0/6 [00:00<?, ?it/s]"
      ]
     },
     "metadata": {},
     "output_type": "display_data"
    },
    {
     "data": {
      "application/vnd.jupyter.widget-view+json": {
       "model_id": "5120753cb7a941e1bf3093412bb0b6f8",
       "version_major": 2,
       "version_minor": 0
      },
      "text/plain": [
       "Calculating Metrics:   0%|          | 0/23 [00:00<?, ?it/s]"
      ]
     },
     "metadata": {},
     "output_type": "display_data"
    },
    {
     "data": {
      "application/vnd.jupyter.widget-view+json": {
       "model_id": "35ccbc877e70439fa254e949a059b0d9",
       "version_major": 2,
       "version_minor": 0
      },
      "text/plain": [
       "Calculating Metrics:   0%|          | 0/4 [00:00<?, ?it/s]"
      ]
     },
     "metadata": {},
     "output_type": "display_data"
    },
    {
     "data": {
      "application/vnd.jupyter.widget-view+json": {
       "model_id": "87e716df362244f69aa4460170785e2e",
       "version_major": 2,
       "version_minor": 0
      },
      "text/plain": [
       "Calculating Metrics:   0%|          | 0/4 [00:00<?, ?it/s]"
      ]
     },
     "metadata": {},
     "output_type": "display_data"
    },
    {
     "data": {
      "application/vnd.jupyter.widget-view+json": {
       "model_id": "a93d4c15db984ff8bd5a9859d4c9c128",
       "version_major": 2,
       "version_minor": 0
      },
      "text/plain": [
       "Calculating Metrics:   0%|          | 0/6 [00:00<?, ?it/s]"
      ]
     },
     "metadata": {},
     "output_type": "display_data"
    },
    {
     "data": {
      "application/vnd.jupyter.widget-view+json": {
       "model_id": "a55f161af3dd4c3487550cce0933b146",
       "version_major": 2,
       "version_minor": 0
      },
      "text/plain": [
       "Calculating Metrics:   0%|          | 0/23 [00:00<?, ?it/s]"
      ]
     },
     "metadata": {},
     "output_type": "display_data"
    },
    {
     "data": {
      "application/vnd.jupyter.widget-view+json": {
       "model_id": "3b073a228e9741a1941ed9c64098eca4",
       "version_major": 2,
       "version_minor": 0
      },
      "text/plain": [
       "Calculating Metrics:   0%|          | 0/4 [00:00<?, ?it/s]"
      ]
     },
     "metadata": {},
     "output_type": "display_data"
    },
    {
     "data": {
      "application/vnd.jupyter.widget-view+json": {
       "model_id": "49f9e4bdc96949dd94bc6d301209e4ee",
       "version_major": 2,
       "version_minor": 0
      },
      "text/plain": [
       "Calculating Metrics:   0%|          | 0/4 [00:00<?, ?it/s]"
      ]
     },
     "metadata": {},
     "output_type": "display_data"
    },
    {
     "data": {
      "application/vnd.jupyter.widget-view+json": {
       "model_id": "5a92890772bd48399642507ab2ab9bdf",
       "version_major": 2,
       "version_minor": 0
      },
      "text/plain": [
       "Calculating Metrics:   0%|          | 0/6 [00:00<?, ?it/s]"
      ]
     },
     "metadata": {},
     "output_type": "display_data"
    },
    {
     "data": {
      "application/vnd.jupyter.widget-view+json": {
       "model_id": "0852047813a24c578df12f298a5368b6",
       "version_major": 2,
       "version_minor": 0
      },
      "text/plain": [
       "Calculating Metrics:   0%|          | 0/23 [00:00<?, ?it/s]"
      ]
     },
     "metadata": {},
     "output_type": "display_data"
    },
    {
     "data": {
      "application/vnd.jupyter.widget-view+json": {
       "model_id": "5f8c8c4917bf4d91a494b69b55e09314",
       "version_major": 2,
       "version_minor": 0
      },
      "text/plain": [
       "Calculating Metrics:   0%|          | 0/2 [00:00<?, ?it/s]"
      ]
     },
     "metadata": {},
     "output_type": "display_data"
    },
    {
     "data": {
      "application/vnd.jupyter.widget-view+json": {
       "model_id": "4200266459834006b7a29d84060679d1",
       "version_major": 2,
       "version_minor": 0
      },
      "text/plain": [
       "Calculating Metrics:   0%|          | 0/1 [00:00<?, ?it/s]"
      ]
     },
     "metadata": {},
     "output_type": "display_data"
    },
    {
     "data": {
      "application/vnd.jupyter.widget-view+json": {
       "model_id": "caedd79a707a41ef91cfcea310418d66",
       "version_major": 2,
       "version_minor": 0
      },
      "text/plain": [
       "Calculating Metrics:   0%|          | 0/11 [00:00<?, ?it/s]"
      ]
     },
     "metadata": {},
     "output_type": "display_data"
    },
    {
     "data": {
      "application/vnd.jupyter.widget-view+json": {
       "model_id": "8ccaf09040e44a0db295a2e78b30218b",
       "version_major": 2,
       "version_minor": 0
      },
      "text/plain": [
       "Profiling Dataset:         0%|          | 0/5 [00:00<?, ?it/s]"
      ]
     },
     "metadata": {},
     "output_type": "display_data"
    },
    {
     "data": {
      "application/vnd.jupyter.widget-view+json": {
       "model_id": "1be353cd5540478abc20f25cd74e3fd9",
       "version_major": 2,
       "version_minor": 0
      },
      "text/plain": [
       "Calculating Metrics:   0%|          | 0/4 [00:00<?, ?it/s]"
      ]
     },
     "metadata": {},
     "output_type": "display_data"
    },
    {
     "data": {
      "application/vnd.jupyter.widget-view+json": {
       "model_id": "ccb2842384ad44f5aa7add88755f52e3",
       "version_major": 2,
       "version_minor": 0
      },
      "text/plain": [
       "Calculating Metrics:   0%|          | 0/4 [00:00<?, ?it/s]"
      ]
     },
     "metadata": {},
     "output_type": "display_data"
    },
    {
     "data": {
      "application/vnd.jupyter.widget-view+json": {
       "model_id": "97634d668fbc4704a8e62d584fc8434c",
       "version_major": 2,
       "version_minor": 0
      },
      "text/plain": [
       "Calculating Metrics:   0%|          | 0/4 [00:00<?, ?it/s]"
      ]
     },
     "metadata": {},
     "output_type": "display_data"
    },
    {
     "data": {
      "application/vnd.jupyter.widget-view+json": {
       "model_id": "26a2526978714003aba166cb310c5137",
       "version_major": 2,
       "version_minor": 0
      },
      "text/plain": [
       "Calculating Metrics:   0%|          | 0/7 [00:00<?, ?it/s]"
      ]
     },
     "metadata": {},
     "output_type": "display_data"
    },
    {
     "data": {
      "application/vnd.jupyter.widget-view+json": {
       "model_id": "c0064bd6d6dd462c8e224a68b23106d0",
       "version_major": 2,
       "version_minor": 0
      },
      "text/plain": [
       "Calculating Metrics:   0%|          | 0/4 [00:00<?, ?it/s]"
      ]
     },
     "metadata": {},
     "output_type": "display_data"
    },
    {
     "data": {
      "application/vnd.jupyter.widget-view+json": {
       "model_id": "f8a90fbe68d041a4a6434868b5bbb240",
       "version_major": 2,
       "version_minor": 0
      },
      "text/plain": [
       "Calculating Metrics:   0%|          | 0/4 [00:00<?, ?it/s]"
      ]
     },
     "metadata": {},
     "output_type": "display_data"
    },
    {
     "data": {
      "application/vnd.jupyter.widget-view+json": {
       "model_id": "51cb1b59edd94a07896c2bb574f0f770",
       "version_major": 2,
       "version_minor": 0
      },
      "text/plain": [
       "Calculating Metrics:   0%|          | 0/4 [00:00<?, ?it/s]"
      ]
     },
     "metadata": {},
     "output_type": "display_data"
    },
    {
     "data": {
      "application/vnd.jupyter.widget-view+json": {
       "model_id": "2ad3b6f7df59457091c5b5e36c238b9e",
       "version_major": 2,
       "version_minor": 0
      },
      "text/plain": [
       "Calculating Metrics:   0%|          | 0/7 [00:00<?, ?it/s]"
      ]
     },
     "metadata": {},
     "output_type": "display_data"
    },
    {
     "data": {
      "application/vnd.jupyter.widget-view+json": {
       "model_id": "848d8908ad8a4367876549f7d653a3d8",
       "version_major": 2,
       "version_minor": 0
      },
      "text/plain": [
       "Calculating Metrics:   0%|          | 0/4 [00:00<?, ?it/s]"
      ]
     },
     "metadata": {},
     "output_type": "display_data"
    },
    {
     "data": {
      "application/vnd.jupyter.widget-view+json": {
       "model_id": "c40c3510341344ca9d33cde2d13ccb8a",
       "version_major": 2,
       "version_minor": 0
      },
      "text/plain": [
       "Calculating Metrics:   0%|          | 0/4 [00:00<?, ?it/s]"
      ]
     },
     "metadata": {},
     "output_type": "display_data"
    },
    {
     "data": {
      "application/vnd.jupyter.widget-view+json": {
       "model_id": "a80a5717e0294a4a9cb06f9f68420b74",
       "version_major": 2,
       "version_minor": 0
      },
      "text/plain": [
       "Calculating Metrics:   0%|          | 0/4 [00:00<?, ?it/s]"
      ]
     },
     "metadata": {},
     "output_type": "display_data"
    },
    {
     "data": {
      "application/vnd.jupyter.widget-view+json": {
       "model_id": "290253b618a14eccadb92380fabe919f",
       "version_major": 2,
       "version_minor": 0
      },
      "text/plain": [
       "Calculating Metrics:   0%|          | 0/7 [00:00<?, ?it/s]"
      ]
     },
     "metadata": {},
     "output_type": "display_data"
    },
    {
     "data": {
      "application/vnd.jupyter.widget-view+json": {
       "model_id": "1fc370f6503c4988a6dc6b86ac6246eb",
       "version_major": 2,
       "version_minor": 0
      },
      "text/plain": [
       "Calculating Metrics:   0%|          | 0/4 [00:00<?, ?it/s]"
      ]
     },
     "metadata": {},
     "output_type": "display_data"
    },
    {
     "data": {
      "application/vnd.jupyter.widget-view+json": {
       "model_id": "7a7c53051dea4d6da2360e916c86f270",
       "version_major": 2,
       "version_minor": 0
      },
      "text/plain": [
       "Calculating Metrics:   0%|          | 0/4 [00:00<?, ?it/s]"
      ]
     },
     "metadata": {},
     "output_type": "display_data"
    },
    {
     "data": {
      "application/vnd.jupyter.widget-view+json": {
       "model_id": "f16b346b0aa74bc294fe9ff57f505b0b",
       "version_major": 2,
       "version_minor": 0
      },
      "text/plain": [
       "Calculating Metrics:   0%|          | 0/4 [00:00<?, ?it/s]"
      ]
     },
     "metadata": {},
     "output_type": "display_data"
    },
    {
     "data": {
      "application/vnd.jupyter.widget-view+json": {
       "model_id": "eadc14f357cd41b0a79d440165991eef",
       "version_major": 2,
       "version_minor": 0
      },
      "text/plain": [
       "Calculating Metrics:   0%|          | 0/7 [00:00<?, ?it/s]"
      ]
     },
     "metadata": {},
     "output_type": "display_data"
    },
    {
     "data": {
      "application/vnd.jupyter.widget-view+json": {
       "model_id": "fd16110802ad46c19fd43cb894b25f87",
       "version_major": 2,
       "version_minor": 0
      },
      "text/plain": [
       "Calculating Metrics:   0%|          | 0/4 [00:00<?, ?it/s]"
      ]
     },
     "metadata": {},
     "output_type": "display_data"
    },
    {
     "data": {
      "application/vnd.jupyter.widget-view+json": {
       "model_id": "628831a796da4b3faa49f58423e43134",
       "version_major": 2,
       "version_minor": 0
      },
      "text/plain": [
       "Calculating Metrics:   0%|          | 0/4 [00:00<?, ?it/s]"
      ]
     },
     "metadata": {},
     "output_type": "display_data"
    },
    {
     "data": {
      "application/vnd.jupyter.widget-view+json": {
       "model_id": "19988e4d39f2489e958876e0fdf67cee",
       "version_major": 2,
       "version_minor": 0
      },
      "text/plain": [
       "Calculating Metrics:   0%|          | 0/4 [00:00<?, ?it/s]"
      ]
     },
     "metadata": {},
     "output_type": "display_data"
    },
    {
     "data": {
      "application/vnd.jupyter.widget-view+json": {
       "model_id": "a6b75efb49cf4a62ae0cb0e83e3bde3c",
       "version_major": 2,
       "version_minor": 0
      },
      "text/plain": [
       "Calculating Metrics:   0%|          | 0/7 [00:00<?, ?it/s]"
      ]
     },
     "metadata": {},
     "output_type": "display_data"
    }
   ],
   "source": [
    "result = context.assistants.onboarding.run(\n",
    "    batch_request=batch_request,\n",
    "    exclude_column_names=exclude_column_names,\n",
    ")\n",
    "validator.expectation_suite = result.get_expectation_suite(\n",
    "    expectation_suite_name=expectation_suite_name\n",
    ")"
   ]
  },
  {
   "attachments": {},
   "cell_type": "markdown",
   "id": "7fcf6bb5",
   "metadata": {},
   "source": [
    "# Save & review your new Expectation Suite\n",
    "\n",
    "Let's save the draft expectation suite as a JSON file in the\n",
    "`great_expectations/expectations` directory of your project and rebuild the Data\n",
    " Docs site to make it easy to review your new suite."
   ]
  },
  {
   "cell_type": "code",
   "execution_count": 5,
   "id": "cb80949c",
   "metadata": {},
   "outputs": [
    {
     "name": "stdout",
     "output_type": "stream",
     "text": [
      "2023-05-10T01:07:32+0700 - INFO - \t51 expectation(s) included in expectation_suite.\n",
      "{\n",
      "  \"expectations\": [\n",
      "    {\n",
      "      \"kwargs\": {\n",
      "        \"min_value\": 3585,\n",
      "        \"max_value\": 3585\n",
      "      },\n",
      "      \"expectation_type\": \"expect_table_row_count_to_be_between\",\n",
      "      \"meta\": {\n",
      "        \"profiler_details\": {\n",
      "          \"metric_configuration\": {\n",
      "            \"metric_name\": \"table.row_count\",\n",
      "            \"domain_kwargs\": {},\n",
      "            \"metric_value_kwargs\": null\n",
      "          },\n",
      "          \"num_batches\": 1\n",
      "        }\n",
      "      }\n",
      "    },\n",
      "    {\n",
      "      \"kwargs\": {\n",
      "        \"exact_match\": null,\n",
      "        \"column_set\": [\n",
      "          \"license\",\n",
      "          \"host_since\",\n",
      "          \"smart_location\",\n",
      "          \"accommodates\",\n",
      "          \"review_scores_value\",\n",
      "          \"review_scores_checkin\",\n",
      "          \"host_thumbnail_url\",\n",
      "          \"host_id\",\n",
      "          \"review_scores_accuracy\",\n",
      "          \"medium_url\",\n",
      "          \"availability_30\",\n",
      "          \"maximum_nights\",\n",
      "          \"host_listings_count\",\n",
      "          \"room_type\",\n",
      "          \"review_scores_rating\",\n",
      "          \"name\",\n",
      "          \"monthly_price\",\n",
      "          \"description\",\n",
      "          \"country_code\",\n",
      "          \"host_response_rate\",\n",
      "          \"weekly_price\",\n",
      "          \"number_of_reviews\",\n",
      "          \"host_total_listings_count\",\n",
      "          \"neighbourhood_cleansed\",\n",
      "          \"requires_license\",\n",
      "          \"host_location\",\n",
      "          \"host_url\",\n",
      "          \"longitude\",\n",
      "          \"beds\",\n",
      "          \"host_identity_verified\",\n",
      "          \"require_guest_phone_verification\",\n",
      "          \"host_has_profile_pic\",\n",
      "          \"host_acceptance_rate\",\n",
      "          \"house_rules\",\n",
      "          \"neighbourhood_group_cleansed\",\n",
      "          \"notes\",\n",
      "          \"cancellation_policy\",\n",
      "          \"last_scraped\",\n",
      "          \"require_guest_profile_picture\",\n",
      "          \"review_scores_location\",\n",
      "          \"bedrooms\",\n",
      "          \"bathrooms\",\n",
      "          \"is_location_exact\",\n",
      "          \"last_review\",\n",
      "          \"host_name\",\n",
      "          \"review_scores_communication\",\n",
      "          \"availability_90\",\n",
      "          \"calendar_updated\",\n",
      "          \"bed_type\",\n",
      "          \"reviews_per_month\",\n",
      "          \"space\",\n",
      "          \"amenities\",\n",
      "          \"neighbourhood\",\n",
      "          \"picture_url\",\n",
      "          \"city\",\n",
      "          \"review_scores_cleanliness\",\n",
      "          \"experiences_offered\",\n",
      "          \"thumbnail_url\",\n",
      "          \"square_feet\",\n",
      "          \"listing_url\",\n",
      "          \"summary\",\n",
      "          \"scrape_id\",\n",
      "          \"security_deposit\",\n",
      "          \"host_response_time\",\n",
      "          \"availability_60\",\n",
      "          \"availability_365\",\n",
      "          \"first_review\",\n",
      "          \"has_availability\",\n",
      "          \"neighborhood_overview\",\n",
      "          \"calendar_last_scraped\",\n",
      "          \"access\",\n",
      "          \"latitude\",\n",
      "          \"host_is_superhost\",\n",
      "          \"minimum_nights\",\n",
      "          \"market\",\n",
      "          \"interaction\",\n",
      "          \"price\",\n",
      "          \"id\",\n",
      "          \"transit\",\n",
      "          \"extra_people\",\n",
      "          \"property_type\",\n",
      "          \"instant_bookable\",\n",
      "          \"host_about\",\n",
      "          \"host_picture_url\",\n",
      "          \"xl_picture_url\",\n",
      "          \"host_neighbourhood\",\n",
      "          \"zipcode\",\n",
      "          \"guests_included\",\n",
      "          \"jurisdiction_names\",\n",
      "          \"state\",\n",
      "          \"street\",\n",
      "          \"calculated_host_listings_count\",\n",
      "          \"cleaning_fee\",\n",
      "          \"country\",\n",
      "          \"host_verifications\"\n",
      "        ]\n",
      "      },\n",
      "      \"expectation_type\": \"expect_table_columns_to_match_set\",\n",
      "      \"meta\": {\n",
      "        \"profiler_details\": {\n",
      "          \"success_ratio\": 1.0\n",
      "        }\n",
      "      }\n",
      "    },\n",
      "    {\n",
      "      \"kwargs\": {\n",
      "        \"column\": \"latitude\"\n",
      "      },\n",
      "      \"expectation_type\": \"expect_column_values_to_be_unique\",\n",
      "      \"meta\": {\n",
      "        \"profiler_details\": {\n",
      "          \"metric_configuration\": {\n",
      "            \"metric_name\": \"column_values.unique.unexpected_count\",\n",
      "            \"domain_kwargs\": {\n",
      "              \"column\": \"latitude\"\n",
      "            },\n",
      "            \"metric_value_kwargs\": null\n",
      "          },\n",
      "          \"num_batches\": 1\n",
      "        }\n",
      "      }\n",
      "    },\n",
      "    {\n",
      "      \"kwargs\": {\n",
      "        \"column\": \"longitude\"\n",
      "      },\n",
      "      \"expectation_type\": \"expect_column_values_to_be_unique\",\n",
      "      \"meta\": {\n",
      "        \"profiler_details\": {\n",
      "          \"metric_configuration\": {\n",
      "            \"metric_name\": \"column_values.unique.unexpected_count\",\n",
      "            \"domain_kwargs\": {\n",
      "              \"column\": \"longitude\"\n",
      "            },\n",
      "            \"metric_value_kwargs\": null\n",
      "          },\n",
      "          \"num_batches\": 1\n",
      "        }\n",
      "      }\n",
      "    },\n",
      "    {\n",
      "      \"kwargs\": {\n",
      "        \"column\": \"state\"\n",
      "      },\n",
      "      \"expectation_type\": \"expect_column_values_to_not_be_null\",\n",
      "      \"meta\": {\n",
      "        \"profiler_details\": {\n",
      "          \"metric_configuration\": {\n",
      "            \"metric_name\": \"column_values.nonnull.unexpected_count\",\n",
      "            \"domain_kwargs\": {\n",
      "              \"column\": \"state\"\n",
      "            },\n",
      "            \"metric_value_kwargs\": null\n",
      "          },\n",
      "          \"num_batches\": 1\n",
      "        }\n",
      "      }\n",
      "    },\n",
      "    {\n",
      "      \"kwargs\": {\n",
      "        \"column\": \"country_code\"\n",
      "      },\n",
      "      \"expectation_type\": \"expect_column_values_to_not_be_null\",\n",
      "      \"meta\": {\n",
      "        \"profiler_details\": {\n",
      "          \"metric_configuration\": {\n",
      "            \"metric_name\": \"column_values.nonnull.unexpected_count\",\n",
      "            \"domain_kwargs\": {\n",
      "              \"column\": \"country_code\"\n",
      "            },\n",
      "            \"metric_value_kwargs\": null\n",
      "          },\n",
      "          \"num_batches\": 1\n",
      "        }\n",
      "      }\n",
      "    },\n",
      "    {\n",
      "      \"kwargs\": {\n",
      "        \"column\": \"country\"\n",
      "      },\n",
      "      \"expectation_type\": \"expect_column_values_to_not_be_null\",\n",
      "      \"meta\": {\n",
      "        \"profiler_details\": {\n",
      "          \"metric_configuration\": {\n",
      "            \"metric_name\": \"column_values.nonnull.unexpected_count\",\n",
      "            \"domain_kwargs\": {\n",
      "              \"column\": \"country\"\n",
      "            },\n",
      "            \"metric_value_kwargs\": null\n",
      "          },\n",
      "          \"num_batches\": 1\n",
      "        }\n",
      "      }\n",
      "    },\n",
      "    {\n",
      "      \"kwargs\": {\n",
      "        \"column\": \"latitude\"\n",
      "      },\n",
      "      \"expectation_type\": \"expect_column_values_to_not_be_null\",\n",
      "      \"meta\": {\n",
      "        \"profiler_details\": {\n",
      "          \"metric_configuration\": {\n",
      "            \"metric_name\": \"column_values.nonnull.unexpected_count\",\n",
      "            \"domain_kwargs\": {\n",
      "              \"column\": \"latitude\"\n",
      "            },\n",
      "            \"metric_value_kwargs\": null\n",
      "          },\n",
      "          \"num_batches\": 1\n",
      "        }\n",
      "      }\n",
      "    },\n",
      "    {\n",
      "      \"kwargs\": {\n",
      "        \"column\": \"longitude\"\n",
      "      },\n",
      "      \"expectation_type\": \"expect_column_values_to_not_be_null\",\n",
      "      \"meta\": {\n",
      "        \"profiler_details\": {\n",
      "          \"metric_configuration\": {\n",
      "            \"metric_name\": \"column_values.nonnull.unexpected_count\",\n",
      "            \"domain_kwargs\": {\n",
      "              \"column\": \"longitude\"\n",
      "            },\n",
      "            \"metric_value_kwargs\": null\n",
      "          },\n",
      "          \"num_batches\": 1\n",
      "        }\n",
      "      }\n",
      "    },\n",
      "    {\n",
      "      \"kwargs\": {\n",
      "        \"column\": \"price\"\n",
      "      },\n",
      "      \"expectation_type\": \"expect_column_values_to_not_be_null\",\n",
      "      \"meta\": {\n",
      "        \"profiler_details\": {\n",
      "          \"metric_configuration\": {\n",
      "            \"metric_name\": \"column_values.nonnull.unexpected_count\",\n",
      "            \"domain_kwargs\": {\n",
      "              \"column\": \"price\"\n",
      "            },\n",
      "            \"metric_value_kwargs\": null\n",
      "          },\n",
      "          \"num_batches\": 1\n",
      "        }\n",
      "      }\n",
      "    },\n",
      "    {\n",
      "      \"kwargs\": {\n",
      "        \"column\": \"extra_people\"\n",
      "      },\n",
      "      \"expectation_type\": \"expect_column_values_to_not_be_null\",\n",
      "      \"meta\": {\n",
      "        \"profiler_details\": {\n",
      "          \"metric_configuration\": {\n",
      "            \"metric_name\": \"column_values.nonnull.unexpected_count\",\n",
      "            \"domain_kwargs\": {\n",
      "              \"column\": \"extra_people\"\n",
      "            },\n",
      "            \"metric_value_kwargs\": null\n",
      "          },\n",
      "          \"num_batches\": 1\n",
      "        }\n",
      "      }\n",
      "    },\n",
      "    {\n",
      "      \"kwargs\": {\n",
      "        \"strict_max\": false,\n",
      "        \"strict_min\": false,\n",
      "        \"min_value\": 42.23594180770681,\n",
      "        \"max_value\": 42.23594180770681,\n",
      "        \"column\": \"latitude\"\n",
      "      },\n",
      "      \"expectation_type\": \"expect_column_min_to_be_between\",\n",
      "      \"meta\": {\n",
      "        \"profiler_details\": {\n",
      "          \"metric_configuration\": {\n",
      "            \"metric_name\": \"column.min\",\n",
      "            \"domain_kwargs\": {\n",
      "              \"column\": \"latitude\"\n",
      "            },\n",
      "            \"metric_value_kwargs\": null\n",
      "          },\n",
      "          \"num_batches\": 1\n",
      "        }\n",
      "      }\n",
      "    },\n",
      "    {\n",
      "      \"kwargs\": {\n",
      "        \"strict_max\": false,\n",
      "        \"strict_min\": false,\n",
      "        \"min_value\": 42.38998167884297,\n",
      "        \"max_value\": 42.38998167884297,\n",
      "        \"column\": \"latitude\"\n",
      "      },\n",
      "      \"expectation_type\": \"expect_column_max_to_be_between\",\n",
      "      \"meta\": {\n",
      "        \"profiler_details\": {\n",
      "          \"metric_configuration\": {\n",
      "            \"metric_name\": \"column.max\",\n",
      "            \"domain_kwargs\": {\n",
      "              \"column\": \"latitude\"\n",
      "            },\n",
      "            \"metric_value_kwargs\": null\n",
      "          },\n",
      "          \"num_batches\": 1\n",
      "        }\n",
      "      }\n",
      "    },\n",
      "    {\n",
      "      \"kwargs\": {\n",
      "        \"mostly\": 1.0,\n",
      "        \"strict_max\": false,\n",
      "        \"strict_min\": false,\n",
      "        \"min_value\": 42.23594180770681,\n",
      "        \"max_value\": 42.38998167884297,\n",
      "        \"column\": \"latitude\"\n",
      "      },\n",
      "      \"expectation_type\": \"expect_column_values_to_be_between\",\n",
      "      \"meta\": {\n",
      "        \"profiler_details\": {\n",
      "          \"column_min_values_range_estimator\": {\n",
      "            \"metric_configuration\": {\n",
      "              \"metric_name\": \"column.min\",\n",
      "              \"domain_kwargs\": {\n",
      "                \"column\": \"latitude\"\n",
      "              },\n",
      "              \"metric_value_kwargs\": null\n",
      "            },\n",
      "            \"num_batches\": 1\n",
      "          },\n",
      "          \"column_max_values_range_estimator\": {\n",
      "            \"metric_configuration\": {\n",
      "              \"metric_name\": \"column.max\",\n",
      "              \"domain_kwargs\": {\n",
      "                \"column\": \"latitude\"\n",
      "              },\n",
      "              \"metric_value_kwargs\": null\n",
      "            },\n",
      "            \"num_batches\": 1\n",
      "          }\n",
      "        }\n",
      "      }\n",
      "    },\n",
      "    {\n",
      "      \"kwargs\": {\n",
      "        \"column\": \"latitude\",\n",
      "        \"quantile_ranges\": {\n",
      "          \"quantiles\": [\n",
      "            0.25,\n",
      "            0.5,\n",
      "            0.75\n",
      "          ],\n",
      "          \"value_ranges\": [\n",
      "            [\n",
      "              42.3299945855828,\n",
      "              42.3299945855828\n",
      "            ],\n",
      "            [\n",
      "              42.34520065269172,\n",
      "              42.34520065269172\n",
      "            ],\n",
      "            [\n",
      "              42.35468545650279,\n",
      "              42.35468545650279\n",
      "            ]\n",
      "          ]\n",
      "        },\n",
      "        \"allow_relative_error\": false\n",
      "      },\n",
      "      \"expectation_type\": \"expect_column_quantile_values_to_be_between\",\n",
      "      \"meta\": {\n",
      "        \"profiler_details\": {\n",
      "          \"metric_configuration\": {\n",
      "            \"metric_name\": \"column.quantile_values\",\n",
      "            \"domain_kwargs\": {\n",
      "              \"column\": \"latitude\"\n",
      "            },\n",
      "            \"metric_value_kwargs\": {\n",
      "              \"quantiles\": [\n",
      "                0.25,\n",
      "                0.5,\n",
      "                0.75\n",
      "              ],\n",
      "              \"allow_relative_error\": false\n",
      "            }\n",
      "          },\n",
      "          \"num_batches\": 1\n",
      "        }\n",
      "      }\n",
      "    },\n",
      "    {\n",
      "      \"kwargs\": {\n",
      "        \"strict_max\": false,\n",
      "        \"strict_min\": false,\n",
      "        \"min_value\": 42.34520065269172,\n",
      "        \"max_value\": 42.34520065269172,\n",
      "        \"column\": \"latitude\"\n",
      "      },\n",
      "      \"expectation_type\": \"expect_column_median_to_be_between\",\n",
      "      \"meta\": {\n",
      "        \"profiler_details\": {\n",
      "          \"metric_configuration\": {\n",
      "            \"metric_name\": \"column.median\",\n",
      "            \"domain_kwargs\": {\n",
      "              \"column\": \"latitude\"\n",
      "            },\n",
      "            \"metric_value_kwargs\": null\n",
      "          },\n",
      "          \"num_batches\": 1\n",
      "        }\n",
      "      }\n",
      "    },\n",
      "    {\n",
      "      \"kwargs\": {\n",
      "        \"strict_max\": false,\n",
      "        \"strict_min\": false,\n",
      "        \"min_value\": 42.34003172606536,\n",
      "        \"max_value\": 42.34003172606536,\n",
      "        \"column\": \"latitude\"\n",
      "      },\n",
      "      \"expectation_type\": \"expect_column_mean_to_be_between\",\n",
      "      \"meta\": {\n",
      "        \"profiler_details\": {\n",
      "          \"metric_configuration\": {\n",
      "            \"metric_name\": \"column.mean\",\n",
      "            \"domain_kwargs\": {\n",
      "              \"column\": \"latitude\"\n",
      "            },\n",
      "            \"metric_value_kwargs\": null\n",
      "          },\n",
      "          \"num_batches\": 1\n",
      "        }\n",
      "      }\n",
      "    },\n",
      "    {\n",
      "      \"kwargs\": {\n",
      "        \"strict_max\": false,\n",
      "        \"strict_min\": false,\n",
      "        \"min_value\": 0.024402551941651186,\n",
      "        \"max_value\": 0.024402551941651186,\n",
      "        \"column\": \"latitude\"\n",
      "      },\n",
      "      \"expectation_type\": \"expect_column_stdev_to_be_between\",\n",
      "      \"meta\": {\n",
      "        \"profiler_details\": {\n",
      "          \"metric_configuration\": {\n",
      "            \"metric_name\": \"column.standard_deviation\",\n",
      "            \"domain_kwargs\": {\n",
      "              \"column\": \"latitude\"\n",
      "            },\n",
      "            \"metric_value_kwargs\": null\n",
      "          },\n",
      "          \"num_batches\": 1\n",
      "        }\n",
      "      }\n",
      "    },\n",
      "    {\n",
      "      \"kwargs\": {\n",
      "        \"strict_max\": false,\n",
      "        \"strict_min\": false,\n",
      "        \"min_value\": -71.17178882136899,\n",
      "        \"max_value\": -71.17178882136899,\n",
      "        \"column\": \"longitude\"\n",
      "      },\n",
      "      \"expectation_type\": \"expect_column_min_to_be_between\",\n",
      "      \"meta\": {\n",
      "        \"profiler_details\": {\n",
      "          \"metric_configuration\": {\n",
      "            \"metric_name\": \"column.min\",\n",
      "            \"domain_kwargs\": {\n",
      "              \"column\": \"longitude\"\n",
      "            },\n",
      "            \"metric_value_kwargs\": null\n",
      "          },\n",
      "          \"num_batches\": 1\n",
      "        }\n",
      "      }\n",
      "    },\n",
      "    {\n",
      "      \"kwargs\": {\n",
      "        \"strict_max\": false,\n",
      "        \"strict_min\": false,\n",
      "        \"min_value\": -71.00009991969033,\n",
      "        \"max_value\": -71.00009991969033,\n",
      "        \"column\": \"longitude\"\n",
      "      },\n",
      "      \"expectation_type\": \"expect_column_max_to_be_between\",\n",
      "      \"meta\": {\n",
      "        \"profiler_details\": {\n",
      "          \"metric_configuration\": {\n",
      "            \"metric_name\": \"column.max\",\n",
      "            \"domain_kwargs\": {\n",
      "              \"column\": \"longitude\"\n",
      "            },\n",
      "            \"metric_value_kwargs\": null\n",
      "          },\n",
      "          \"num_batches\": 1\n",
      "        }\n",
      "      }\n",
      "    },\n",
      "    {\n",
      "      \"kwargs\": {\n",
      "        \"mostly\": 1.0,\n",
      "        \"strict_max\": false,\n",
      "        \"strict_min\": false,\n",
      "        \"min_value\": -71.17178882136899,\n",
      "        \"max_value\": -71.00009991969033,\n",
      "        \"column\": \"longitude\"\n",
      "      },\n",
      "      \"expectation_type\": \"expect_column_values_to_be_between\",\n",
      "      \"meta\": {\n",
      "        \"profiler_details\": {\n",
      "          \"column_min_values_range_estimator\": {\n",
      "            \"metric_configuration\": {\n",
      "              \"metric_name\": \"column.min\",\n",
      "              \"domain_kwargs\": {\n",
      "                \"column\": \"longitude\"\n",
      "              },\n",
      "              \"metric_value_kwargs\": null\n",
      "            },\n",
      "            \"num_batches\": 1\n",
      "          },\n",
      "          \"column_max_values_range_estimator\": {\n",
      "            \"metric_configuration\": {\n",
      "              \"metric_name\": \"column.max\",\n",
      "              \"domain_kwargs\": {\n",
      "                \"column\": \"longitude\"\n",
      "              },\n",
      "              \"metric_value_kwargs\": null\n",
      "            },\n",
      "            \"num_batches\": 1\n",
      "          }\n",
      "        }\n",
      "      }\n",
      "    },\n",
      "    {\n",
      "      \"kwargs\": {\n",
      "        \"column\": \"longitude\",\n",
      "        \"quantile_ranges\": {\n",
      "          \"quantiles\": [\n",
      "            0.25,\n",
      "            0.5,\n",
      "            0.75\n",
      "          ],\n",
      "          \"value_ranges\": [\n",
      "            [\n",
      "              -71.10508282460825,\n",
      "              -71.10508282460825\n",
      "            ],\n",
      "            [\n",
      "              -71.07842855228066,\n",
      "              -71.07842855228066\n",
      "            ],\n",
      "            [\n",
      "              -71.06215495192623,\n",
      "              -71.06215495192623\n",
      "            ]\n",
      "          ]\n",
      "        },\n",
      "        \"allow_relative_error\": false\n",
      "      },\n",
      "      \"expectation_type\": \"expect_column_quantile_values_to_be_between\",\n",
      "      \"meta\": {\n",
      "        \"profiler_details\": {\n",
      "          \"metric_configuration\": {\n",
      "            \"metric_name\": \"column.quantile_values\",\n",
      "            \"domain_kwargs\": {\n",
      "              \"column\": \"longitude\"\n",
      "            },\n",
      "            \"metric_value_kwargs\": {\n",
      "              \"quantiles\": [\n",
      "                0.25,\n",
      "                0.5,\n",
      "                0.75\n",
      "              ],\n",
      "              \"allow_relative_error\": false\n",
      "            }\n",
      "          },\n",
      "          \"num_batches\": 1\n",
      "        }\n",
      "      }\n",
      "    },\n",
      "    {\n",
      "      \"kwargs\": {\n",
      "        \"strict_max\": false,\n",
      "        \"strict_min\": false,\n",
      "        \"min_value\": -71.07842855228066,\n",
      "        \"max_value\": -71.07842855228066,\n",
      "        \"column\": \"longitude\"\n",
      "      },\n",
      "      \"expectation_type\": \"expect_column_median_to_be_between\",\n",
      "      \"meta\": {\n",
      "        \"profiler_details\": {\n",
      "          \"metric_configuration\": {\n",
      "            \"metric_name\": \"column.median\",\n",
      "            \"domain_kwargs\": {\n",
      "              \"column\": \"longitude\"\n",
      "            },\n",
      "            \"metric_value_kwargs\": null\n",
      "          },\n",
      "          \"num_batches\": 1\n",
      "        }\n",
      "      }\n",
      "    },\n",
      "    {\n",
      "      \"kwargs\": {\n",
      "        \"strict_max\": false,\n",
      "        \"strict_min\": false,\n",
      "        \"min_value\": -71.08481755174336,\n",
      "        \"max_value\": -71.08481755174336,\n",
      "        \"column\": \"longitude\"\n",
      "      },\n",
      "      \"expectation_type\": \"expect_column_mean_to_be_between\",\n",
      "      \"meta\": {\n",
      "        \"profiler_details\": {\n",
      "          \"metric_configuration\": {\n",
      "            \"metric_name\": \"column.mean\",\n",
      "            \"domain_kwargs\": {\n",
      "              \"column\": \"longitude\"\n",
      "            },\n",
      "            \"metric_value_kwargs\": null\n",
      "          },\n",
      "          \"num_batches\": 1\n",
      "        }\n",
      "      }\n",
      "    },\n",
      "    {\n",
      "      \"kwargs\": {\n",
      "        \"strict_max\": false,\n",
      "        \"strict_min\": false,\n",
      "        \"min_value\": 0.031564644816943654,\n",
      "        \"max_value\": 0.031564644816943654,\n",
      "        \"column\": \"longitude\"\n",
      "      },\n",
      "      \"expectation_type\": \"expect_column_stdev_to_be_between\",\n",
      "      \"meta\": {\n",
      "        \"profiler_details\": {\n",
      "          \"metric_configuration\": {\n",
      "            \"metric_name\": \"column.standard_deviation\",\n",
      "            \"domain_kwargs\": {\n",
      "              \"column\": \"longitude\"\n",
      "            },\n",
      "            \"metric_value_kwargs\": null\n",
      "          },\n",
      "          \"num_batches\": 1\n",
      "        }\n",
      "      }\n",
      "    },\n",
      "    {\n",
      "      \"kwargs\": {\n",
      "        \"mostly\": 1.0,\n",
      "        \"strict_max\": false,\n",
      "        \"strict_min\": false,\n",
      "        \"min_value\": 3,\n",
      "        \"max_value\": 25,\n",
      "        \"column\": \"city\"\n",
      "      },\n",
      "      \"expectation_type\": \"expect_column_value_lengths_to_be_between\",\n",
      "      \"meta\": {\n",
      "        \"profiler_details\": {\n",
      "          \"column_min_length_range_estimator\": {\n",
      "            \"metric_configuration\": {\n",
      "              \"metric_name\": \"column_values.length.min\",\n",
      "              \"domain_kwargs\": {\n",
      "                \"column\": \"city\"\n",
      "              },\n",
      "              \"metric_value_kwargs\": null\n",
      "            },\n",
      "            \"num_batches\": 1\n",
      "          },\n",
      "          \"column_max_length_range_estimator\": {\n",
      "            \"metric_configuration\": {\n",
      "              \"metric_name\": \"column_values.length.max\",\n",
      "              \"domain_kwargs\": {\n",
      "                \"column\": \"city\"\n",
      "              },\n",
      "              \"metric_value_kwargs\": null\n",
      "            },\n",
      "            \"num_batches\": 1\n",
      "          }\n",
      "        }\n",
      "      }\n",
      "    },\n",
      "    {\n",
      "      \"kwargs\": {\n",
      "        \"mostly\": 1.0,\n",
      "        \"strict_max\": false,\n",
      "        \"strict_min\": false,\n",
      "        \"min_value\": 2,\n",
      "        \"max_value\": 2,\n",
      "        \"column\": \"state\"\n",
      "      },\n",
      "      \"expectation_type\": \"expect_column_value_lengths_to_be_between\",\n",
      "      \"meta\": {\n",
      "        \"profiler_details\": {\n",
      "          \"column_min_length_range_estimator\": {\n",
      "            \"metric_configuration\": {\n",
      "              \"metric_name\": \"column_values.length.min\",\n",
      "              \"domain_kwargs\": {\n",
      "                \"column\": \"state\"\n",
      "              },\n",
      "              \"metric_value_kwargs\": null\n",
      "            },\n",
      "            \"num_batches\": 1\n",
      "          },\n",
      "          \"column_max_length_range_estimator\": {\n",
      "            \"metric_configuration\": {\n",
      "              \"metric_name\": \"column_values.length.max\",\n",
      "              \"domain_kwargs\": {\n",
      "                \"column\": \"state\"\n",
      "              },\n",
      "              \"metric_value_kwargs\": null\n",
      "            },\n",
      "            \"num_batches\": 1\n",
      "          }\n",
      "        }\n",
      "      }\n",
      "    },\n",
      "    {\n",
      "      \"kwargs\": {\n",
      "        \"mostly\": 1.0,\n",
      "        \"regex\": \"[A-Za-z0-9\\\\.,;:!?()\\\\\\\"'%\\\\-]+\",\n",
      "        \"column\": \"state\"\n",
      "      },\n",
      "      \"expectation_type\": \"expect_column_values_to_match_regex\",\n",
      "      \"meta\": {\n",
      "        \"profiler_details\": {\n",
      "          \"success_ratio\": 1.0,\n",
      "          \"evaluated_regexes\": {\n",
      "            \"[A-Za-z0-9\\\\.,;:!?()\\\\\\\"'%\\\\-]+\": 1.0,\n",
      "            \"<\\\\/?(?:p|a|b|img)(?: \\\\/)?>\": 0.0,\n",
      "            \"^\\\\s+\": 0.0,\n",
      "            \"-?\\\\d+(?:\\\\.\\\\d*)?\": 0.0,\n",
      "            \"\\\\d+\": 0.0,\n",
      "            \"https?:\\\\/\\\\/(?:www\\\\.)?[-a-zA-Z0-9@:%._\\\\+~#=]{2,255}\\\\.[a-z]{2,6}\\\\b(?:[-a-zA-Z0-9@:%_\\\\+.~#()?&//=]*)\": 0.0,\n",
      "            \"(?:25[0-5]|2[0-4]\\\\d|[01]\\\\d{2}|\\\\d{1,2})(?:.(?:25[0-5]|2[0-4]\\\\d|[01]\\\\d{2}|\\\\d{1,2})){3}\": 0.0,\n",
      "            \"\\\\b[0-9a-fA-F]{8}\\\\b-[0-9a-fA-F]{4}-[0-5][0-9a-fA-F]{3}-[089ab][0-9a-fA-F]{3}-\\\\b[0-9a-fA-F]{12}\\\\b \": 0.0,\n",
      "            \"\\\\s+$\": 0.0,\n",
      "            \"-?\\\\d+\": 0.0\n",
      "          }\n",
      "        }\n",
      "      }\n",
      "    },\n",
      "    {\n",
      "      \"kwargs\": {\n",
      "        \"mostly\": 1.0,\n",
      "        \"strict_max\": false,\n",
      "        \"strict_min\": false,\n",
      "        \"min_value\": 2,\n",
      "        \"max_value\": 2,\n",
      "        \"column\": \"country_code\"\n",
      "      },\n",
      "      \"expectation_type\": \"expect_column_value_lengths_to_be_between\",\n",
      "      \"meta\": {\n",
      "        \"profiler_details\": {\n",
      "          \"column_min_length_range_estimator\": {\n",
      "            \"metric_configuration\": {\n",
      "              \"metric_name\": \"column_values.length.min\",\n",
      "              \"domain_kwargs\": {\n",
      "                \"column\": \"country_code\"\n",
      "              },\n",
      "              \"metric_value_kwargs\": null\n",
      "            },\n",
      "            \"num_batches\": 1\n",
      "          },\n",
      "          \"column_max_length_range_estimator\": {\n",
      "            \"metric_configuration\": {\n",
      "              \"metric_name\": \"column_values.length.max\",\n",
      "              \"domain_kwargs\": {\n",
      "                \"column\": \"country_code\"\n",
      "              },\n",
      "              \"metric_value_kwargs\": null\n",
      "            },\n",
      "            \"num_batches\": 1\n",
      "          }\n",
      "        }\n",
      "      }\n",
      "    },\n",
      "    {\n",
      "      \"kwargs\": {\n",
      "        \"mostly\": 1.0,\n",
      "        \"regex\": \"[A-Za-z0-9\\\\.,;:!?()\\\\\\\"'%\\\\-]+\",\n",
      "        \"column\": \"country_code\"\n",
      "      },\n",
      "      \"expectation_type\": \"expect_column_values_to_match_regex\",\n",
      "      \"meta\": {\n",
      "        \"profiler_details\": {\n",
      "          \"success_ratio\": 1.0,\n",
      "          \"evaluated_regexes\": {\n",
      "            \"[A-Za-z0-9\\\\.,;:!?()\\\\\\\"'%\\\\-]+\": 1.0,\n",
      "            \"<\\\\/?(?:p|a|b|img)(?: \\\\/)?>\": 0.0,\n",
      "            \"^\\\\s+\": 0.0,\n",
      "            \"-?\\\\d+(?:\\\\.\\\\d*)?\": 0.0,\n",
      "            \"\\\\d+\": 0.0,\n",
      "            \"https?:\\\\/\\\\/(?:www\\\\.)?[-a-zA-Z0-9@:%._\\\\+~#=]{2,255}\\\\.[a-z]{2,6}\\\\b(?:[-a-zA-Z0-9@:%_\\\\+.~#()?&//=]*)\": 0.0,\n",
      "            \"(?:25[0-5]|2[0-4]\\\\d|[01]\\\\d{2}|\\\\d{1,2})(?:.(?:25[0-5]|2[0-4]\\\\d|[01]\\\\d{2}|\\\\d{1,2})){3}\": 0.0,\n",
      "            \"\\\\b[0-9a-fA-F]{8}\\\\b-[0-9a-fA-F]{4}-[0-5][0-9a-fA-F]{3}-[089ab][0-9a-fA-F]{3}-\\\\b[0-9a-fA-F]{12}\\\\b \": 0.0,\n",
      "            \"\\\\s+$\": 0.0,\n",
      "            \"-?\\\\d+\": 0.0\n",
      "          }\n",
      "        }\n",
      "      }\n",
      "    },\n",
      "    {\n",
      "      \"kwargs\": {\n",
      "        \"mostly\": 1.0,\n",
      "        \"strict_max\": false,\n",
      "        \"strict_min\": false,\n",
      "        \"min_value\": 13,\n",
      "        \"max_value\": 13,\n",
      "        \"column\": \"country\"\n",
      "      },\n",
      "      \"expectation_type\": \"expect_column_value_lengths_to_be_between\",\n",
      "      \"meta\": {\n",
      "        \"profiler_details\": {\n",
      "          \"column_min_length_range_estimator\": {\n",
      "            \"metric_configuration\": {\n",
      "              \"metric_name\": \"column_values.length.min\",\n",
      "              \"domain_kwargs\": {\n",
      "                \"column\": \"country\"\n",
      "              },\n",
      "              \"metric_value_kwargs\": null\n",
      "            },\n",
      "            \"num_batches\": 1\n",
      "          },\n",
      "          \"column_max_length_range_estimator\": {\n",
      "            \"metric_configuration\": {\n",
      "              \"metric_name\": \"column_values.length.max\",\n",
      "              \"domain_kwargs\": {\n",
      "                \"column\": \"country\"\n",
      "              },\n",
      "              \"metric_value_kwargs\": null\n",
      "            },\n",
      "            \"num_batches\": 1\n",
      "          }\n",
      "        }\n",
      "      }\n",
      "    },\n",
      "    {\n",
      "      \"kwargs\": {\n",
      "        \"mostly\": 1.0,\n",
      "        \"regex\": \"[A-Za-z0-9\\\\.,;:!?()\\\\\\\"'%\\\\-]+\",\n",
      "        \"column\": \"country\"\n",
      "      },\n",
      "      \"expectation_type\": \"expect_column_values_to_match_regex\",\n",
      "      \"meta\": {\n",
      "        \"profiler_details\": {\n",
      "          \"success_ratio\": 1.0,\n",
      "          \"evaluated_regexes\": {\n",
      "            \"[A-Za-z0-9\\\\.,;:!?()\\\\\\\"'%\\\\-]+\": 1.0,\n",
      "            \"<\\\\/?(?:p|a|b|img)(?: \\\\/)?>\": 0.0,\n",
      "            \"^\\\\s+\": 0.0,\n",
      "            \"-?\\\\d+(?:\\\\.\\\\d*)?\": 0.0,\n",
      "            \"\\\\d+\": 0.0,\n",
      "            \"https?:\\\\/\\\\/(?:www\\\\.)?[-a-zA-Z0-9@:%._\\\\+~#=]{2,255}\\\\.[a-z]{2,6}\\\\b(?:[-a-zA-Z0-9@:%_\\\\+.~#()?&//=]*)\": 0.0,\n",
      "            \"(?:25[0-5]|2[0-4]\\\\d|[01]\\\\d{2}|\\\\d{1,2})(?:.(?:25[0-5]|2[0-4]\\\\d|[01]\\\\d{2}|\\\\d{1,2})){3}\": 0.0,\n",
      "            \"\\\\b[0-9a-fA-F]{8}\\\\b-[0-9a-fA-F]{4}-[0-5][0-9a-fA-F]{3}-[089ab][0-9a-fA-F]{3}-\\\\b[0-9a-fA-F]{12}\\\\b \": 0.0,\n",
      "            \"\\\\s+$\": 0.0,\n",
      "            \"-?\\\\d+\": 0.0\n",
      "          }\n",
      "        }\n",
      "      }\n",
      "    },\n",
      "    {\n",
      "      \"kwargs\": {\n",
      "        \"mostly\": 1.0,\n",
      "        \"strict_max\": false,\n",
      "        \"strict_min\": false,\n",
      "        \"min_value\": 6,\n",
      "        \"max_value\": 9,\n",
      "        \"column\": \"price\"\n",
      "      },\n",
      "      \"expectation_type\": \"expect_column_value_lengths_to_be_between\",\n",
      "      \"meta\": {\n",
      "        \"profiler_details\": {\n",
      "          \"column_min_length_range_estimator\": {\n",
      "            \"metric_configuration\": {\n",
      "              \"metric_name\": \"column_values.length.min\",\n",
      "              \"domain_kwargs\": {\n",
      "                \"column\": \"price\"\n",
      "              },\n",
      "              \"metric_value_kwargs\": null\n",
      "            },\n",
      "            \"num_batches\": 1\n",
      "          },\n",
      "          \"column_max_length_range_estimator\": {\n",
      "            \"metric_configuration\": {\n",
      "              \"metric_name\": \"column_values.length.max\",\n",
      "              \"domain_kwargs\": {\n",
      "                \"column\": \"price\"\n",
      "              },\n",
      "              \"metric_value_kwargs\": null\n",
      "            },\n",
      "            \"num_batches\": 1\n",
      "          }\n",
      "        }\n",
      "      }\n",
      "    },\n",
      "    {\n",
      "      \"kwargs\": {\n",
      "        \"mostly\": 1.0,\n",
      "        \"regex\": \"-?\\\\d+(?:\\\\.\\\\d*)?\",\n",
      "        \"column\": \"price\"\n",
      "      },\n",
      "      \"expectation_type\": \"expect_column_values_to_match_regex\",\n",
      "      \"meta\": {\n",
      "        \"profiler_details\": {\n",
      "          \"success_ratio\": 1.0,\n",
      "          \"evaluated_regexes\": {\n",
      "            \"-?\\\\d+(?:\\\\.\\\\d*)?\": 1.0,\n",
      "            \"\\\\d+\": 1.0,\n",
      "            \"[A-Za-z0-9\\\\.,;:!?()\\\\\\\"'%\\\\-]+\": 1.0,\n",
      "            \"-?\\\\d+\": 1.0,\n",
      "            \"(?:25[0-5]|2[0-4]\\\\d|[01]\\\\d{2}|\\\\d{1,2})(?:.(?:25[0-5]|2[0-4]\\\\d|[01]\\\\d{2}|\\\\d{1,2})){3}\": 0.0033472803347280333,\n",
      "            \"<\\\\/?(?:p|a|b|img)(?: \\\\/)?>\": 0.0,\n",
      "            \"^\\\\s+\": 0.0,\n",
      "            \"https?:\\\\/\\\\/(?:www\\\\.)?[-a-zA-Z0-9@:%._\\\\+~#=]{2,255}\\\\.[a-z]{2,6}\\\\b(?:[-a-zA-Z0-9@:%_\\\\+.~#()?&//=]*)\": 0.0,\n",
      "            \"\\\\b[0-9a-fA-F]{8}\\\\b-[0-9a-fA-F]{4}-[0-5][0-9a-fA-F]{3}-[089ab][0-9a-fA-F]{3}-\\\\b[0-9a-fA-F]{12}\\\\b \": 0.0,\n",
      "            \"\\\\s+$\": 0.0\n",
      "          }\n",
      "        }\n",
      "      }\n",
      "    },\n",
      "    {\n",
      "      \"kwargs\": {\n",
      "        \"mostly\": 1.0,\n",
      "        \"strict_max\": false,\n",
      "        \"strict_min\": false,\n",
      "        \"min_value\": 5,\n",
      "        \"max_value\": 7,\n",
      "        \"column\": \"extra_people\"\n",
      "      },\n",
      "      \"expectation_type\": \"expect_column_value_lengths_to_be_between\",\n",
      "      \"meta\": {\n",
      "        \"profiler_details\": {\n",
      "          \"column_min_length_range_estimator\": {\n",
      "            \"metric_configuration\": {\n",
      "              \"metric_name\": \"column_values.length.min\",\n",
      "              \"domain_kwargs\": {\n",
      "                \"column\": \"extra_people\"\n",
      "              },\n",
      "              \"metric_value_kwargs\": null\n",
      "            },\n",
      "            \"num_batches\": 1\n",
      "          },\n",
      "          \"column_max_length_range_estimator\": {\n",
      "            \"metric_configuration\": {\n",
      "              \"metric_name\": \"column_values.length.max\",\n",
      "              \"domain_kwargs\": {\n",
      "                \"column\": \"extra_people\"\n",
      "              },\n",
      "              \"metric_value_kwargs\": null\n",
      "            },\n",
      "            \"num_batches\": 1\n",
      "          }\n",
      "        }\n",
      "      }\n",
      "    },\n",
      "    {\n",
      "      \"kwargs\": {\n",
      "        \"mostly\": 1.0,\n",
      "        \"regex\": \"-?\\\\d+(?:\\\\.\\\\d*)?\",\n",
      "        \"column\": \"extra_people\"\n",
      "      },\n",
      "      \"expectation_type\": \"expect_column_values_to_match_regex\",\n",
      "      \"meta\": {\n",
      "        \"profiler_details\": {\n",
      "          \"success_ratio\": 1.0,\n",
      "          \"evaluated_regexes\": {\n",
      "            \"-?\\\\d+(?:\\\\.\\\\d*)?\": 1.0,\n",
      "            \"\\\\d+\": 1.0,\n",
      "            \"[A-Za-z0-9\\\\.,;:!?()\\\\\\\"'%\\\\-]+\": 1.0,\n",
      "            \"-?\\\\d+\": 1.0,\n",
      "            \"<\\\\/?(?:p|a|b|img)(?: \\\\/)?>\": 0.0,\n",
      "            \"^\\\\s+\": 0.0,\n",
      "            \"https?:\\\\/\\\\/(?:www\\\\.)?[-a-zA-Z0-9@:%._\\\\+~#=]{2,255}\\\\.[a-z]{2,6}\\\\b(?:[-a-zA-Z0-9@:%_\\\\+.~#()?&//=]*)\": 0.0,\n",
      "            \"(?:25[0-5]|2[0-4]\\\\d|[01]\\\\d{2}|\\\\d{1,2})(?:.(?:25[0-5]|2[0-4]\\\\d|[01]\\\\d{2}|\\\\d{1,2})){3}\": 0.0,\n",
      "            \"\\\\b[0-9a-fA-F]{8}\\\\b-[0-9a-fA-F]{4}-[0-5][0-9a-fA-F]{3}-[089ab][0-9a-fA-F]{3}-\\\\b[0-9a-fA-F]{12}\\\\b \": 0.0,\n",
      "            \"\\\\s+$\": 0.0\n",
      "          }\n",
      "        }\n",
      "      }\n",
      "    },\n",
      "    {\n",
      "      \"kwargs\": {\n",
      "        \"mostly\": 1.0,\n",
      "        \"column\": \"city\",\n",
      "        \"value_set\": [\n",
      "          \"Brookline\",\n",
      "          \"West Roxbury\",\n",
      "          \"Roslindale, Boston\",\n",
      "          \"Mattapan\",\n",
      "          \"Boston\",\n",
      "          \"Milton\",\n",
      "          \"Boston, Massachusetts, US\",\n",
      "          \"Jamaica Plain, MA\",\n",
      "          \"dorchester, boston \",\n",
      "          \"East Boston\",\n",
      "          \"Brighton \",\n",
      "          \"Allston\",\n",
      "          \"Brighton\",\n",
      "          \"Boston \",\n",
      "          \"ALLSTON\",\n",
      "          \"Jamaica plain \",\n",
      "          \"Cambridge\",\n",
      "          \"Watertown\",\n",
      "          \"Roxbury Crossing\",\n",
      "          \"Roslindale\",\n",
      "          \"Charlestown\",\n",
      "          \"Boston (Jamaica Plain)\",\n",
      "          \"Boston (Charlestown)\",\n",
      "          \"Dorchester\",\n",
      "          \"Jamaica Plain, Boston\",\n",
      "          \"Jamaica Plain \",\n",
      "          \"Newton\",\n",
      "          \"Jamaica Plain (Boston)\",\n",
      "          \"ROXBURY CROSSING\",\n",
      "          \"South End, Boston\",\n",
      "          \"east Boston \",\n",
      "          \"boston\",\n",
      "          \"Somerville\",\n",
      "          \"South Boston\",\n",
      "          \"\\u6ce2\\u58eb\\u987f\",\n",
      "          \"Mission Hill, Boston\",\n",
      "          \"Jamaica Plain\",\n",
      "          \"Hyde Park\"\n",
      "        ]\n",
      "      },\n",
      "      \"expectation_type\": \"expect_column_values_to_be_in_set\",\n",
      "      \"meta\": {\n",
      "        \"profiler_details\": {\n",
      "          \"metric_configuration\": {\n",
      "            \"metric_name\": \"column.distinct_values\",\n",
      "            \"domain_kwargs\": {\n",
      "              \"column\": \"city\"\n",
      "            },\n",
      "            \"metric_value_kwargs\": null\n",
      "          },\n",
      "          \"num_batches\": 1,\n",
      "          \"parse_strings_as_datetimes\": false\n",
      "        }\n",
      "      }\n",
      "    },\n",
      "    {\n",
      "      \"kwargs\": {\n",
      "        \"strict_max\": false,\n",
      "        \"strict_min\": false,\n",
      "        \"min_value\": 38,\n",
      "        \"max_value\": 38,\n",
      "        \"column\": \"city\"\n",
      "      },\n",
      "      \"expectation_type\": \"expect_column_unique_value_count_to_be_between\",\n",
      "      \"meta\": {\n",
      "        \"profiler_details\": {\n",
      "          \"metric_configuration\": {\n",
      "            \"metric_name\": \"column.distinct_values.count\",\n",
      "            \"domain_kwargs\": {\n",
      "              \"column\": \"city\"\n",
      "            },\n",
      "            \"metric_value_kwargs\": null\n",
      "          },\n",
      "          \"num_batches\": 1\n",
      "        }\n",
      "      }\n",
      "    },\n",
      "    {\n",
      "      \"kwargs\": {\n",
      "        \"strict_max\": false,\n",
      "        \"strict_min\": false,\n",
      "        \"min_value\": 0.010605637733742674,\n",
      "        \"max_value\": 0.010605637733742674,\n",
      "        \"column\": \"city\"\n",
      "      },\n",
      "      \"expectation_type\": \"expect_column_proportion_of_unique_values_to_be_between\",\n",
      "      \"meta\": {\n",
      "        \"profiler_details\": {\n",
      "          \"metric_configuration\": {\n",
      "            \"metric_name\": \"column.unique_proportion\",\n",
      "            \"domain_kwargs\": {\n",
      "              \"column\": \"city\"\n",
      "            },\n",
      "            \"metric_value_kwargs\": null\n",
      "          },\n",
      "          \"num_batches\": 1\n",
      "        }\n",
      "      }\n",
      "    },\n",
      "    {\n",
      "      \"kwargs\": {\n",
      "        \"mostly\": 1.0,\n",
      "        \"column\": \"state\",\n",
      "        \"value_set\": [\n",
      "          \"MA\"\n",
      "        ]\n",
      "      },\n",
      "      \"expectation_type\": \"expect_column_values_to_be_in_set\",\n",
      "      \"meta\": {\n",
      "        \"profiler_details\": {\n",
      "          \"metric_configuration\": {\n",
      "            \"metric_name\": \"column.distinct_values\",\n",
      "            \"domain_kwargs\": {\n",
      "              \"column\": \"state\"\n",
      "            },\n",
      "            \"metric_value_kwargs\": null\n",
      "          },\n",
      "          \"num_batches\": 1,\n",
      "          \"parse_strings_as_datetimes\": false\n",
      "        }\n",
      "      }\n",
      "    },\n",
      "    {\n",
      "      \"kwargs\": {\n",
      "        \"strict_max\": false,\n",
      "        \"strict_min\": false,\n",
      "        \"min_value\": 1,\n",
      "        \"max_value\": 1,\n",
      "        \"column\": \"state\"\n",
      "      },\n",
      "      \"expectation_type\": \"expect_column_unique_value_count_to_be_between\",\n",
      "      \"meta\": {\n",
      "        \"profiler_details\": {\n",
      "          \"metric_configuration\": {\n",
      "            \"metric_name\": \"column.distinct_values.count\",\n",
      "            \"domain_kwargs\": {\n",
      "              \"column\": \"state\"\n",
      "            },\n",
      "            \"metric_value_kwargs\": null\n",
      "          },\n",
      "          \"num_batches\": 1\n",
      "        }\n",
      "      }\n",
      "    },\n",
      "    {\n",
      "      \"kwargs\": {\n",
      "        \"strict_max\": false,\n",
      "        \"strict_min\": false,\n",
      "        \"min_value\": 0.0002789400278940028,\n",
      "        \"max_value\": 0.0002789400278940028,\n",
      "        \"column\": \"state\"\n",
      "      },\n",
      "      \"expectation_type\": \"expect_column_proportion_of_unique_values_to_be_between\",\n",
      "      \"meta\": {\n",
      "        \"profiler_details\": {\n",
      "          \"metric_configuration\": {\n",
      "            \"metric_name\": \"column.unique_proportion\",\n",
      "            \"domain_kwargs\": {\n",
      "              \"column\": \"state\"\n",
      "            },\n",
      "            \"metric_value_kwargs\": null\n",
      "          },\n",
      "          \"num_batches\": 1\n",
      "        }\n",
      "      }\n",
      "    },\n",
      "    {\n",
      "      \"kwargs\": {\n",
      "        \"mostly\": 1.0,\n",
      "        \"column\": \"country_code\",\n",
      "        \"value_set\": [\n",
      "          \"US\"\n",
      "        ]\n",
      "      },\n",
      "      \"expectation_type\": \"expect_column_values_to_be_in_set\",\n",
      "      \"meta\": {\n",
      "        \"profiler_details\": {\n",
      "          \"metric_configuration\": {\n",
      "            \"metric_name\": \"column.distinct_values\",\n",
      "            \"domain_kwargs\": {\n",
      "              \"column\": \"country_code\"\n",
      "            },\n",
      "            \"metric_value_kwargs\": null\n",
      "          },\n",
      "          \"num_batches\": 1,\n",
      "          \"parse_strings_as_datetimes\": false\n",
      "        }\n",
      "      }\n",
      "    },\n",
      "    {\n",
      "      \"kwargs\": {\n",
      "        \"strict_max\": false,\n",
      "        \"strict_min\": false,\n",
      "        \"min_value\": 1,\n",
      "        \"max_value\": 1,\n",
      "        \"column\": \"country_code\"\n",
      "      },\n",
      "      \"expectation_type\": \"expect_column_unique_value_count_to_be_between\",\n",
      "      \"meta\": {\n",
      "        \"profiler_details\": {\n",
      "          \"metric_configuration\": {\n",
      "            \"metric_name\": \"column.distinct_values.count\",\n",
      "            \"domain_kwargs\": {\n",
      "              \"column\": \"country_code\"\n",
      "            },\n",
      "            \"metric_value_kwargs\": null\n",
      "          },\n",
      "          \"num_batches\": 1\n",
      "        }\n",
      "      }\n",
      "    },\n",
      "    {\n",
      "      \"kwargs\": {\n",
      "        \"strict_max\": false,\n",
      "        \"strict_min\": false,\n",
      "        \"min_value\": 0.0002789400278940028,\n",
      "        \"max_value\": 0.0002789400278940028,\n",
      "        \"column\": \"country_code\"\n",
      "      },\n",
      "      \"expectation_type\": \"expect_column_proportion_of_unique_values_to_be_between\",\n",
      "      \"meta\": {\n",
      "        \"profiler_details\": {\n",
      "          \"metric_configuration\": {\n",
      "            \"metric_name\": \"column.unique_proportion\",\n",
      "            \"domain_kwargs\": {\n",
      "              \"column\": \"country_code\"\n",
      "            },\n",
      "            \"metric_value_kwargs\": null\n",
      "          },\n",
      "          \"num_batches\": 1\n",
      "        }\n",
      "      }\n",
      "    },\n",
      "    {\n",
      "      \"kwargs\": {\n",
      "        \"mostly\": 1.0,\n",
      "        \"column\": \"country\",\n",
      "        \"value_set\": [\n",
      "          \"United States\"\n",
      "        ]\n",
      "      },\n",
      "      \"expectation_type\": \"expect_column_values_to_be_in_set\",\n",
      "      \"meta\": {\n",
      "        \"profiler_details\": {\n",
      "          \"metric_configuration\": {\n",
      "            \"metric_name\": \"column.distinct_values\",\n",
      "            \"domain_kwargs\": {\n",
      "              \"column\": \"country\"\n",
      "            },\n",
      "            \"metric_value_kwargs\": null\n",
      "          },\n",
      "          \"num_batches\": 1,\n",
      "          \"parse_strings_as_datetimes\": false\n",
      "        }\n",
      "      }\n",
      "    },\n",
      "    {\n",
      "      \"kwargs\": {\n",
      "        \"strict_max\": false,\n",
      "        \"strict_min\": false,\n",
      "        \"min_value\": 1,\n",
      "        \"max_value\": 1,\n",
      "        \"column\": \"country\"\n",
      "      },\n",
      "      \"expectation_type\": \"expect_column_unique_value_count_to_be_between\",\n",
      "      \"meta\": {\n",
      "        \"profiler_details\": {\n",
      "          \"metric_configuration\": {\n",
      "            \"metric_name\": \"column.distinct_values.count\",\n",
      "            \"domain_kwargs\": {\n",
      "              \"column\": \"country\"\n",
      "            },\n",
      "            \"metric_value_kwargs\": null\n",
      "          },\n",
      "          \"num_batches\": 1\n",
      "        }\n",
      "      }\n",
      "    },\n",
      "    {\n",
      "      \"kwargs\": {\n",
      "        \"strict_max\": false,\n",
      "        \"strict_min\": false,\n",
      "        \"min_value\": 0.0002789400278940028,\n",
      "        \"max_value\": 0.0002789400278940028,\n",
      "        \"column\": \"country\"\n",
      "      },\n",
      "      \"expectation_type\": \"expect_column_proportion_of_unique_values_to_be_between\",\n",
      "      \"meta\": {\n",
      "        \"profiler_details\": {\n",
      "          \"metric_configuration\": {\n",
      "            \"metric_name\": \"column.unique_proportion\",\n",
      "            \"domain_kwargs\": {\n",
      "              \"column\": \"country\"\n",
      "            },\n",
      "            \"metric_value_kwargs\": null\n",
      "          },\n",
      "          \"num_batches\": 1\n",
      "        }\n",
      "      }\n",
      "    },\n",
      "    {\n",
      "      \"kwargs\": {\n",
      "        \"mostly\": 1.0,\n",
      "        \"column\": \"extra_people\",\n",
      "        \"value_set\": []\n",
      "      },\n",
      "      \"expectation_type\": \"expect_column_values_to_be_in_set\",\n",
      "      \"meta\": {\n",
      "        \"profiler_details\": {\n",
      "          \"metric_configuration\": {\n",
      "            \"metric_name\": \"column.distinct_values\",\n",
      "            \"domain_kwargs\": {\n",
      "              \"column\": \"extra_people\"\n",
      "            },\n",
      "            \"metric_value_kwargs\": null\n",
      "          },\n",
      "          \"num_batches\": 1,\n",
      "          \"parse_strings_as_datetimes\": false\n",
      "        }\n",
      "      }\n",
      "    },\n",
      "    {\n",
      "      \"kwargs\": {\n",
      "        \"strict_max\": false,\n",
      "        \"strict_min\": false,\n",
      "        \"min_value\": 51,\n",
      "        \"max_value\": 51,\n",
      "        \"column\": \"extra_people\"\n",
      "      },\n",
      "      \"expectation_type\": \"expect_column_unique_value_count_to_be_between\",\n",
      "      \"meta\": {\n",
      "        \"profiler_details\": {\n",
      "          \"metric_configuration\": {\n",
      "            \"metric_name\": \"column.distinct_values.count\",\n",
      "            \"domain_kwargs\": {\n",
      "              \"column\": \"extra_people\"\n",
      "            },\n",
      "            \"metric_value_kwargs\": null\n",
      "          },\n",
      "          \"num_batches\": 1\n",
      "        }\n",
      "      }\n",
      "    },\n",
      "    {\n",
      "      \"kwargs\": {\n",
      "        \"strict_max\": false,\n",
      "        \"strict_min\": false,\n",
      "        \"min_value\": 0.014225941422594143,\n",
      "        \"max_value\": 0.014225941422594143,\n",
      "        \"column\": \"extra_people\"\n",
      "      },\n",
      "      \"expectation_type\": \"expect_column_proportion_of_unique_values_to_be_between\",\n",
      "      \"meta\": {\n",
      "        \"profiler_details\": {\n",
      "          \"metric_configuration\": {\n",
      "            \"metric_name\": \"column.unique_proportion\",\n",
      "            \"domain_kwargs\": {\n",
      "              \"column\": \"extra_people\"\n",
      "            },\n",
      "            \"metric_value_kwargs\": null\n",
      "          },\n",
      "          \"num_batches\": 1\n",
      "        }\n",
      "      }\n",
      "    }\n",
      "  ],\n",
      "  \"ge_cloud_id\": null,\n",
      "  \"meta\": {\n",
      "    \"great_expectations_version\": \"0.16.11\",\n",
      "    \"citations\": [\n",
      "      {\n",
      "        \"citation_date\": \"2023-05-09T18:07:31.760787Z\",\n",
      "        \"comment\": \"Created by effective Rule-Based Profiler of OnboardingDataAssistant with the configuration included.\\n\"\n",
      "      }\n",
      "    ]\n",
      "  },\n",
      "  \"data_asset_type\": null,\n",
      "  \"expectation_suite_name\": \"airbnb.boston.listings.csv\"\n",
      "}\n",
      "2023-05-10T01:07:32+0700 - INFO - \t51 expectation(s) included in expectation_suite.\n",
      "2023-05-10T01:07:32+0700 - INFO - \t51 expectation(s) included in expectation_suite.\n"
     ]
    },
    {
     "data": {
      "application/vnd.jupyter.widget-view+json": {
       "model_id": "afe81647ba1b4d1daa121e1fdeadd949",
       "version_major": 2,
       "version_minor": 0
      },
      "text/plain": [
       "Calculating Metrics:   0%|          | 0/168 [00:00<?, ?it/s]"
      ]
     },
     "metadata": {},
     "output_type": "display_data"
    }
   ],
   "source": [
    "print(validator.get_expectation_suite(discard_failed_expectations=False))\n",
    "validator.save_expectation_suite(discard_failed_expectations=False)\n",
    "\n",
    "checkpoint_config = {\n",
    "    \"class_name\": \"SimpleCheckpoint\",\n",
    "    \"validations\": [\n",
    "        {\n",
    "            \"batch_request\": batch_request,\n",
    "            \"expectation_suite_name\": expectation_suite_name\n",
    "        }\n",
    "    ]\n",
    "}\n",
    "checkpoint = SimpleCheckpoint(\n",
    "    f\"{validator.active_batch_definition.data_asset_name}_{expectation_suite_name}\",\n",
    "    context,\n",
    "    **checkpoint_config\n",
    ")\n",
    "checkpoint_result = checkpoint.run()\n",
    "\n",
    "context.build_data_docs()\n",
    "\n",
    "validation_result_identifier = checkpoint_result.list_validation_result_identifiers()[0]\n",
    "context.open_data_docs(resource_identifier=validation_result_identifier)"
   ]
  },
  {
   "attachments": {},
   "cell_type": "markdown",
   "id": "9e8555b1",
   "metadata": {},
   "source": [
    "## Next steps\n",
    "After you review this initial Expectation Suite in Data Docs you\n",
    "should edit this suite to make finer grained adjustments to the expectations.\n",
    "This can be done by running `great_expectations suite edit airbnb.boston.listings.csv`."
   ]
  }
 ],
 "metadata": {
  "kernelspec": {
   "display_name": "Python 3 (ipykernel)",
   "language": "python",
   "name": "python3"
  },
  "language_info": {
   "codemirror_mode": {
    "name": "ipython",
    "version": 3
   },
   "file_extension": ".py",
   "mimetype": "text/x-python",
   "name": "python",
   "nbconvert_exporter": "python",
   "pygments_lexer": "ipython3",
   "version": "3.8.3"
  }
 },
 "nbformat": 4,
 "nbformat_minor": 5
}
